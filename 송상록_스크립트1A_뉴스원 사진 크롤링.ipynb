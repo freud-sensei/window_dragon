{
 "cells": [
  {
   "cell_type": "code",
   "execution_count": 1,
   "metadata": {},
   "outputs": [],
   "source": [
    "from selenium import webdriver\n",
    "from selenium.webdriver.common.keys import Keys\n",
    "from selenium.webdriver.common.by import By\n",
    "import re\n",
    "import os\n",
    "import pickle\n",
    "from tqdm import tqdm\n",
    "import urllib\n",
    "from urllib.parse import urlparse"
   ]
  },
  {
   "cell_type": "code",
   "execution_count": 7,
   "metadata": {},
   "outputs": [
    {
     "name": "stderr",
     "output_type": "stream",
     "text": [
      "  0%|          | 0/73 [00:00<?, ?it/s]"
     ]
    },
    {
     "name": "stdout",
     "output_type": "stream",
     "text": [
      "page 1\n"
     ]
    },
    {
     "name": "stderr",
     "output_type": "stream",
     "text": [
      "  1%|▏         | 1/73 [00:03<04:21,  3.63s/it]"
     ]
    },
    {
     "name": "stdout",
     "output_type": "stream",
     "text": [
      "page 2\n"
     ]
    },
    {
     "name": "stderr",
     "output_type": "stream",
     "text": [
      "  3%|▎         | 2/73 [00:04<02:21,  1.99s/it]"
     ]
    },
    {
     "name": "stdout",
     "output_type": "stream",
     "text": [
      "page 3\n"
     ]
    },
    {
     "name": "stderr",
     "output_type": "stream",
     "text": [
      "  4%|▍         | 3/73 [00:06<02:18,  1.97s/it]"
     ]
    },
    {
     "name": "stdout",
     "output_type": "stream",
     "text": [
      "page 4\n"
     ]
    },
    {
     "name": "stderr",
     "output_type": "stream",
     "text": [
      "  5%|▌         | 4/73 [00:08<02:13,  1.93s/it]"
     ]
    },
    {
     "name": "stdout",
     "output_type": "stream",
     "text": [
      "page 5\n"
     ]
    },
    {
     "name": "stderr",
     "output_type": "stream",
     "text": [
      "  7%|▋         | 5/73 [00:10<02:11,  1.93s/it]"
     ]
    },
    {
     "name": "stdout",
     "output_type": "stream",
     "text": [
      "page 6\n"
     ]
    },
    {
     "name": "stderr",
     "output_type": "stream",
     "text": [
      "  8%|▊         | 6/73 [00:12<02:10,  1.95s/it]"
     ]
    },
    {
     "name": "stdout",
     "output_type": "stream",
     "text": [
      "page 7\n"
     ]
    },
    {
     "name": "stderr",
     "output_type": "stream",
     "text": [
      " 10%|▉         | 7/73 [00:14<02:08,  1.94s/it]"
     ]
    },
    {
     "name": "stdout",
     "output_type": "stream",
     "text": [
      "page 8\n"
     ]
    },
    {
     "name": "stderr",
     "output_type": "stream",
     "text": [
      " 11%|█         | 8/73 [00:15<01:57,  1.81s/it]"
     ]
    },
    {
     "name": "stdout",
     "output_type": "stream",
     "text": [
      "page 9\n"
     ]
    },
    {
     "name": "stderr",
     "output_type": "stream",
     "text": [
      " 12%|█▏        | 9/73 [00:17<01:57,  1.84s/it]"
     ]
    },
    {
     "name": "stdout",
     "output_type": "stream",
     "text": [
      "page 10\n"
     ]
    },
    {
     "name": "stderr",
     "output_type": "stream",
     "text": [
      " 14%|█▎        | 10/73 [00:19<01:52,  1.79s/it]"
     ]
    },
    {
     "name": "stdout",
     "output_type": "stream",
     "text": [
      "page 11\n"
     ]
    },
    {
     "name": "stderr",
     "output_type": "stream",
     "text": [
      " 15%|█▌        | 11/73 [00:21<01:52,  1.81s/it]"
     ]
    },
    {
     "name": "stdout",
     "output_type": "stream",
     "text": [
      "page 12\n"
     ]
    },
    {
     "name": "stderr",
     "output_type": "stream",
     "text": [
      " 16%|█▋        | 12/73 [00:23<01:59,  1.95s/it]"
     ]
    },
    {
     "name": "stdout",
     "output_type": "stream",
     "text": [
      "page 13\n"
     ]
    },
    {
     "name": "stderr",
     "output_type": "stream",
     "text": [
      " 18%|█▊        | 13/73 [00:24<01:46,  1.77s/it]"
     ]
    },
    {
     "name": "stdout",
     "output_type": "stream",
     "text": [
      "page 14\n"
     ]
    },
    {
     "name": "stderr",
     "output_type": "stream",
     "text": [
      " 19%|█▉        | 14/73 [00:26<01:45,  1.78s/it]"
     ]
    },
    {
     "name": "stdout",
     "output_type": "stream",
     "text": [
      "page 15\n"
     ]
    },
    {
     "name": "stderr",
     "output_type": "stream",
     "text": [
      " 21%|██        | 15/73 [00:28<01:40,  1.74s/it]"
     ]
    },
    {
     "name": "stdout",
     "output_type": "stream",
     "text": [
      "page 16\n"
     ]
    },
    {
     "name": "stderr",
     "output_type": "stream",
     "text": [
      " 22%|██▏       | 16/73 [00:28<01:21,  1.43s/it]"
     ]
    },
    {
     "name": "stdout",
     "output_type": "stream",
     "text": [
      "page 17\n"
     ]
    },
    {
     "name": "stderr",
     "output_type": "stream",
     "text": [
      " 23%|██▎       | 17/73 [00:30<01:22,  1.47s/it]"
     ]
    },
    {
     "name": "stdout",
     "output_type": "stream",
     "text": [
      "page 18\n"
     ]
    },
    {
     "name": "stderr",
     "output_type": "stream",
     "text": [
      " 25%|██▍       | 18/73 [00:34<01:59,  2.17s/it]"
     ]
    },
    {
     "name": "stdout",
     "output_type": "stream",
     "text": [
      "page 19\n"
     ]
    },
    {
     "name": "stderr",
     "output_type": "stream",
     "text": [
      " 26%|██▌       | 19/73 [00:35<01:49,  2.02s/it]"
     ]
    },
    {
     "name": "stdout",
     "output_type": "stream",
     "text": [
      "page 20\n"
     ]
    },
    {
     "name": "stderr",
     "output_type": "stream",
     "text": [
      " 27%|██▋       | 20/73 [00:37<01:40,  1.91s/it]"
     ]
    },
    {
     "name": "stdout",
     "output_type": "stream",
     "text": [
      "page 21\n"
     ]
    },
    {
     "name": "stderr",
     "output_type": "stream",
     "text": [
      " 29%|██▉       | 21/73 [00:39<01:42,  1.96s/it]"
     ]
    },
    {
     "name": "stdout",
     "output_type": "stream",
     "text": [
      "page 22\n"
     ]
    },
    {
     "name": "stderr",
     "output_type": "stream",
     "text": [
      " 30%|███       | 22/73 [00:40<01:30,  1.78s/it]"
     ]
    },
    {
     "name": "stdout",
     "output_type": "stream",
     "text": [
      "page 23\n"
     ]
    },
    {
     "name": "stderr",
     "output_type": "stream",
     "text": [
      " 32%|███▏      | 23/73 [00:42<01:18,  1.57s/it]"
     ]
    },
    {
     "name": "stdout",
     "output_type": "stream",
     "text": [
      "page 24\n"
     ]
    },
    {
     "name": "stderr",
     "output_type": "stream",
     "text": [
      " 33%|███▎      | 24/73 [00:44<01:23,  1.71s/it]"
     ]
    },
    {
     "name": "stdout",
     "output_type": "stream",
     "text": [
      "page 25\n"
     ]
    },
    {
     "name": "stderr",
     "output_type": "stream",
     "text": [
      " 34%|███▍      | 25/73 [00:45<01:20,  1.67s/it]"
     ]
    },
    {
     "name": "stdout",
     "output_type": "stream",
     "text": [
      "page 26\n"
     ]
    },
    {
     "name": "stderr",
     "output_type": "stream",
     "text": [
      " 36%|███▌      | 26/73 [00:46<01:12,  1.54s/it]"
     ]
    },
    {
     "name": "stdout",
     "output_type": "stream",
     "text": [
      "page 27\n"
     ]
    },
    {
     "name": "stderr",
     "output_type": "stream",
     "text": [
      " 37%|███▋      | 27/73 [00:48<01:15,  1.64s/it]"
     ]
    },
    {
     "name": "stdout",
     "output_type": "stream",
     "text": [
      "page 28\n"
     ]
    },
    {
     "name": "stderr",
     "output_type": "stream",
     "text": [
      " 38%|███▊      | 28/73 [00:49<01:05,  1.47s/it]"
     ]
    },
    {
     "name": "stdout",
     "output_type": "stream",
     "text": [
      "page 29\n"
     ]
    },
    {
     "name": "stderr",
     "output_type": "stream",
     "text": [
      " 40%|███▉      | 29/73 [00:51<01:07,  1.52s/it]"
     ]
    },
    {
     "name": "stdout",
     "output_type": "stream",
     "text": [
      "page 30\n"
     ]
    },
    {
     "name": "stderr",
     "output_type": "stream",
     "text": [
      " 41%|████      | 30/73 [00:53<01:04,  1.51s/it]"
     ]
    },
    {
     "name": "stdout",
     "output_type": "stream",
     "text": [
      "page 31\n"
     ]
    },
    {
     "name": "stderr",
     "output_type": "stream",
     "text": [
      " 42%|████▏     | 31/73 [00:54<00:57,  1.37s/it]"
     ]
    },
    {
     "name": "stdout",
     "output_type": "stream",
     "text": [
      "page 32\n"
     ]
    },
    {
     "name": "stderr",
     "output_type": "stream",
     "text": [
      " 44%|████▍     | 32/73 [00:55<00:59,  1.45s/it]"
     ]
    },
    {
     "name": "stdout",
     "output_type": "stream",
     "text": [
      "page 33\n"
     ]
    },
    {
     "name": "stderr",
     "output_type": "stream",
     "text": [
      " 45%|████▌     | 33/73 [00:57<00:57,  1.44s/it]"
     ]
    },
    {
     "name": "stdout",
     "output_type": "stream",
     "text": [
      "page 34\n"
     ]
    },
    {
     "name": "stderr",
     "output_type": "stream",
     "text": [
      " 47%|████▋     | 34/73 [00:58<00:55,  1.41s/it]"
     ]
    },
    {
     "name": "stdout",
     "output_type": "stream",
     "text": [
      "page 35\n"
     ]
    },
    {
     "name": "stderr",
     "output_type": "stream",
     "text": [
      " 48%|████▊     | 35/73 [00:59<00:54,  1.44s/it]"
     ]
    },
    {
     "name": "stdout",
     "output_type": "stream",
     "text": [
      "page 36\n"
     ]
    },
    {
     "name": "stderr",
     "output_type": "stream",
     "text": [
      " 49%|████▉     | 36/73 [01:01<00:53,  1.44s/it]"
     ]
    },
    {
     "name": "stdout",
     "output_type": "stream",
     "text": [
      "page 37\n"
     ]
    },
    {
     "name": "stderr",
     "output_type": "stream",
     "text": [
      " 51%|█████     | 37/73 [01:02<00:51,  1.42s/it]"
     ]
    },
    {
     "name": "stdout",
     "output_type": "stream",
     "text": [
      "page 38\n"
     ]
    },
    {
     "name": "stderr",
     "output_type": "stream",
     "text": [
      " 52%|█████▏    | 38/73 [01:04<00:51,  1.47s/it]"
     ]
    },
    {
     "name": "stdout",
     "output_type": "stream",
     "text": [
      "page 39\n"
     ]
    },
    {
     "name": "stderr",
     "output_type": "stream",
     "text": [
      " 53%|█████▎    | 39/73 [01:05<00:50,  1.48s/it]"
     ]
    },
    {
     "name": "stdout",
     "output_type": "stream",
     "text": [
      "page 40\n"
     ]
    },
    {
     "name": "stderr",
     "output_type": "stream",
     "text": [
      " 55%|█████▍    | 40/73 [01:07<00:51,  1.55s/it]"
     ]
    },
    {
     "name": "stdout",
     "output_type": "stream",
     "text": [
      "page 41\n"
     ]
    },
    {
     "name": "stderr",
     "output_type": "stream",
     "text": [
      " 56%|█████▌    | 41/73 [01:09<00:52,  1.63s/it]"
     ]
    },
    {
     "name": "stdout",
     "output_type": "stream",
     "text": [
      "page 42\n"
     ]
    },
    {
     "name": "stderr",
     "output_type": "stream",
     "text": [
      " 58%|█████▊    | 42/73 [01:10<00:50,  1.61s/it]"
     ]
    },
    {
     "name": "stdout",
     "output_type": "stream",
     "text": [
      "page 43\n"
     ]
    },
    {
     "name": "stderr",
     "output_type": "stream",
     "text": [
      " 59%|█████▉    | 43/73 [01:12<00:47,  1.58s/it]"
     ]
    },
    {
     "name": "stdout",
     "output_type": "stream",
     "text": [
      "page 44\n"
     ]
    },
    {
     "name": "stderr",
     "output_type": "stream",
     "text": [
      " 60%|██████    | 44/73 [01:13<00:44,  1.52s/it]"
     ]
    },
    {
     "name": "stdout",
     "output_type": "stream",
     "text": [
      "page 45\n"
     ]
    },
    {
     "name": "stderr",
     "output_type": "stream",
     "text": [
      " 62%|██████▏   | 45/73 [01:16<00:48,  1.73s/it]"
     ]
    },
    {
     "name": "stdout",
     "output_type": "stream",
     "text": [
      "page 46\n"
     ]
    },
    {
     "name": "stderr",
     "output_type": "stream",
     "text": [
      " 63%|██████▎   | 46/73 [01:17<00:46,  1.73s/it]"
     ]
    },
    {
     "name": "stdout",
     "output_type": "stream",
     "text": [
      "page 47\n"
     ]
    },
    {
     "name": "stderr",
     "output_type": "stream",
     "text": [
      " 64%|██████▍   | 47/73 [01:19<00:44,  1.72s/it]"
     ]
    },
    {
     "name": "stdout",
     "output_type": "stream",
     "text": [
      "page 48\n"
     ]
    },
    {
     "name": "stderr",
     "output_type": "stream",
     "text": [
      " 66%|██████▌   | 48/73 [01:20<00:38,  1.52s/it]"
     ]
    },
    {
     "name": "stdout",
     "output_type": "stream",
     "text": [
      "page 49\n"
     ]
    },
    {
     "name": "stderr",
     "output_type": "stream",
     "text": [
      " 67%|██████▋   | 49/73 [01:22<00:40,  1.67s/it]"
     ]
    },
    {
     "name": "stdout",
     "output_type": "stream",
     "text": [
      "page 50\n"
     ]
    },
    {
     "name": "stderr",
     "output_type": "stream",
     "text": [
      " 68%|██████▊   | 50/73 [01:25<00:43,  1.90s/it]"
     ]
    },
    {
     "name": "stdout",
     "output_type": "stream",
     "text": [
      "page 51\n"
     ]
    },
    {
     "name": "stderr",
     "output_type": "stream",
     "text": [
      " 70%|██████▉   | 51/73 [01:26<00:42,  1.92s/it]"
     ]
    },
    {
     "name": "stdout",
     "output_type": "stream",
     "text": [
      "page 52\n"
     ]
    },
    {
     "name": "stderr",
     "output_type": "stream",
     "text": [
      " 71%|███████   | 52/73 [01:29<00:43,  2.08s/it]"
     ]
    },
    {
     "name": "stdout",
     "output_type": "stream",
     "text": [
      "page 53\n"
     ]
    },
    {
     "name": "stderr",
     "output_type": "stream",
     "text": [
      " 73%|███████▎  | 53/73 [01:30<00:34,  1.73s/it]"
     ]
    },
    {
     "name": "stdout",
     "output_type": "stream",
     "text": [
      "page 54\n"
     ]
    },
    {
     "name": "stderr",
     "output_type": "stream",
     "text": [
      " 74%|███████▍  | 54/73 [01:31<00:32,  1.70s/it]"
     ]
    },
    {
     "name": "stdout",
     "output_type": "stream",
     "text": [
      "page 55\n"
     ]
    },
    {
     "name": "stderr",
     "output_type": "stream",
     "text": [
      " 75%|███████▌  | 55/73 [01:33<00:29,  1.64s/it]"
     ]
    },
    {
     "name": "stdout",
     "output_type": "stream",
     "text": [
      "page 56\n"
     ]
    },
    {
     "name": "stderr",
     "output_type": "stream",
     "text": [
      " 77%|███████▋  | 56/73 [01:36<00:34,  2.03s/it]"
     ]
    },
    {
     "name": "stdout",
     "output_type": "stream",
     "text": [
      "page 57\n"
     ]
    },
    {
     "name": "stderr",
     "output_type": "stream",
     "text": [
      " 78%|███████▊  | 57/73 [01:37<00:29,  1.83s/it]"
     ]
    },
    {
     "name": "stdout",
     "output_type": "stream",
     "text": [
      "page 58\n"
     ]
    },
    {
     "name": "stderr",
     "output_type": "stream",
     "text": [
      " 79%|███████▉  | 58/73 [01:40<00:29,  1.95s/it]"
     ]
    },
    {
     "name": "stdout",
     "output_type": "stream",
     "text": [
      "page 59\n"
     ]
    },
    {
     "name": "stderr",
     "output_type": "stream",
     "text": [
      " 81%|████████  | 59/73 [01:42<00:27,  1.98s/it]"
     ]
    },
    {
     "name": "stdout",
     "output_type": "stream",
     "text": [
      "page 60\n"
     ]
    },
    {
     "name": "stderr",
     "output_type": "stream",
     "text": [
      " 82%|████████▏ | 60/73 [01:43<00:23,  1.81s/it]"
     ]
    },
    {
     "name": "stdout",
     "output_type": "stream",
     "text": [
      "page 61\n"
     ]
    },
    {
     "name": "stderr",
     "output_type": "stream",
     "text": [
      " 84%|████████▎ | 61/73 [01:44<00:20,  1.67s/it]"
     ]
    },
    {
     "name": "stdout",
     "output_type": "stream",
     "text": [
      "page 62\n"
     ]
    },
    {
     "name": "stderr",
     "output_type": "stream",
     "text": [
      " 85%|████████▍ | 62/73 [01:46<00:18,  1.72s/it]"
     ]
    },
    {
     "name": "stdout",
     "output_type": "stream",
     "text": [
      "page 63\n"
     ]
    },
    {
     "name": "stderr",
     "output_type": "stream",
     "text": [
      " 86%|████████▋ | 63/73 [01:49<00:19,  1.92s/it]"
     ]
    },
    {
     "name": "stdout",
     "output_type": "stream",
     "text": [
      "page 64\n"
     ]
    },
    {
     "name": "stderr",
     "output_type": "stream",
     "text": [
      " 88%|████████▊ | 64/73 [01:50<00:15,  1.71s/it]"
     ]
    },
    {
     "name": "stdout",
     "output_type": "stream",
     "text": [
      "page 65\n"
     ]
    },
    {
     "name": "stderr",
     "output_type": "stream",
     "text": [
      " 89%|████████▉ | 65/73 [01:52<00:15,  1.88s/it]"
     ]
    },
    {
     "name": "stdout",
     "output_type": "stream",
     "text": [
      "page 66\n"
     ]
    },
    {
     "name": "stderr",
     "output_type": "stream",
     "text": [
      " 90%|█████████ | 66/73 [01:54<00:12,  1.81s/it]"
     ]
    },
    {
     "name": "stdout",
     "output_type": "stream",
     "text": [
      "page 67\n"
     ]
    },
    {
     "name": "stderr",
     "output_type": "stream",
     "text": [
      " 92%|█████████▏| 67/73 [01:55<00:09,  1.51s/it]"
     ]
    },
    {
     "name": "stdout",
     "output_type": "stream",
     "text": [
      "page 68\n"
     ]
    },
    {
     "name": "stderr",
     "output_type": "stream",
     "text": [
      " 93%|█████████▎| 68/73 [01:56<00:07,  1.48s/it]"
     ]
    },
    {
     "name": "stdout",
     "output_type": "stream",
     "text": [
      "page 69\n"
     ]
    },
    {
     "name": "stderr",
     "output_type": "stream",
     "text": [
      " 95%|█████████▍| 69/73 [01:58<00:06,  1.60s/it]"
     ]
    },
    {
     "name": "stdout",
     "output_type": "stream",
     "text": [
      "page 70\n"
     ]
    },
    {
     "name": "stderr",
     "output_type": "stream",
     "text": [
      " 96%|█████████▌| 70/73 [02:00<00:05,  1.75s/it]"
     ]
    },
    {
     "name": "stdout",
     "output_type": "stream",
     "text": [
      "page 71\n"
     ]
    },
    {
     "name": "stderr",
     "output_type": "stream",
     "text": [
      " 97%|█████████▋| 71/73 [02:01<00:03,  1.57s/it]"
     ]
    },
    {
     "name": "stdout",
     "output_type": "stream",
     "text": [
      "page 72\n"
     ]
    },
    {
     "name": "stderr",
     "output_type": "stream",
     "text": [
      " 99%|█████████▊| 72/73 [02:03<00:01,  1.60s/it]"
     ]
    },
    {
     "name": "stdout",
     "output_type": "stream",
     "text": [
      "page 73\n"
     ]
    },
    {
     "name": "stderr",
     "output_type": "stream",
     "text": [
      "100%|██████████| 73/73 [02:06<00:00,  1.74s/it]"
     ]
    },
    {
     "name": "stdout",
     "output_type": "stream",
     "text": [
      "{'lcy_pictures/n1_20240321_1.jpg': 'https://image.news1.kr/system/photos/2024/3/21/6547407/no_water.jpg', 'lcy_pictures/n1_20240321_2.jpg': 'https://image.news1.kr/system/photos/2024/3/21/6547409/no_water.jpg', 'lcy_pictures/n1_20240321_3.jpg': 'https://image.news1.kr/system/photos/2024/3/21/6547271/no_water.jpg', 'lcy_pictures/n1_20240321_4.jpg': 'https://image.news1.kr/system/photos/2024/3/21/6547265/no_water.jpg', 'lcy_pictures/n1_20240305_1.jpg': 'https://image.news1.kr/system/photos/2024/3/5/6515460/no_water.jpg', 'lcy_pictures/n1_20240305_2.jpg': 'https://image.news1.kr/system/photos/2024/3/5/6515451/no_water.jpg', 'lcy_pictures/n1_20240305_3.jpg': 'https://image.news1.kr/system/photos/2024/3/5/6515450/no_water.jpg', 'lcy_pictures/n1_20240305_4.jpg': 'https://image.news1.kr/system/photos/2024/3/5/6515452/no_water.jpg', 'lcy_pictures/n1_20240222_1.jpg': 'https://image.news1.kr/system/photos/2024/2/22/6495405/no_water.jpg', 'lcy_pictures/n1_20240222_2.jpg': 'https://image.news1.kr/system/photos/2024/2/22/6495409/no_water.jpg', 'lcy_pictures/n1_20240222_3.jpg': 'https://image.news1.kr/system/photos/2024/2/22/6495413/no_water.jpg', 'lcy_pictures/n1_20240222_4.jpg': 'https://image.news1.kr/system/photos/2024/2/22/6495415/no_water.jpg', 'lcy_pictures/n1_20240222_5.jpg': 'https://image.news1.kr/system/photos/2024/2/22/6495298/no_water.jpg', 'lcy_pictures/n1_20240222_6.jpg': 'https://image.news1.kr/system/photos/2024/2/22/6495296/no_water.jpg', 'lcy_pictures/n1_20240222_7.jpg': 'https://image.news1.kr/system/photos/2024/2/22/6495294/no_water.jpg', 'lcy_pictures/n1_20240222_8.jpg': 'https://image.news1.kr/system/photos/2024/2/22/6494735/no_water.jpg', 'lcy_pictures/n1_20240222_9.jpg': 'https://image.news1.kr/system/photos/2024/2/22/6494733/no_water.jpg', 'lcy_pictures/n1_20240222_10.jpg': 'https://image.news1.kr/system/photos/2024/2/22/6494728/no_water.jpg', 'lcy_pictures/n1_20240222_11.jpg': 'https://image.news1.kr/system/photos/2024/2/22/6494727/no_water.jpg', 'lcy_pictures/n1_20240222_12.jpg': 'https://image.news1.kr/system/photos/2024/2/22/6494651/no_water.jpg', 'lcy_pictures/n1_20240222_13.jpg': 'https://image.news1.kr/system/photos/2024/2/22/6494648/no_water.jpg', 'lcy_pictures/n1_20240222_14.jpg': 'https://image.news1.kr/system/photos/2024/2/22/6494643/no_water.jpg', 'lcy_pictures/n1_20240222_15.jpg': 'https://image.news1.kr/system/photos/2024/2/22/6494644/no_water.jpg', 'lcy_pictures/n1_20240222_16.jpg': 'https://image.news1.kr/system/photos/2024/2/22/6494645/no_water.jpg', 'lcy_pictures/n1_20240222_17.jpg': 'https://image.news1.kr/system/photos/2024/2/22/6494646/no_water.jpg', 'lcy_pictures/n1_20240222_18.jpg': 'https://image.news1.kr/system/photos/2024/2/22/6494642/no_water.jpg', 'lcy_pictures/n1_20240206_1.jpg': 'https://image.news1.kr/system/photos/2024/2/6/6470452/no_water.jpg', 'lcy_pictures/n1_20240206_2.jpg': 'https://image.news1.kr/system/photos/2024/2/6/6470453/no_water.jpg', 'lcy_pictures/n1_20240206_3.jpg': 'https://image.news1.kr/system/photos/2024/2/6/6470441/no_water.jpg', 'lcy_pictures/n1_20240206_4.jpg': 'https://image.news1.kr/system/photos/2024/2/6/6470442/no_water.jpg', 'lcy_pictures/n1_20240206_5.jpg': 'https://image.news1.kr/system/photos/2024/2/6/6470446/no_water.jpg', 'lcy_pictures/n1_20240206_6.jpg': 'https://image.news1.kr/system/photos/2024/2/6/6470480/no_water.jpg', 'lcy_pictures/n1_20240206_7.jpg': 'https://image.news1.kr/system/photos/2024/2/6/6470479/no_water.jpg', 'lcy_pictures/n1_20240206_8.jpg': 'https://image.news1.kr/system/photos/2024/2/6/6470474/no_water.jpg', 'lcy_pictures/n1_20240206_9.jpg': 'https://image.news1.kr/system/photos/2024/2/6/6470465/no_water.jpg', 'lcy_pictures/n1_20240206_10.jpg': 'https://image.news1.kr/system/photos/2024/2/6/6470464/no_water.jpg', 'lcy_pictures/n1_20240206_11.jpg': 'https://image.news1.kr/system/photos/2024/2/6/6470440/no_water.jpg', 'lcy_pictures/n1_20240201_1.jpg': 'https://image.news1.kr/system/photos/2024/2/1/6461328/no_water.jpg', 'lcy_pictures/n1_20240201_2.jpg': 'https://image.news1.kr/system/photos/2024/2/1/6461325/no_water.jpg', 'lcy_pictures/n1_20240201_3.jpg': 'https://image.news1.kr/system/photos/2024/2/1/6460808/no_water.jpg', 'lcy_pictures/n1_20240131_1.jpg': 'https://image.news1.kr/system/photos/2024/1/31/6459982/no_water.jpg', 'lcy_pictures/n1_20240131_2.jpg': 'https://image.news1.kr/system/photos/2024/1/31/6459975/no_water.jpg', 'lcy_pictures/n1_20240111_1.jpg': 'https://image.news1.kr/system/photos/2024/1/11/6423169/no_water.jpg', 'lcy_pictures/n1_20240111_2.jpg': 'https://image.news1.kr/system/photos/2024/1/11/6423170/no_water.jpg', 'lcy_pictures/n1_20240111_3.jpg': 'https://image.news1.kr/system/photos/2024/1/11/6423171/no_water.jpg', 'lcy_pictures/n1_20240111_4.jpg': 'https://image.news1.kr/system/photos/2024/1/11/6423173/no_water.jpg', 'lcy_pictures/n1_20240111_5.jpg': 'https://image.news1.kr/system/photos/2024/1/11/6423172/no_water.jpg', 'lcy_pictures/n1_20240111_6.jpg': 'https://image.news1.kr/system/photos/2024/1/11/6423175/no_water.jpg', 'lcy_pictures/n1_20240111_7.jpg': 'https://image.news1.kr/system/photos/2024/1/11/6423176/no_water.jpg', 'lcy_pictures/n1_20240111_8.jpg': 'https://image.news1.kr/system/photos/2024/1/11/6423168/no_water.jpg', 'lcy_pictures/n1_20240111_9.jpg': 'https://image.news1.kr/system/photos/2024/1/11/6423167/no_water.jpg', 'lcy_pictures/n1_20240111_10.jpg': 'https://image.news1.kr/system/photos/2024/1/11/6423165/no_water.jpg', 'lcy_pictures/n1_20240111_11.jpg': 'https://image.news1.kr/system/photos/2024/1/11/6423110/no_water.jpg', 'lcy_pictures/n1_20240111_12.jpg': 'https://image.news1.kr/system/photos/2024/1/11/6423101/no_water.jpg', 'lcy_pictures/n1_20240111_13.jpg': 'https://image.news1.kr/system/photos/2024/1/11/6423097/no_water.jpg', 'lcy_pictures/n1_20240111_14.jpg': 'https://image.news1.kr/system/photos/2024/1/11/6423094/no_water.jpg', 'lcy_pictures/n1_20240111_15.jpg': 'https://image.news1.kr/system/photos/2024/1/11/6423095/no_water.jpg', 'lcy_pictures/n1_20240111_16.jpg': 'https://image.news1.kr/system/photos/2024/1/11/6423092/no_water.jpg', 'lcy_pictures/n1_20240111_17.jpg': 'https://image.news1.kr/system/photos/2024/1/11/6423091/no_water.jpg', 'lcy_pictures/n1_20240111_18.jpg': 'https://image.news1.kr/system/photos/2024/1/11/6423090/no_water.jpg', 'lcy_pictures/n1_20240111_19.jpg': 'https://image.news1.kr/system/photos/2024/1/11/6422506/no_water.jpg', 'lcy_pictures/n1_20240111_20.jpg': 'https://image.news1.kr/system/photos/2024/1/11/6422511/no_water.jpg', 'lcy_pictures/n1_20240111_21.jpg': 'https://image.news1.kr/system/photos/2024/1/11/6422509/no_water.jpg', 'lcy_pictures/n1_20240111_22.jpg': 'https://image.news1.kr/system/photos/2024/1/11/6422504/no_water.jpg', 'lcy_pictures/n1_20240111_23.jpg': 'https://image.news1.kr/system/photos/2024/1/11/6422502/no_water.jpg', 'lcy_pictures/n1_20240111_24.jpg': 'https://image.news1.kr/system/photos/2024/1/11/6422501/no_water.jpg', 'lcy_pictures/n1_20240111_25.jpg': 'https://image.news1.kr/system/photos/2024/1/11/6422497/no_water.jpg', 'lcy_pictures/n1_20240111_26.jpg': 'https://image.news1.kr/system/photos/2024/1/11/6422495/no_water.jpg', 'lcy_pictures/n1_20240111_27.jpg': 'https://image.news1.kr/system/photos/2024/1/11/6422494/no_water.jpg', 'lcy_pictures/n1_20240111_28.jpg': 'https://image.news1.kr/system/photos/2024/1/11/6422492/no_water.jpg', 'lcy_pictures/n1_20240111_29.jpg': 'https://image.news1.kr/system/photos/2024/1/11/6422491/no_water.jpg', 'lcy_pictures/n1_20240111_30.jpg': 'https://image.news1.kr/system/photos/2024/1/11/6422474/no_water.jpg', 'lcy_pictures/n1_20240111_31.jpg': 'https://image.news1.kr/system/photos/2024/1/11/6422469/no_water.jpg', 'lcy_pictures/n1_20240111_32.jpg': 'https://image.news1.kr/system/photos/2024/1/11/6422467/no_water.jpg', 'lcy_pictures/n1_20240111_33.jpg': 'https://image.news1.kr/system/photos/2024/1/11/6422465/no_water.jpg', 'lcy_pictures/n1_20240111_34.jpg': 'https://image.news1.kr/system/photos/2024/1/11/6422464/no_water.jpg', 'lcy_pictures/n1_20240111_35.jpg': 'https://image.news1.kr/system/photos/2024/1/11/6422462/no_water.jpg', 'lcy_pictures/n1_20240103_1.jpg': 'https://image.news1.kr/system/photos/2024/1/3/6410102/no_water.jpg', 'lcy_pictures/n1_20240103_2.jpg': 'https://image.news1.kr/system/photos/2024/1/3/6410128/no_water.jpg', 'lcy_pictures/n1_20240103_3.jpg': 'https://image.news1.kr/system/photos/2024/1/3/6410123/no_water.jpg', 'lcy_pictures/n1_20240103_4.jpg': 'https://image.news1.kr/system/photos/2024/1/3/6410069/no_water.jpg', 'lcy_pictures/n1_20240102_1.jpg': 'https://image.news1.kr/system/photos/2024/1/2/6407630/no_water.jpg', 'lcy_pictures/n1_20240102_2.jpg': 'https://image.news1.kr/system/photos/2024/1/2/6407632/no_water.jpg', 'lcy_pictures/n1_20231220_1.jpg': 'https://image.news1.kr/system/photos/2023/12/20/6388975/no_water.jpg', 'lcy_pictures/n1_20231220_2.jpg': 'https://image.news1.kr/system/photos/2023/12/20/6388970/no_water.jpg', 'lcy_pictures/n1_20231220_3.jpg': 'https://image.news1.kr/system/photos/2023/12/20/6388969/no_water.jpg', 'lcy_pictures/n1_20231220_4.jpg': 'https://image.news1.kr/system/photos/2023/12/20/6388964/no_water.jpg', 'lcy_pictures/n1_20231220_5.jpg': 'https://image.news1.kr/system/photos/2023/12/20/6388966/no_water.jpg', 'lcy_pictures/n1_20231215_1.jpg': 'https://image.news1.kr/system/photos/2023/12/15/6380744/no_water.jpg', 'lcy_pictures/n1_20231215_2.jpg': 'https://image.news1.kr/system/photos/2023/12/15/6380733/no_water.jpg', 'lcy_pictures/n1_20231214_1.jpg': 'https://image.news1.kr/system/photos/2023/12/14/6378430/no_water.jpg', 'lcy_pictures/n1_20231214_2.jpg': 'https://image.news1.kr/system/photos/2023/12/14/6378429/no_water.jpg', 'lcy_pictures/n1_20231214_3.jpg': 'https://image.news1.kr/system/photos/2023/12/14/6378422/no_water.jpg', 'lcy_pictures/n1_20231130_1.jpg': 'https://image.news1.kr/system/photos/2023/11/30/6355332/no_water.jpg', 'lcy_pictures/n1_20231130_2.jpg': 'https://image.news1.kr/system/photos/2023/11/30/6355331/no_water.jpg', 'lcy_pictures/n1_20231130_3.jpg': 'https://image.news1.kr/system/photos/2023/11/30/6355330/no_water.jpg', 'lcy_pictures/n1_20231130_4.jpg': 'https://image.news1.kr/system/photos/2023/11/30/6355329/no_water.jpg', 'lcy_pictures/n1_20231130_5.jpg': 'https://image.news1.kr/system/photos/2023/11/30/6355328/no_water.jpg', 'lcy_pictures/n1_20231130_6.jpg': 'https://image.news1.kr/system/photos/2023/11/30/6355327/no_water.jpg', 'lcy_pictures/n1_20231130_7.jpg': 'https://image.news1.kr/system/photos/2023/11/30/6355323/no_water.jpg', 'lcy_pictures/n1_20231130_8.jpg': 'https://image.news1.kr/system/photos/2023/11/30/6355322/no_water.jpg', 'lcy_pictures/n1_20231130_9.jpg': 'https://image.news1.kr/system/photos/2023/11/30/6355321/no_water.jpg', 'lcy_pictures/n1_20231130_10.jpg': 'https://image.news1.kr/system/photos/2023/11/30/6355320/no_water.jpg', 'lcy_pictures/n1_20231130_11.jpg': 'https://image.news1.kr/system/photos/2023/11/30/6355319/no_water.jpg', 'lcy_pictures/n1_20231130_12.jpg': 'https://image.news1.kr/system/photos/2023/11/30/6355318/no_water.jpg', 'lcy_pictures/n1_20231130_13.jpg': 'https://image.news1.kr/system/photos/2023/11/30/6355333/no_water.jpg', 'lcy_pictures/n1_20231130_14.jpg': 'https://image.news1.kr/system/photos/2023/11/30/6355336/no_water.jpg', 'lcy_pictures/n1_20231130_15.jpg': 'https://image.news1.kr/system/photos/2023/11/30/6355339/no_water.jpg', 'lcy_pictures/n1_20231130_16.jpg': 'https://image.news1.kr/system/photos/2023/11/30/6355352/no_water.jpg', 'lcy_pictures/n1_20231130_17.jpg': 'https://image.news1.kr/system/photos/2023/11/30/6355350/no_water.jpg', 'lcy_pictures/n1_20231130_18.jpg': 'https://image.news1.kr/system/photos/2023/11/30/6355349/no_water.jpg', 'lcy_pictures/n1_20231130_19.jpg': 'https://image.news1.kr/system/photos/2023/11/30/6355347/no_water.jpg', 'lcy_pictures/n1_20231130_20.jpg': 'https://image.news1.kr/system/photos/2023/11/30/6355345/no_water.jpg', 'lcy_pictures/n1_20231130_21.jpg': 'https://image.news1.kr/system/photos/2023/11/30/6355343/no_water.jpg', 'lcy_pictures/n1_20231130_22.jpg': 'https://image.news1.kr/system/photos/2023/11/30/6355341/no_water.jpg', 'lcy_pictures/n1_20231130_23.jpg': 'https://image.news1.kr/system/photos/2023/11/30/6354499/no_water.jpg', 'lcy_pictures/n1_20231130_24.jpg': 'https://image.news1.kr/system/photos/2023/11/30/6354498/no_water.jpg', 'lcy_pictures/n1_20231130_25.jpg': 'https://image.news1.kr/system/photos/2023/11/30/6354496/no_water.jpg', 'lcy_pictures/n1_20231130_26.jpg': 'https://image.news1.kr/system/photos/2023/11/30/6354420/no_water.jpg', 'lcy_pictures/n1_20231130_27.jpg': 'https://image.news1.kr/system/photos/2023/11/30/6354417/no_water.jpg', 'lcy_pictures/n1_20231130_28.jpg': 'https://image.news1.kr/system/photos/2023/11/30/6354415/no_water.jpg', 'lcy_pictures/n1_20231130_29.jpg': 'https://image.news1.kr/system/photos/2023/11/30/6354413/no_water.jpg', 'lcy_pictures/n1_20231123_1.jpg': 'https://image.news1.kr/system/photos/2023/11/23/6342745/no_water.jpg', 'lcy_pictures/n1_20231123_2.jpg': 'https://image.news1.kr/system/photos/2023/11/23/6342744/no_water.jpg', 'lcy_pictures/n1_20231123_3.jpg': 'https://image.news1.kr/system/photos/2023/11/23/6342741/no_water.jpg', 'lcy_pictures/n1_20231123_4.jpg': 'https://image.news1.kr/system/photos/2023/11/23/6342737/no_water.jpg', 'lcy_pictures/n1_20231123_5.jpg': 'https://image.news1.kr/system/photos/2023/11/23/6342730/no_water.jpg', 'lcy_pictures/n1_20231123_6.jpg': 'https://image.news1.kr/system/photos/2023/11/23/6342761/no_water.jpg', 'lcy_pictures/n1_20231123_7.jpg': 'https://image.news1.kr/system/photos/2023/11/23/6342760/no_water.jpg', 'lcy_pictures/n1_20231123_8.jpg': 'https://image.news1.kr/system/photos/2023/11/23/6342757/no_water.jpg', 'lcy_pictures/n1_20231123_9.jpg': 'https://image.news1.kr/system/photos/2023/11/23/6342756/no_water.jpg', 'lcy_pictures/n1_20231123_10.jpg': 'https://image.news1.kr/system/photos/2023/11/23/6342751/no_water.jpg', 'lcy_pictures/n1_20231123_11.jpg': 'https://image.news1.kr/system/photos/2023/11/23/6342750/no_water.jpg', 'lcy_pictures/n1_20231123_12.jpg': 'https://image.news1.kr/system/photos/2023/11/23/6342704/no_water.jpg', 'lcy_pictures/n1_20231123_13.jpg': 'https://image.news1.kr/system/photos/2023/11/23/6342707/no_water.jpg', 'lcy_pictures/n1_20231123_14.jpg': 'https://image.news1.kr/system/photos/2023/11/23/6342708/no_water.jpg', 'lcy_pictures/n1_20231123_15.jpg': 'https://image.news1.kr/system/photos/2023/11/23/6342721/no_water.jpg', 'lcy_pictures/n1_20231123_16.jpg': 'https://image.news1.kr/system/photos/2023/11/23/6342719/no_water.jpg', 'lcy_pictures/n1_20231123_17.jpg': 'https://image.news1.kr/system/photos/2023/11/23/6342724/no_water.jpg', 'lcy_pictures/n1_20231106_1.jpg': 'https://image.news1.kr/system/photos/2023/11/6/6308734/no_water.jpg', 'lcy_pictures/n1_20231106_2.jpg': 'https://image.news1.kr/system/photos/2023/11/6/6308742/no_water.jpg', 'lcy_pictures/n1_20231106_3.jpg': 'https://image.news1.kr/system/photos/2023/11/6/6308741/no_water.jpg', 'lcy_pictures/n1_20231106_4.jpg': 'https://image.news1.kr/system/photos/2023/11/6/6308740/no_water.jpg', 'lcy_pictures/n1_20231102_1.jpg': 'https://image.news1.kr/system/photos/2023/11/2/6303249/no_water.jpg', 'lcy_pictures/n1_20231102_2.jpg': 'https://image.news1.kr/system/photos/2023/11/2/6303252/no_water.jpg', 'lcy_pictures/n1_20231102_3.jpg': 'https://image.news1.kr/system/photos/2023/11/2/6303245/no_water.jpg', 'lcy_pictures/n1_20231101_1.jpg': 'https://image.news1.kr/system/photos/2023/11/1/6300767/no_water.jpg', 'lcy_pictures/n1_20231101_2.jpg': 'https://image.news1.kr/system/photos/2023/11/1/6300765/no_water.jpg', 'lcy_pictures/n1_20231101_3.jpg': 'https://image.news1.kr/system/photos/2023/11/1/6300764/no_water.jpg', 'lcy_pictures/n1_20231101_4.jpg': 'https://image.news1.kr/system/photos/2023/11/1/6300763/no_water.jpg', 'lcy_pictures/n1_20231101_5.jpg': 'https://image.news1.kr/system/photos/2023/11/1/6300762/no_water.jpg', 'lcy_pictures/n1_20231101_6.jpg': 'https://image.news1.kr/system/photos/2023/11/1/6300761/no_water.jpg', 'lcy_pictures/n1_20231101_7.jpg': 'https://image.news1.kr/system/photos/2023/11/1/6300704/no_water.jpg', 'lcy_pictures/n1_20231101_8.jpg': 'https://image.news1.kr/system/photos/2023/11/1/6300676/no_water.jpg', 'lcy_pictures/n1_20231101_9.jpg': 'https://image.news1.kr/system/photos/2023/11/1/6300673/no_water.jpg', 'lcy_pictures/n1_20231027_1.jpg': 'https://image.news1.kr/system/photos/2023/10/27/6292056/no_water.jpg', 'lcy_pictures/n1_20231027_2.jpg': 'https://image.news1.kr/system/photos/2023/10/27/6292048/no_water.jpg', 'lcy_pictures/n1_20231027_3.jpg': 'https://image.news1.kr/system/photos/2023/10/27/6292039/no_water.jpg', 'lcy_pictures/n1_20231027_4.jpg': 'https://image.news1.kr/system/photos/2023/10/27/6292037/no_water.jpg', 'lcy_pictures/n1_20231027_5.jpg': 'https://image.news1.kr/system/photos/2023/10/27/6292035/no_water.jpg', 'lcy_pictures/n1_20231027_6.jpg': 'https://image.news1.kr/system/photos/2023/10/27/6292034/no_water.jpg', 'lcy_pictures/n1_20231027_7.jpg': 'https://image.news1.kr/system/photos/2023/10/27/6292033/no_water.jpg', 'lcy_pictures/n1_20231027_8.jpg': 'https://image.news1.kr/system/photos/2023/10/27/6292032/no_water.jpg', 'lcy_pictures/n1_20231023_1.jpg': 'https://image.news1.kr/system/photos/2023/10/23/6282166/no_water.jpg', 'lcy_pictures/n1_20231023_2.jpg': 'https://image.news1.kr/system/photos/2023/10/23/6282167/no_water.jpg', 'lcy_pictures/n1_20231023_3.jpg': 'https://image.news1.kr/system/photos/2023/10/23/6282168/no_water.jpg', 'lcy_pictures/n1_20231023_4.jpg': 'https://image.news1.kr/system/photos/2023/10/23/6282169/no_water.jpg', 'lcy_pictures/n1_20231023_5.jpg': 'https://image.news1.kr/system/photos/2023/10/23/6282174/no_water.jpg', 'lcy_pictures/n1_20231023_6.jpg': 'https://image.news1.kr/system/photos/2023/10/23/6282172/no_water.jpg', 'lcy_pictures/n1_20231023_7.jpg': 'https://image.news1.kr/system/photos/2023/10/23/6282171/no_water.jpg', 'lcy_pictures/n1_20231023_8.jpg': 'https://image.news1.kr/system/photos/2023/10/23/6282176/no_water.jpg', 'lcy_pictures/n1_20231023_9.jpg': 'https://image.news1.kr/system/photos/2023/10/23/6282179/no_water.jpg', 'lcy_pictures/n1_20231023_10.jpg': 'https://image.news1.kr/system/photos/2023/10/23/6282180/no_water.jpg', 'lcy_pictures/n1_20231019_1.jpg': 'https://image.news1.kr/system/photos/2023/10/19/6275712/no_water.jpg', 'lcy_pictures/n1_20231019_2.jpg': 'https://image.news1.kr/system/photos/2023/10/19/6275711/no_water.jpg', 'lcy_pictures/n1_20231019_3.jpg': 'https://image.news1.kr/system/photos/2023/10/19/6275713/no_water.jpg', 'lcy_pictures/n1_20231019_4.jpg': 'https://image.news1.kr/system/photos/2023/10/19/6275714/no_water.jpg', 'lcy_pictures/n1_20231019_5.jpg': 'https://image.news1.kr/system/photos/2023/10/19/6275715/no_water.jpg', 'lcy_pictures/n1_20231019_6.jpg': 'https://image.news1.kr/system/photos/2023/10/19/6275710/no_water.jpg', 'lcy_pictures/n1_20231019_7.jpg': 'https://image.news1.kr/system/photos/2023/10/19/6275709/no_water.jpg', 'lcy_pictures/n1_20231019_8.jpg': 'https://image.news1.kr/system/photos/2023/10/19/6275707/no_water.jpg', 'lcy_pictures/n1_20231019_9.jpg': 'https://image.news1.kr/system/photos/2023/10/19/6275706/no_water.jpg', 'lcy_pictures/n1_20231019_10.jpg': 'https://image.news1.kr/system/photos/2023/10/19/6275705/no_water.jpg', 'lcy_pictures/n1_20231019_11.jpg': 'https://image.news1.kr/system/photos/2023/10/19/6275703/no_water.jpg', 'lcy_pictures/n1_20231019_12.jpg': 'https://image.news1.kr/system/photos/2023/10/19/6275679/no_water.jpg', 'lcy_pictures/n1_20231019_13.jpg': 'https://image.news1.kr/system/photos/2023/10/19/6275681/no_water.jpg', 'lcy_pictures/n1_20231019_14.jpg': 'https://image.news1.kr/system/photos/2023/10/19/6275682/no_water.jpg', 'lcy_pictures/n1_20231019_15.jpg': 'https://image.news1.kr/system/photos/2023/10/19/6275683/no_water.jpg', 'lcy_pictures/n1_20231019_16.jpg': 'https://image.news1.kr/system/photos/2023/10/19/6275688/no_water.jpg', 'lcy_pictures/n1_20231019_17.jpg': 'https://image.news1.kr/system/photos/2023/10/19/6275687/no_water.jpg', 'lcy_pictures/n1_20231019_18.jpg': 'https://image.news1.kr/system/photos/2023/10/19/6275686/no_water.jpg', 'lcy_pictures/n1_20231019_19.jpg': 'https://image.news1.kr/system/photos/2023/10/19/6275684/no_water.jpg', 'lcy_pictures/n1_20231019_20.jpg': 'https://image.news1.kr/system/photos/2023/10/19/6275227/no_water.jpg', 'lcy_pictures/n1_20231019_21.jpg': 'https://image.news1.kr/system/photos/2023/10/19/6275225/no_water.jpg', 'lcy_pictures/n1_20231019_22.jpg': 'https://image.news1.kr/system/photos/2023/10/19/6275223/no_water.jpg', 'lcy_pictures/n1_20231019_23.jpg': 'https://image.news1.kr/system/photos/2023/10/19/6275222/no_water.jpg', 'lcy_pictures/n1_20231019_24.jpg': 'https://image.news1.kr/system/photos/2023/10/19/6275147/no_water.jpg', 'lcy_pictures/n1_20231019_25.jpg': 'https://image.news1.kr/system/photos/2023/10/19/6275132/no_water.jpg', 'lcy_pictures/n1_20231019_26.jpg': 'https://image.news1.kr/system/photos/2023/10/19/6275133/no_water.jpg', 'lcy_pictures/n1_20231019_27.jpg': 'https://image.news1.kr/system/photos/2023/10/19/6275134/no_water.jpg', 'lcy_pictures/n1_20231019_28.jpg': 'https://image.news1.kr/system/photos/2023/10/19/6275135/no_water.jpg', 'lcy_pictures/n1_20231019_29.jpg': 'https://image.news1.kr/system/photos/2023/10/19/6275136/no_water.jpg', 'lcy_pictures/n1_20231019_30.jpg': 'https://image.news1.kr/system/photos/2023/10/19/6275137/no_water.jpg', 'lcy_pictures/n1_20231019_31.jpg': 'https://image.news1.kr/system/photos/2023/10/19/6275144/no_water.jpg', 'lcy_pictures/n1_20231019_32.jpg': 'https://image.news1.kr/system/photos/2023/10/19/6275141/no_water.jpg', 'lcy_pictures/n1_20231019_33.jpg': 'https://image.news1.kr/system/photos/2023/10/19/6275138/no_water.jpg', 'lcy_pictures/n1_20231005_1.jpg': 'https://image.news1.kr/system/photos/2023/10/5/6250349/no_water.jpg', 'lcy_pictures/n1_20231005_2.jpg': 'https://image.news1.kr/system/photos/2023/10/5/6250348/no_water.jpg', 'lcy_pictures/n1_20230925_1.jpg': 'https://image.news1.kr/system/photos/2023/9/25/6235449/no_water.jpg', 'lcy_pictures/n1_20230921_1.jpg': 'https://image.news1.kr/system/photos/2023/9/21/6225649/no_water.jpg', 'lcy_pictures/n1_20230921_2.jpg': 'https://image.news1.kr/system/photos/2023/9/21/6225647/no_water.jpg', 'lcy_pictures/n1_20230824_1.jpg': 'https://image.news1.kr/system/photos/2023/8/24/6174665/no_water.jpg', 'lcy_pictures/n1_20230824_2.jpg': 'https://image.news1.kr/system/photos/2023/8/24/6174664/no_water.jpg', 'lcy_pictures/n1_20230824_3.jpg': 'https://image.news1.kr/system/photos/2023/8/24/6174663/no_water.jpg', 'lcy_pictures/n1_20230824_4.jpg': 'https://image.news1.kr/system/photos/2023/8/24/6174662/no_water.jpg', 'lcy_pictures/n1_20230824_5.jpg': 'https://image.news1.kr/system/photos/2023/8/24/6174675/no_water.jpg', 'lcy_pictures/n1_20230824_6.jpg': 'https://image.news1.kr/system/photos/2023/8/24/6174671/no_water.jpg', 'lcy_pictures/n1_20230824_7.jpg': 'https://image.news1.kr/system/photos/2023/8/24/6174666/no_water.jpg', 'lcy_pictures/n1_20230824_8.jpg': 'https://image.news1.kr/system/photos/2023/8/24/6174667/no_water.jpg', 'lcy_pictures/n1_20230824_9.jpg': 'https://image.news1.kr/system/photos/2023/8/24/6174668/no_water.jpg', 'lcy_pictures/n1_20230824_10.jpg': 'https://image.news1.kr/system/photos/2023/8/24/6174669/no_water.jpg', 'lcy_pictures/n1_20230824_11.jpg': 'https://image.news1.kr/system/photos/2023/8/24/6174670/no_water.jpg', 'lcy_pictures/n1_20230824_12.jpg': 'https://image.news1.kr/system/photos/2023/8/24/6174687/no_water.jpg', 'lcy_pictures/n1_20230824_13.jpg': 'https://image.news1.kr/system/photos/2023/8/24/6174682/no_water.jpg', 'lcy_pictures/n1_20230824_14.jpg': 'https://image.news1.kr/system/photos/2023/8/24/6174661/no_water.jpg', 'lcy_pictures/n1_20230824_15.jpg': 'https://image.news1.kr/system/photos/2023/8/24/6174688/no_water.jpg', 'lcy_pictures/n1_20230824_16.jpg': 'https://image.news1.kr/system/photos/2023/8/24/6174680/no_water.jpg', 'lcy_pictures/n1_20230824_17.jpg': 'https://image.news1.kr/system/photos/2023/8/24/6174681/no_water.jpg', 'lcy_pictures/n1_20230824_18.jpg': 'https://image.news1.kr/system/photos/2023/8/24/6173954/no_water.jpg', 'lcy_pictures/n1_20230824_19.jpg': 'https://image.news1.kr/system/photos/2023/8/24/6173950/no_water.jpg', 'lcy_pictures/n1_20230824_20.jpg': 'https://image.news1.kr/system/photos/2023/8/24/6173949/no_water.jpg', 'lcy_pictures/n1_20230824_21.jpg': 'https://image.news1.kr/system/photos/2023/8/24/6173970/no_water.jpg', 'lcy_pictures/n1_20230824_22.jpg': 'https://image.news1.kr/system/photos/2023/8/24/6173968/no_water.jpg', 'lcy_pictures/n1_20230824_23.jpg': 'https://image.news1.kr/system/photos/2023/8/24/6173967/no_water.jpg', 'lcy_pictures/n1_20230824_24.jpg': 'https://image.news1.kr/system/photos/2023/8/24/6173966/no_water.jpg', 'lcy_pictures/n1_20230824_25.jpg': 'https://image.news1.kr/system/photos/2023/8/24/6173964/no_water.jpg', 'lcy_pictures/n1_20230824_26.jpg': 'https://image.news1.kr/system/photos/2023/8/24/6173961/no_water.jpg', 'lcy_pictures/n1_20230824_27.jpg': 'https://image.news1.kr/system/photos/2023/8/24/6173960/no_water.jpg', 'lcy_pictures/n1_20230824_28.jpg': 'https://image.news1.kr/system/photos/2023/8/24/6173972/no_water.jpg', 'lcy_pictures/n1_20230822_1.jpg': 'https://image.news1.kr/system/photos/2023/8/22/6169848/no_water.jpg', 'lcy_pictures/n1_20230822_2.jpg': 'https://image.news1.kr/system/photos/2023/8/22/6169778/no_water.jpg', 'lcy_pictures/n1_20230822_3.jpg': 'https://image.news1.kr/system/photos/2023/8/22/6169777/no_water.jpg', 'lcy_pictures/n1_20230822_4.jpg': 'https://image.news1.kr/system/photos/2023/8/22/6169776/no_water.jpg', 'lcy_pictures/n1_20230822_5.jpg': 'https://image.news1.kr/system/photos/2023/8/22/6169773/no_water.jpg', 'lcy_pictures/n1_20230822_6.jpg': 'https://image.news1.kr/system/photos/2023/8/22/6169772/no_water.jpg', 'lcy_pictures/n1_20230822_7.jpg': 'https://image.news1.kr/system/photos/2023/8/22/6169771/no_water.jpg', 'lcy_pictures/n1_20230822_8.jpg': 'https://image.news1.kr/system/photos/2023/8/22/6169770/no_water.jpg', 'lcy_pictures/n1_20230822_9.jpg': 'https://image.news1.kr/system/photos/2023/8/22/6169748/no_water.jpg', 'lcy_pictures/n1_20230816_1.jpg': 'https://image.news1.kr/system/photos/2023/8/16/6161935/no_water.jpg', 'lcy_pictures/n1_20230816_2.jpg': 'https://image.news1.kr/system/photos/2023/8/16/6161932/no_water.jpg', 'lcy_pictures/n1_20230727_1.jpg': 'https://image.news1.kr/system/photos/2023/7/27/6127370/no_water.jpg', 'lcy_pictures/n1_20230723_1.jpg': 'https://image.news1.kr/system/photos/2023/7/23/6118652/no_water.jpg', 'lcy_pictures/n1_20230713_1.jpg': 'https://image.news1.kr/system/photos/2023/7/13/6100327/no_water.jpg', 'lcy_pictures/n1_20230713_2.jpg': 'https://image.news1.kr/system/photos/2023/7/13/6100326/no_water.jpg', 'lcy_pictures/n1_20230713_3.jpg': 'https://image.news1.kr/system/photos/2023/7/13/6100324/no_water.jpg', 'lcy_pictures/n1_20230713_4.jpg': 'https://image.news1.kr/system/photos/2023/7/13/6100329/no_water.jpg', 'lcy_pictures/n1_20230713_5.jpg': 'https://image.news1.kr/system/photos/2023/7/13/6100322/no_water.jpg', 'lcy_pictures/n1_20230713_6.jpg': 'https://image.news1.kr/system/photos/2023/7/13/6100333/no_water.jpg', 'lcy_pictures/n1_20230713_7.jpg': 'https://image.news1.kr/system/photos/2023/7/13/6100321/no_water.jpg', 'lcy_pictures/n1_20230713_8.jpg': 'https://image.news1.kr/system/photos/2023/7/13/6100320/no_water.jpg', 'lcy_pictures/n1_20230713_9.jpg': 'https://image.news1.kr/system/photos/2023/7/13/6099763/no_water.jpg', 'lcy_pictures/n1_20230713_10.jpg': 'https://image.news1.kr/system/photos/2023/7/13/6099761/no_water.jpg', 'lcy_pictures/n1_20230713_11.jpg': 'https://image.news1.kr/system/photos/2023/7/13/6099755/no_water.jpg', 'lcy_pictures/n1_20230713_12.jpg': 'https://image.news1.kr/system/photos/2023/7/13/6099753/no_water.jpg', 'lcy_pictures/n1_20230713_13.jpg': 'https://image.news1.kr/system/photos/2023/7/13/6099752/no_water.jpg', 'lcy_pictures/n1_20230713_14.jpg': 'https://image.news1.kr/system/photos/2023/7/13/6099754/no_water.jpg', 'lcy_pictures/n1_20230713_15.jpg': 'https://image.news1.kr/system/photos/2023/7/13/6099751/no_water.jpg', 'lcy_pictures/n1_20230713_16.jpg': 'https://image.news1.kr/system/photos/2023/7/13/6099750/no_water.jpg', 'lcy_pictures/n1_20230713_17.jpg': 'https://image.news1.kr/system/photos/2023/7/13/6099749/no_water.jpg', 'lcy_pictures/n1_20230620_1.jpg': 'https://image.news1.kr/system/photos/2023/6/20/6056171/no_water.jpg', 'lcy_pictures/n1_20230620_2.jpg': 'https://image.news1.kr/system/photos/2023/6/20/6056108/no_water.jpg', 'lcy_pictures/n1_20230620_3.jpg': 'https://image.news1.kr/system/photos/2023/6/20/6056105/no_water.jpg', 'lcy_pictures/n1_20230619_1.jpg': 'https://image.news1.kr/system/photos/2023/6/19/6055140/no_water.jpg', 'lcy_pictures/n1_20230619_2.jpg': 'https://image.news1.kr/system/photos/2023/6/19/6055141/no_water.jpg', 'lcy_pictures/n1_20230619_3.jpg': 'https://image.news1.kr/system/photos/2023/6/19/6055143/no_water.jpg', 'lcy_pictures/n1_20230619_4.jpg': 'https://image.news1.kr/system/photos/2023/6/19/6055145/no_water.jpg', 'lcy_pictures/n1_20230619_5.jpg': 'https://image.news1.kr/system/photos/2023/6/19/6055148/no_water.jpg', 'lcy_pictures/n1_20230619_6.jpg': 'https://image.news1.kr/system/photos/2023/6/19/6055150/no_water.jpg', 'lcy_pictures/n1_20230619_7.jpg': 'https://image.news1.kr/system/photos/2023/6/19/6055153/no_water.jpg', 'lcy_pictures/n1_20230619_8.jpg': 'https://image.news1.kr/system/photos/2023/6/19/6055152/no_water.jpg', 'lcy_pictures/n1_20230615_1.jpg': 'https://image.news1.kr/system/photos/2023/6/15/6047886/no_water.jpg', 'lcy_pictures/n1_20230612_1.jpg': 'https://image.news1.kr/system/photos/2023/6/12/6041461/no_water.jpg', 'lcy_pictures/n1_20230612_2.jpg': 'https://image.news1.kr/system/photos/2023/6/12/6041460/no_water.jpg', 'lcy_pictures/n1_20230601_1.jpg': 'https://image.news1.kr/system/photos/2023/6/1/6024898/no_water.jpg', 'lcy_pictures/n1_20230601_2.jpg': 'https://image.news1.kr/system/photos/2023/6/1/6024896/no_water.jpg', 'lcy_pictures/n1_20230601_3.jpg': 'https://image.news1.kr/system/photos/2023/6/1/6024894/no_water.jpg', 'lcy_pictures/n1_20230601_4.jpg': 'https://image.news1.kr/system/photos/2023/6/1/6024893/no_water.jpg', 'lcy_pictures/n1_20230601_5.jpg': 'https://image.news1.kr/system/photos/2023/6/1/6024892/no_water.jpg', 'lcy_pictures/n1_20230601_6.jpg': 'https://image.news1.kr/system/photos/2023/6/1/6024889/no_water.jpg', 'lcy_pictures/n1_20230601_7.jpg': 'https://image.news1.kr/system/photos/2023/6/1/6024882/no_water.jpg', 'lcy_pictures/n1_20230525_1.jpg': 'https://image.news1.kr/system/photos/2023/5/25/6013788/no_water.jpg', 'lcy_pictures/n1_20230525_2.jpg': 'https://image.news1.kr/system/photos/2023/5/25/6013789/no_water.jpg', 'lcy_pictures/n1_20230525_3.jpg': 'https://image.news1.kr/system/photos/2023/5/25/6013790/no_water.jpg', 'lcy_pictures/n1_20230525_4.jpg': 'https://image.news1.kr/system/photos/2023/5/25/6013793/no_water.jpg', 'lcy_pictures/n1_20230525_5.jpg': 'https://image.news1.kr/system/photos/2023/5/25/6013786/no_water.jpg', 'lcy_pictures/n1_20230525_6.jpg': 'https://image.news1.kr/system/photos/2023/5/25/6013785/no_water.jpg', 'lcy_pictures/n1_20230525_7.jpg': 'https://image.news1.kr/system/photos/2023/5/25/6013794/no_water.jpg', 'lcy_pictures/n1_20230525_8.jpg': 'https://image.news1.kr/system/photos/2023/5/25/6013783/no_water.jpg', 'lcy_pictures/n1_20230525_9.jpg': 'https://image.news1.kr/system/photos/2023/5/25/6013778/no_water.jpg', 'lcy_pictures/n1_20230525_10.jpg': 'https://image.news1.kr/system/photos/2023/5/25/6013172/no_water.jpg', 'lcy_pictures/n1_20230525_11.jpg': 'https://image.news1.kr/system/photos/2023/5/25/6013169/no_water.jpg', 'lcy_pictures/n1_20230525_12.jpg': 'https://image.news1.kr/system/photos/2023/5/25/6013168/no_water.jpg', 'lcy_pictures/n1_20230525_13.jpg': 'https://image.news1.kr/system/photos/2023/5/25/6013163/no_water.jpg', 'lcy_pictures/n1_20230525_14.jpg': 'https://image.news1.kr/system/photos/2023/5/25/6013158/no_water.jpg', 'lcy_pictures/n1_20230525_15.jpg': 'https://image.news1.kr/system/photos/2023/5/25/6013153/no_water.jpg', 'lcy_pictures/n1_20230525_16.jpg': 'https://image.news1.kr/system/photos/2023/5/25/6013166/no_water.jpg', 'lcy_pictures/n1_20230525_17.jpg': 'https://image.news1.kr/system/photos/2023/5/25/6013157/no_water.jpg', 'lcy_pictures/n1_20230525_18.jpg': 'https://image.news1.kr/system/photos/2023/5/25/6013148/no_water.jpg', 'lcy_pictures/n1_20230525_19.jpg': 'https://image.news1.kr/system/photos/2023/5/25/6013096/no_water.jpg', 'lcy_pictures/n1_20230525_20.jpg': 'https://image.news1.kr/system/photos/2023/5/25/6013092/no_water.jpg', 'lcy_pictures/n1_20230525_21.jpg': 'https://image.news1.kr/system/photos/2023/5/25/6013093/no_water.jpg', 'lcy_pictures/n1_20230525_22.jpg': 'https://image.news1.kr/system/photos/2023/5/25/6013085/no_water.jpg', 'lcy_pictures/n1_20230522_1.jpg': 'https://image.news1.kr/system/photos/2023/5/22/6006932/no_water.jpg', 'lcy_pictures/n1_20230522_2.jpg': 'https://image.news1.kr/system/photos/2023/5/22/6006933/no_water.jpg', 'lcy_pictures/n1_20230522_3.jpg': 'https://image.news1.kr/system/photos/2023/5/22/6006934/no_water.jpg', 'lcy_pictures/n1_20230522_4.jpg': 'https://image.news1.kr/system/photos/2023/5/22/6006935/no_water.jpg', 'lcy_pictures/n1_20230522_5.jpg': 'https://image.news1.kr/system/photos/2023/5/22/6006936/no_water.jpg', 'lcy_pictures/n1_20230522_6.jpg': 'https://image.news1.kr/system/photos/2023/5/22/6006938/no_water.jpg', 'lcy_pictures/n1_20230522_7.jpg': 'https://image.news1.kr/system/photos/2023/5/22/6006952/no_water.jpg', 'lcy_pictures/n1_20230522_8.jpg': 'https://image.news1.kr/system/photos/2023/5/22/6006953/no_water.jpg', 'lcy_pictures/n1_20230522_9.jpg': 'https://image.news1.kr/system/photos/2023/5/22/6006954/no_water.jpg', 'lcy_pictures/n1_20230522_10.jpg': 'https://image.news1.kr/system/photos/2023/5/22/6006955/no_water.jpg', 'lcy_pictures/n1_20230522_11.jpg': 'https://image.news1.kr/system/photos/2023/5/22/6006962/no_water.jpg', 'lcy_pictures/n1_20230522_12.jpg': 'https://image.news1.kr/system/photos/2023/5/22/6006964/no_water.jpg', 'lcy_pictures/n1_20230522_13.jpg': 'https://image.news1.kr/system/photos/2023/5/22/6006968/no_water.jpg', 'lcy_pictures/n1_20230522_14.jpg': 'https://image.news1.kr/system/photos/2023/5/22/6006973/no_water.jpg', 'lcy_pictures/n1_20230522_15.jpg': 'https://image.news1.kr/system/photos/2023/5/22/6006975/no_water.jpg', 'lcy_pictures/n1_20230522_16.jpg': 'https://image.news1.kr/system/photos/2023/5/22/6006976/no_water.jpg', 'lcy_pictures/n1_20230522_17.jpg': 'https://image.news1.kr/system/photos/2023/5/22/6006978/no_water.jpg', 'lcy_pictures/n1_20230504_1.jpg': 'https://image.news1.kr/system/photos/2023/5/4/5975752/no_water.jpg', 'lcy_pictures/n1_20230504_2.jpg': 'https://image.news1.kr/system/photos/2023/5/4/5975754/no_water.jpg', 'lcy_pictures/n1_20230504_3.jpg': 'https://image.news1.kr/system/photos/2023/5/4/5975750/no_water.jpg', 'lcy_pictures/n1_20230503_1.jpg': 'https://image.news1.kr/system/photos/2023/5/3/5973957/no_water.jpg', 'lcy_pictures/n1_20230424_1.jpg': 'https://image.news1.kr/system/photos/2023/4/24/5957220/no_water.jpg', 'lcy_pictures/n1_20230424_2.jpg': 'https://image.news1.kr/system/photos/2023/4/24/5957219/no_water.jpg', 'lcy_pictures/n1_20230424_3.jpg': 'https://image.news1.kr/system/photos/2023/4/24/5956943/no_water.jpg', 'lcy_pictures/n1_20230424_4.jpg': 'https://image.news1.kr/system/photos/2023/4/24/5956942/no_water.jpg', 'lcy_pictures/n1_20230414_1.jpg': 'https://image.news1.kr/system/photos/2023/4/14/5939238/no_water.jpg', 'lcy_pictures/n1_20230411_1.jpg': 'https://image.news1.kr/system/photos/2023/4/11/5932794/no_water.jpg', 'lcy_pictures/n1_20230411_2.jpg': 'https://image.news1.kr/system/photos/2023/4/11/5932792/no_water.jpg', 'lcy_pictures/n1_20230411_3.jpg': 'https://image.news1.kr/system/photos/2023/4/11/5932791/no_water.jpg', 'lcy_pictures/n1_20230411_4.jpg': 'https://image.news1.kr/system/photos/2023/4/11/5932795/no_water.jpg', 'lcy_pictures/n1_20230411_5.jpg': 'https://image.news1.kr/system/photos/2023/4/11/5932796/no_water.jpg', 'lcy_pictures/n1_20230411_6.jpg': 'https://image.news1.kr/system/photos/2023/4/11/5932800/no_water.jpg', 'lcy_pictures/n1_20230411_7.jpg': 'https://image.news1.kr/system/photos/2023/4/11/5932801/no_water.jpg', 'lcy_pictures/n1_20230411_8.jpg': 'https://image.news1.kr/system/photos/2023/4/11/5933088/no_water.jpg', 'lcy_pictures/n1_20230411_9.jpg': 'https://image.news1.kr/system/photos/2023/4/11/5933093/no_water.jpg', 'lcy_pictures/n1_20230411_10.jpg': 'https://image.news1.kr/system/photos/2023/4/11/5933092/no_water.jpg', 'lcy_pictures/n1_20230411_11.jpg': 'https://image.news1.kr/system/photos/2023/4/11/5933091/no_water.jpg', 'lcy_pictures/n1_20230411_12.jpg': 'https://image.news1.kr/system/photos/2023/4/11/5933089/no_water.jpg', 'lcy_pictures/n1_20230411_13.jpg': 'https://image.news1.kr/system/photos/2023/4/11/5933094/no_water.jpg', 'lcy_pictures/n1_20230411_14.jpg': 'https://image.news1.kr/system/photos/2023/4/11/5933096/no_water.jpg', 'lcy_pictures/n1_20230411_15.jpg': 'https://image.news1.kr/system/photos/2023/4/11/5933098/no_water.jpg', 'lcy_pictures/n1_20230411_16.jpg': 'https://image.news1.kr/system/photos/2023/4/11/5932286/no_water.jpg', 'lcy_pictures/n1_20230411_17.jpg': 'https://image.news1.kr/system/photos/2023/4/11/5932284/no_water.jpg', 'lcy_pictures/n1_20230411_18.jpg': 'https://image.news1.kr/system/photos/2023/4/11/5932282/no_water.jpg', 'lcy_pictures/n1_20230411_19.jpg': 'https://image.news1.kr/system/photos/2023/4/11/5932281/no_water.jpg', 'lcy_pictures/n1_20230411_20.jpg': 'https://image.news1.kr/system/photos/2023/4/11/5932280/no_water.jpg', 'lcy_pictures/n1_20230411_21.jpg': 'https://image.news1.kr/system/photos/2023/4/11/5932278/no_water.jpg', 'lcy_pictures/n1_20230411_22.jpg': 'https://image.news1.kr/system/photos/2023/4/11/5932277/no_water.jpg', 'lcy_pictures/n1_20230411_23.jpg': 'https://image.news1.kr/system/photos/2023/4/11/5932255/no_water.jpg', 'lcy_pictures/n1_20230411_24.jpg': 'https://image.news1.kr/system/photos/2023/4/11/5932261/no_water.jpg', 'lcy_pictures/n1_20230411_25.jpg': 'https://image.news1.kr/system/photos/2023/4/11/5932264/no_water.jpg', 'lcy_pictures/n1_20230411_26.jpg': 'https://image.news1.kr/system/photos/2023/4/11/5932260/no_water.jpg', 'lcy_pictures/n1_20230411_27.jpg': 'https://image.news1.kr/system/photos/2023/4/11/5932258/no_water.jpg', 'lcy_pictures/n1_20230411_28.jpg': 'https://image.news1.kr/system/photos/2023/4/11/5932256/no_water.jpg', 'lcy_pictures/n1_20230411_29.jpg': 'https://image.news1.kr/system/photos/2023/4/11/5932257/no_water.jpg', 'lcy_pictures/n1_20230411_30.jpg': 'https://image.news1.kr/system/photos/2023/4/11/5932266/no_water.jpg', 'lcy_pictures/n1_20230224_1.jpg': 'https://image.news1.kr/system/photos/2023/2/24/5852617/no_water.jpg', 'lcy_pictures/n1_20230223_1.jpg': 'https://image.news1.kr/system/photos/2023/2/23/5850480/no_water.jpg', 'lcy_pictures/n1_20230223_2.jpg': 'https://image.news1.kr/system/photos/2023/2/23/5850482/no_water.jpg', 'lcy_pictures/n1_20230223_3.jpg': 'https://image.news1.kr/system/photos/2023/2/23/5850484/no_water.jpg', 'lcy_pictures/n1_20230223_4.jpg': 'https://image.news1.kr/system/photos/2023/2/23/5850485/no_water.jpg', 'lcy_pictures/n1_20230223_5.jpg': 'https://image.news1.kr/system/photos/2023/2/23/5850487/no_water.jpg', 'lcy_pictures/n1_20230223_6.jpg': 'https://image.news1.kr/system/photos/2023/2/23/5850488/no_water.jpg', 'lcy_pictures/n1_20230223_7.jpg': 'https://image.news1.kr/system/photos/2023/2/23/5850489/no_water.jpg', 'lcy_pictures/n1_20230223_8.jpg': 'https://image.news1.kr/system/photos/2023/2/23/5850486/no_water.jpg', 'lcy_pictures/n1_20230223_9.jpg': 'https://image.news1.kr/system/photos/2023/2/23/5850414/no_water.jpg', 'lcy_pictures/n1_20230223_10.jpg': 'https://image.news1.kr/system/photos/2023/2/23/5850413/no_water.jpg', 'lcy_pictures/n1_20230223_11.jpg': 'https://image.news1.kr/system/photos/2023/2/23/5850411/no_water.jpg', 'lcy_pictures/n1_20230223_12.jpg': 'https://image.news1.kr/system/photos/2023/2/23/5850416/no_water.jpg', 'lcy_pictures/n1_20230223_13.jpg': 'https://image.news1.kr/system/photos/2023/2/23/5850417/no_water.jpg', 'lcy_pictures/n1_20230223_14.jpg': 'https://image.news1.kr/system/photos/2023/2/23/5850418/no_water.jpg', 'lcy_pictures/n1_20230223_15.jpg': 'https://image.news1.kr/system/photos/2023/2/23/5850419/no_water.jpg', 'lcy_pictures/n1_20230223_16.jpg': 'https://image.news1.kr/system/photos/2023/2/23/5850420/no_water.jpg', 'lcy_pictures/n1_20230223_17.jpg': 'https://image.news1.kr/system/photos/2023/2/23/5850421/no_water.jpg', 'lcy_pictures/n1_20230223_18.jpg': 'https://image.news1.kr/system/photos/2023/2/23/5850422/no_water.jpg', 'lcy_pictures/n1_20230223_19.jpg': 'https://image.news1.kr/system/photos/2023/2/23/5850423/no_water.jpg', 'lcy_pictures/n1_20230223_20.jpg': 'https://image.news1.kr/system/photos/2023/2/23/5849989/no_water.jpg', 'lcy_pictures/n1_20230223_21.jpg': 'https://image.news1.kr/system/photos/2023/2/23/5849987/no_water.jpg', 'lcy_pictures/n1_20230223_22.jpg': 'https://image.news1.kr/system/photos/2023/2/23/5849986/no_water.jpg', 'lcy_pictures/n1_20230223_23.jpg': 'https://image.news1.kr/system/photos/2023/2/23/5849992/no_water.jpg', 'lcy_pictures/n1_20230223_24.jpg': 'https://image.news1.kr/system/photos/2023/2/23/5849959/no_water.jpg', 'lcy_pictures/n1_20230223_25.jpg': 'https://image.news1.kr/system/photos/2023/2/23/5849955/no_water.jpg', 'lcy_pictures/n1_20230223_26.jpg': 'https://image.news1.kr/system/photos/2023/2/23/5849952/no_water.jpg', 'lcy_pictures/n1_20230223_27.jpg': 'https://image.news1.kr/system/photos/2023/2/23/5849951/no_water.jpg', 'lcy_pictures/n1_20230223_28.jpg': 'https://image.news1.kr/system/photos/2023/2/23/5849949/no_water.jpg', 'lcy_pictures/n1_20230223_29.jpg': 'https://image.news1.kr/system/photos/2023/2/23/5849948/no_water.jpg', 'lcy_pictures/n1_20230223_30.jpg': 'https://image.news1.kr/system/photos/2023/2/23/5849946/no_water.jpg', 'lcy_pictures/n1_20230221_1.jpg': 'https://image.news1.kr/system/photos/2023/2/21/5846604/no_water.jpg', 'lcy_pictures/n1_20230221_2.jpg': 'https://image.news1.kr/system/photos/2023/2/21/5846605/no_water.jpg', 'lcy_pictures/n1_20230221_3.jpg': 'https://image.news1.kr/system/photos/2023/2/21/5846606/no_water.jpg', 'lcy_pictures/n1_20230221_4.jpg': 'https://image.news1.kr/system/photos/2023/2/21/5846607/no_water.jpg', 'lcy_pictures/n1_20230221_5.jpg': 'https://image.news1.kr/system/photos/2023/2/21/5846608/no_water.jpg', 'lcy_pictures/n1_20230221_6.jpg': 'https://image.news1.kr/system/photos/2023/2/21/5846610/no_water.jpg', 'lcy_pictures/n1_20230221_7.jpg': 'https://image.news1.kr/system/photos/2023/2/21/5846620/no_water.jpg', 'lcy_pictures/n1_20230221_8.jpg': 'https://image.news1.kr/system/photos/2023/2/21/5846618/no_water.jpg', 'lcy_pictures/n1_20230221_9.jpg': 'https://image.news1.kr/system/photos/2023/2/21/5846619/no_water.jpg', 'lcy_pictures/n1_20230221_10.jpg': 'https://image.news1.kr/system/photos/2023/2/21/5846622/no_water.jpg', 'lcy_pictures/n1_20230221_11.jpg': 'https://image.news1.kr/system/photos/2023/2/21/5846621/no_water.jpg', 'lcy_pictures/n1_20230207_1.jpg': 'https://image.news1.kr/system/photos/2023/2/7/5822870/no_water.jpg', 'lcy_pictures/n1_20230207_2.jpg': 'https://image.news1.kr/system/photos/2023/2/7/5822851/no_water.jpg', 'lcy_pictures/n1_20230201_1.jpg': 'https://image.news1.kr/system/photos/2023/2/1/5813485/no_water.jpg', 'lcy_pictures/n1_20230201_2.jpg': 'https://image.news1.kr/system/photos/2023/2/1/5813478/no_water.jpg', 'lcy_pictures/n1_20230201_3.jpg': 'https://image.news1.kr/system/photos/2023/2/1/5813454/no_water.jpg', 'lcy_pictures/n1_20230201_4.jpg': 'https://image.news1.kr/system/photos/2023/2/1/5813449/no_water.jpg', 'lcy_pictures/n1_20230201_5.jpg': 'https://image.news1.kr/system/photos/2023/2/1/5813448/no_water.jpg', 'lcy_pictures/n1_20230201_6.jpg': 'https://image.news1.kr/system/photos/2023/2/1/5813443/no_water.jpg', 'lcy_pictures/n1_20230201_7.jpg': 'https://image.news1.kr/system/photos/2023/2/1/5813442/no_water.jpg', 'lcy_pictures/n1_20230201_8.jpg': 'https://image.news1.kr/system/photos/2023/2/1/5813367/no_water.jpg', 'lcy_pictures/n1_20230201_9.jpg': 'https://image.news1.kr/system/photos/2023/2/1/5813356/no_water.jpg', 'lcy_pictures/n1_20230201_10.jpg': 'https://image.news1.kr/system/photos/2023/2/1/5813345/no_water.jpg', 'lcy_pictures/n1_20230118_1.jpg': 'https://image.news1.kr/system/photos/2023/1/18/5795678/no_water.jpg', 'lcy_pictures/n1_20230118_2.jpg': 'https://image.news1.kr/system/photos/2023/1/18/5795677/no_water.jpg', 'lcy_pictures/n1_20230118_3.jpg': 'https://image.news1.kr/system/photos/2023/1/18/5795674/no_water.jpg', 'lcy_pictures/n1_20230118_4.jpg': 'https://image.news1.kr/system/photos/2023/1/18/5795673/no_water.jpg', 'lcy_pictures/n1_20230118_5.jpg': 'https://image.news1.kr/system/photos/2023/1/18/5795671/no_water.jpg', 'lcy_pictures/n1_20230118_6.jpg': 'https://image.news1.kr/system/photos/2023/1/18/5795670/no_water.jpg', 'lcy_pictures/n1_20230118_7.jpg': 'https://image.news1.kr/system/photos/2023/1/18/5795669/no_water.jpg', 'lcy_pictures/n1_20230113_1.jpg': 'https://image.news1.kr/system/photos/2023/1/13/5787458/no_water.jpg', 'lcy_pictures/n1_20230113_2.jpg': 'https://image.news1.kr/system/photos/2023/1/13/5787457/no_water.jpg', 'lcy_pictures/n1_20230113_3.jpg': 'https://image.news1.kr/system/photos/2023/1/13/5787455/no_water.jpg', 'lcy_pictures/n1_20230113_4.jpg': 'https://image.news1.kr/system/photos/2023/1/13/5787454/no_water.jpg', 'lcy_pictures/n1_20230113_5.jpg': 'https://image.news1.kr/system/photos/2023/1/13/5787453/no_water.jpg', 'lcy_pictures/n1_20230113_6.jpg': 'https://image.news1.kr/system/photos/2023/1/13/5787452/no_water.jpg', 'lcy_pictures/n1_20230113_7.jpg': 'https://image.news1.kr/system/photos/2023/1/13/5787450/no_water.jpg', 'lcy_pictures/n1_20230113_8.jpg': 'https://image.news1.kr/system/photos/2023/1/13/5787413/no_water.jpg', 'lcy_pictures/n1_20230113_9.jpg': 'https://image.news1.kr/system/photos/2023/1/13/5787351/no_water.jpg', 'lcy_pictures/n1_20230113_10.jpg': 'https://image.news1.kr/system/photos/2023/1/13/5787350/no_water.jpg', 'lcy_pictures/n1_20230113_11.jpg': 'https://image.news1.kr/system/photos/2023/1/13/5787349/no_water.jpg', 'lcy_pictures/n1_20230113_12.jpg': 'https://image.news1.kr/system/photos/2023/1/13/5786945/no_water.jpg', 'lcy_pictures/n1_20230113_13.jpg': 'https://image.news1.kr/system/photos/2023/1/13/5786944/no_water.jpg', 'lcy_pictures/n1_20230113_14.jpg': 'https://image.news1.kr/system/photos/2023/1/13/5786947/no_water.jpg', 'lcy_pictures/n1_20230113_15.jpg': 'https://image.news1.kr/system/photos/2023/1/13/5786943/no_water.jpg', 'lcy_pictures/n1_20230113_16.jpg': 'https://image.news1.kr/system/photos/2023/1/13/5786942/no_water.jpg', 'lcy_pictures/n1_20230113_17.jpg': 'https://image.news1.kr/system/photos/2023/1/13/5786938/no_water.jpg', 'lcy_pictures/n1_20230113_18.jpg': 'https://image.news1.kr/system/photos/2023/1/13/5786937/no_water.jpg', 'lcy_pictures/n1_20230113_19.jpg': 'https://image.news1.kr/system/photos/2023/1/13/5786936/no_water.jpg', 'lcy_pictures/n1_20230103_1.jpg': 'https://image.news1.kr/system/photos/2023/1/3/5770706/no_water.jpg', 'lcy_pictures/n1_20230103_2.jpg': 'https://image.news1.kr/system/photos/2023/1/3/5770725/no_water.jpg', 'lcy_pictures/n1_20221220_1.jpg': 'https://image.news1.kr/system/photos/2022/12/20/5746581/no_water.jpg', 'lcy_pictures/n1_20221220_2.jpg': 'https://image.news1.kr/system/photos/2022/12/20/5746580/no_water.jpg', 'lcy_pictures/n1_20221220_3.jpg': 'https://image.news1.kr/system/photos/2022/12/20/5746578/no_water.jpg', 'lcy_pictures/n1_20221220_4.jpg': 'https://image.news1.kr/system/photos/2022/12/20/5746577/no_water.jpg', 'lcy_pictures/n1_20221220_5.jpg': 'https://image.news1.kr/system/photos/2022/12/20/5746576/no_water.jpg', 'lcy_pictures/n1_20221220_6.jpg': 'https://image.news1.kr/system/photos/2022/12/20/5746575/no_water.jpg', 'lcy_pictures/n1_20221220_7.jpg': 'https://image.news1.kr/system/photos/2022/12/20/5746574/no_water.jpg', 'lcy_pictures/n1_20221220_8.jpg': 'https://image.news1.kr/system/photos/2022/12/20/5746573/no_water.jpg', 'lcy_pictures/n1_20221220_9.jpg': 'https://image.news1.kr/system/photos/2022/12/20/5746570/no_water.jpg', 'lcy_pictures/n1_20221220_10.jpg': 'https://image.news1.kr/system/photos/2022/12/20/5746567/no_water.jpg', 'lcy_pictures/n1_20221215_1.jpg': 'https://image.news1.kr/system/photos/2022/12/15/5738919/no_water.jpg', 'lcy_pictures/n1_20221215_2.jpg': 'https://image.news1.kr/system/photos/2022/12/15/5738906/no_water.jpg', 'lcy_pictures/n1_20221128_1.jpg': 'https://image.news1.kr/system/photos/2022/11/28/5709555/no_water.jpg', 'lcy_pictures/n1_20221128_2.jpg': 'https://image.news1.kr/system/photos/2022/11/28/5709554/no_water.jpg', 'lcy_pictures/n1_20221128_3.jpg': 'https://image.news1.kr/system/photos/2022/11/28/5708772/no_water.jpg', 'lcy_pictures/n1_20221128_4.jpg': 'https://image.news1.kr/system/photos/2022/11/28/5708770/no_water.jpg', 'lcy_pictures/n1_20221124_1.jpg': 'https://image.news1.kr/system/photos/2022/11/24/5703329/no_water.jpg', 'lcy_pictures/n1_20221124_2.jpg': 'https://image.news1.kr/system/photos/2022/11/24/5703331/no_water.jpg', 'lcy_pictures/n1_20221124_3.jpg': 'https://image.news1.kr/system/photos/2022/11/24/5703327/no_water.jpg', 'lcy_pictures/n1_20221124_4.jpg': 'https://image.news1.kr/system/photos/2022/11/24/5703326/no_water.jpg', 'lcy_pictures/n1_20221124_5.jpg': 'https://image.news1.kr/system/photos/2022/11/24/5703325/no_water.jpg', 'lcy_pictures/n1_20221124_6.jpg': 'https://image.news1.kr/system/photos/2022/11/24/5703324/no_water.jpg', 'lcy_pictures/n1_20221124_7.jpg': 'https://image.news1.kr/system/photos/2022/11/24/5703323/no_water.jpg', 'lcy_pictures/n1_20221124_8.jpg': 'https://image.news1.kr/system/photos/2022/11/24/5703322/no_water.jpg', 'lcy_pictures/n1_20221124_9.jpg': 'https://image.news1.kr/system/photos/2022/11/24/5703321/no_water.jpg', 'lcy_pictures/n1_20221124_10.jpg': 'https://image.news1.kr/system/photos/2022/11/24/5703320/no_water.jpg', 'lcy_pictures/n1_20221124_11.jpg': 'https://image.news1.kr/system/photos/2022/11/24/5703319/no_water.jpg', 'lcy_pictures/n1_20221124_12.jpg': 'https://image.news1.kr/system/photos/2022/11/24/5703318/no_water.jpg', 'lcy_pictures/n1_20221124_13.jpg': 'https://image.news1.kr/system/photos/2022/11/24/5703317/no_water.jpg', 'lcy_pictures/n1_20221124_14.jpg': 'https://image.news1.kr/system/photos/2022/11/24/5703266/no_water.jpg', 'lcy_pictures/n1_20221124_15.jpg': 'https://image.news1.kr/system/photos/2022/11/24/5703265/no_water.jpg', 'lcy_pictures/n1_20221124_16.jpg': 'https://image.news1.kr/system/photos/2022/11/24/5703263/no_water.jpg', 'lcy_pictures/n1_20221124_17.jpg': 'https://image.news1.kr/system/photos/2022/11/24/5703259/no_water.jpg', 'lcy_pictures/n1_20221124_18.jpg': 'https://image.news1.kr/system/photos/2022/11/24/5703258/no_water.jpg', 'lcy_pictures/n1_20221124_19.jpg': 'https://image.news1.kr/system/photos/2022/11/24/5703257/no_water.jpg', 'lcy_pictures/n1_20221124_20.jpg': 'https://image.news1.kr/system/photos/2022/11/24/5703256/no_water.jpg', 'lcy_pictures/n1_20221124_21.jpg': 'https://image.news1.kr/system/photos/2022/11/24/5703255/no_water.jpg', 'lcy_pictures/n1_20221124_22.jpg': 'https://image.news1.kr/system/photos/2022/11/24/5703254/no_water.jpg', 'lcy_pictures/n1_20221124_23.jpg': 'https://image.news1.kr/system/photos/2022/11/24/5702562/no_water.jpg', 'lcy_pictures/n1_20221124_24.jpg': 'https://image.news1.kr/system/photos/2022/11/24/5702563/no_water.jpg', 'lcy_pictures/n1_20221124_25.jpg': 'https://image.news1.kr/system/photos/2022/11/24/5702581/no_water.jpg', 'lcy_pictures/n1_20221124_26.jpg': 'https://image.news1.kr/system/photos/2022/11/24/5702586/no_water.jpg', 'lcy_pictures/n1_20221124_27.jpg': 'https://image.news1.kr/system/photos/2022/11/24/5702573/no_water.jpg', 'lcy_pictures/n1_20221124_28.jpg': 'https://image.news1.kr/system/photos/2022/11/24/5702575/no_water.jpg', 'lcy_pictures/n1_20221124_29.jpg': 'https://image.news1.kr/system/photos/2022/11/24/5702588/no_water.jpg', 'lcy_pictures/n1_20221124_30.jpg': 'https://image.news1.kr/system/photos/2022/11/24/5702590/no_water.jpg', 'lcy_pictures/n1_20221124_31.jpg': 'https://image.news1.kr/system/photos/2022/11/24/5702589/no_water.jpg', 'lcy_pictures/n1_20221124_32.jpg': 'https://image.news1.kr/system/photos/2022/11/24/5702576/no_water.jpg', 'lcy_pictures/n1_20221124_33.jpg': 'https://image.news1.kr/system/photos/2022/11/24/5702567/no_water.jpg', 'lcy_pictures/n1_20221124_34.jpg': 'https://image.news1.kr/system/photos/2022/11/24/5702558/no_water.jpg', 'lcy_pictures/n1_20221124_35.jpg': 'https://image.news1.kr/system/photos/2022/11/24/5702555/no_water.jpg', 'lcy_pictures/n1_20221124_36.jpg': 'https://image.news1.kr/system/photos/2022/11/24/5702554/no_water.jpg', 'lcy_pictures/n1_20221111_1.jpg': 'https://image.news1.kr/system/photos/2022/11/11/5678496/no_water.jpg', 'lcy_pictures/n1_20221111_2.jpg': 'https://image.news1.kr/system/photos/2022/11/11/5678494/no_water.jpg', 'lcy_pictures/n1_20221111_3.jpg': 'https://image.news1.kr/system/photos/2022/11/11/5678424/no_water.jpg', 'lcy_pictures/n1_20221111_4.jpg': 'https://image.news1.kr/system/photos/2022/11/11/5678422/no_water.jpg', 'lcy_pictures/n1_20221111_5.jpg': 'https://image.news1.kr/system/photos/2022/11/11/5678423/no_water.jpg', 'lcy_pictures/n1_20221111_6.jpg': 'https://image.news1.kr/system/photos/2022/11/11/5678419/no_water.jpg', 'lcy_pictures/n1_20221103_1.jpg': 'https://image.news1.kr/system/photos/2022/11/3/5663793/no_water.jpg', 'lcy_pictures/n1_20221101_1.jpg': 'https://image.news1.kr/system/photos/2022/11/1/5660838/no_water.jpg', 'lcy_pictures/n1_20221101_2.jpg': 'https://image.news1.kr/system/photos/2022/11/1/5660832/no_water.jpg', 'lcy_pictures/n1_20221026_1.jpg': 'https://image.news1.kr/system/photos/2022/10/26/5650712/no_water.jpg', 'lcy_pictures/n1_20221026_2.jpg': 'https://image.news1.kr/system/photos/2022/10/26/5650711/no_water.jpg', 'lcy_pictures/n1_20221026_3.jpg': 'https://image.news1.kr/system/photos/2022/10/26/5650710/no_water.jpg', 'lcy_pictures/n1_20221026_4.jpg': 'https://image.news1.kr/system/photos/2022/10/26/5650709/no_water.jpg', 'lcy_pictures/n1_20221026_5.jpg': 'https://image.news1.kr/system/photos/2022/10/26/5650706/no_water.jpg', 'lcy_pictures/n1_20221026_6.jpg': 'https://image.news1.kr/system/photos/2022/10/26/5650703/no_water.jpg', 'lcy_pictures/n1_20221026_7.jpg': 'https://image.news1.kr/system/photos/2022/10/26/5650701/no_water.jpg', 'lcy_pictures/n1_20221023_1.jpg': 'https://image.news1.kr/system/photos/2022/10/23/5643499/no_water.jpg', 'lcy_pictures/n1_20221023_2.jpg': 'https://image.news1.kr/system/photos/2022/10/23/5643334/no_water.jpg', 'lcy_pictures/n1_20221023_3.jpg': 'https://image.news1.kr/system/photos/2022/10/23/5643333/no_water.jpg', 'lcy_pictures/n1_20221023_4.jpg': 'https://image.news1.kr/system/photos/2022/10/23/5643315/no_water.jpg', 'lcy_pictures/n1_20221017_1.jpg': 'https://image.news1.kr/system/photos/2022/10/17/5633157/no_water.jpg', 'lcy_pictures/n1_20221017_2.jpg': 'https://image.news1.kr/system/photos/2022/10/17/5633158/no_water.jpg', 'lcy_pictures/n1_20221017_3.jpg': 'https://image.news1.kr/system/photos/2022/10/17/5633145/no_water.jpg', 'lcy_pictures/n1_20221017_4.jpg': 'https://image.news1.kr/system/photos/2022/10/17/5633149/no_water.jpg', 'lcy_pictures/n1_20221017_5.jpg': 'https://image.news1.kr/system/photos/2022/10/17/5633143/no_water.jpg', 'lcy_pictures/n1_20221017_6.jpg': 'https://image.news1.kr/system/photos/2022/10/17/5633142/no_water.jpg', 'lcy_pictures/n1_20221016_1.jpg': 'https://image.news1.kr/system/photos/2022/10/16/5630667/no_water.jpg', 'lcy_pictures/n1_20221016_2.jpg': 'https://image.news1.kr/system/photos/2022/10/16/5630662/no_water.jpg', 'lcy_pictures/n1_20221016_3.jpg': 'https://image.news1.kr/system/photos/2022/10/16/5630661/no_water.jpg', 'lcy_pictures/n1_20221016_4.jpg': 'https://image.news1.kr/system/photos/2022/10/16/5630659/no_water.jpg', 'lcy_pictures/n1_20221016_5.jpg': 'https://image.news1.kr/system/photos/2022/10/16/5630648/no_water.jpg', 'lcy_pictures/n1_20221016_6.jpg': 'https://image.news1.kr/system/photos/2022/10/16/5630647/no_water.jpg', 'lcy_pictures/n1_20221016_7.jpg': 'https://image.news1.kr/system/photos/2022/10/16/5630644/no_water.jpg', 'lcy_pictures/n1_20221016_8.jpg': 'https://image.news1.kr/system/photos/2022/10/16/5630643/no_water.jpg', 'lcy_pictures/n1_20221016_9.jpg': 'https://image.news1.kr/system/photos/2022/10/16/5630642/no_water.jpg', 'lcy_pictures/n1_20221016_10.jpg': 'https://image.news1.kr/system/photos/2022/10/16/5630641/no_water.jpg', 'lcy_pictures/n1_20221012_1.jpg': 'https://image.news1.kr/system/photos/2022/10/12/5624448/no_water.jpg', 'lcy_pictures/n1_20221012_2.jpg': 'https://image.news1.kr/system/photos/2022/10/12/5624446/no_water.jpg', 'lcy_pictures/n1_20221012_3.jpg': 'https://image.news1.kr/system/photos/2022/10/12/5624437/no_water.jpg', 'lcy_pictures/n1_20221012_4.jpg': 'https://image.news1.kr/system/photos/2022/10/12/5624048/no_water.jpg', 'lcy_pictures/n1_20221012_5.jpg': 'https://image.news1.kr/system/photos/2022/10/12/5624047/no_water.jpg', 'lcy_pictures/n1_20221012_6.jpg': 'https://image.news1.kr/system/photos/2022/10/12/5624044/no_water.jpg', 'lcy_pictures/n1_20221012_7.jpg': 'https://image.news1.kr/system/photos/2022/10/12/5624043/no_water.jpg', 'lcy_pictures/n1_20221012_8.jpg': 'https://image.news1.kr/system/photos/2022/10/12/5624042/no_water.jpg', 'lcy_pictures/n1_20221012_9.jpg': 'https://image.news1.kr/system/photos/2022/10/12/5624036/no_water.jpg', 'lcy_pictures/n1_20221012_10.jpg': 'https://image.news1.kr/system/photos/2022/10/12/5624040/no_water.jpg', 'lcy_pictures/n1_20221012_11.jpg': 'https://image.news1.kr/system/photos/2022/10/12/5624039/no_water.jpg', 'lcy_pictures/n1_20221012_12.jpg': 'https://image.news1.kr/system/photos/2022/10/12/5624038/no_water.jpg', 'lcy_pictures/n1_20221012_13.jpg': 'https://image.news1.kr/system/photos/2022/10/12/5624028/no_water.jpg', 'lcy_pictures/n1_20221012_14.jpg': 'https://image.news1.kr/system/photos/2022/10/12/5624037/no_water.jpg', 'lcy_pictures/n1_20221012_15.jpg': 'https://image.news1.kr/system/photos/2022/10/12/5624035/no_water.jpg', 'lcy_pictures/n1_20221012_16.jpg': 'https://image.news1.kr/system/photos/2022/10/12/5624034/no_water.jpg', 'lcy_pictures/n1_20221012_17.jpg': 'https://image.news1.kr/system/photos/2022/10/12/5624030/no_water.jpg', 'lcy_pictures/n1_20221012_18.jpg': 'https://image.news1.kr/system/photos/2022/10/12/5624027/no_water.jpg', 'lcy_pictures/n1_20221012_19.jpg': 'https://image.news1.kr/system/photos/2022/10/12/5623341/no_water.jpg', 'lcy_pictures/n1_20221012_20.jpg': 'https://image.news1.kr/system/photos/2022/10/12/5623330/no_water.jpg', 'lcy_pictures/n1_20221012_21.jpg': 'https://image.news1.kr/system/photos/2022/10/12/5623340/no_water.jpg', 'lcy_pictures/n1_20221012_22.jpg': 'https://image.news1.kr/system/photos/2022/10/12/5623338/no_water.jpg', 'lcy_pictures/n1_20221012_23.jpg': 'https://image.news1.kr/system/photos/2022/10/12/5623337/no_water.jpg', 'lcy_pictures/n1_20221012_24.jpg': 'https://image.news1.kr/system/photos/2022/10/12/5623336/no_water.jpg', 'lcy_pictures/n1_20221012_25.jpg': 'https://image.news1.kr/system/photos/2022/10/12/5623325/no_water.jpg', 'lcy_pictures/n1_20221012_26.jpg': 'https://image.news1.kr/system/photos/2022/10/12/5623323/no_water.jpg', 'lcy_pictures/n1_20221007_1.jpg': 'https://image.news1.kr/system/photos/2022/10/7/5616662/no_water.jpg', 'lcy_pictures/n1_20221007_2.jpg': 'https://image.news1.kr/system/photos/2022/10/7/5616660/no_water.jpg', 'lcy_pictures/n1_20221007_3.jpg': 'https://image.news1.kr/system/photos/2022/10/7/5616658/no_water.jpg', 'lcy_pictures/n1_20221007_4.jpg': 'https://image.news1.kr/system/photos/2022/10/7/5616653/no_water.jpg', 'lcy_pictures/n1_20221007_5.jpg': 'https://image.news1.kr/system/photos/2022/10/7/5616647/no_water.jpg', 'lcy_pictures/n1_20221007_6.jpg': 'https://image.news1.kr/system/photos/2022/10/7/5616644/no_water.jpg', 'lcy_pictures/n1_20221007_7.jpg': 'https://image.news1.kr/system/photos/2022/10/7/5616637/no_water.jpg', 'lcy_pictures/n1_20221007_8.jpg': 'https://image.news1.kr/system/photos/2022/10/7/5616633/no_water.jpg', 'lcy_pictures/n1_20221007_9.jpg': 'https://image.news1.kr/system/photos/2022/10/7/5616632/no_water.jpg', 'lcy_pictures/n1_20221007_10.jpg': 'https://image.news1.kr/system/photos/2022/10/7/5616629/no_water.jpg', 'lcy_pictures/n1_20221007_11.jpg': 'https://image.news1.kr/system/photos/2022/10/7/5616622/no_water.jpg', 'lcy_pictures/n1_20221007_12.jpg': 'https://image.news1.kr/system/photos/2022/10/7/5616558/no_water.jpg', 'lcy_pictures/n1_20221007_13.jpg': 'https://image.news1.kr/system/photos/2022/10/7/5616557/no_water.jpg', 'lcy_pictures/n1_20220926_1.jpg': 'https://image.news1.kr/system/photos/2022/9/26/5595931/no_water.jpg', 'lcy_pictures/n1_20220926_2.jpg': 'https://image.news1.kr/system/photos/2022/9/26/5595915/no_water.jpg', 'lcy_pictures/n1_20220926_3.jpg': 'https://image.news1.kr/system/photos/2022/9/26/5595916/no_water.jpg', 'lcy_pictures/n1_20220926_4.jpg': 'https://image.news1.kr/system/photos/2022/9/26/5595922/no_water.jpg', 'lcy_pictures/n1_20220926_5.jpg': 'https://image.news1.kr/system/photos/2022/9/26/5595921/no_water.jpg', 'lcy_pictures/n1_20220926_6.jpg': 'https://image.news1.kr/system/photos/2022/9/26/5595920/no_water.jpg', 'lcy_pictures/n1_20220926_7.jpg': 'https://image.news1.kr/system/photos/2022/9/26/5595925/no_water.jpg', 'lcy_pictures/n1_20220922_1.jpg': 'https://image.news1.kr/system/photos/2022/9/22/5589610/no_water.jpg', 'lcy_pictures/n1_20220922_2.jpg': 'https://image.news1.kr/system/photos/2022/9/22/5589607/no_water.jpg', 'lcy_pictures/n1_20220905_1.jpg': 'https://image.news1.kr/system/photos/2022/9/5/5561141/no_water.jpg', 'lcy_pictures/n1_20220905_2.jpg': 'https://image.news1.kr/system/photos/2022/9/5/5561140/no_water.jpg', 'lcy_pictures/n1_20220905_3.jpg': 'https://image.news1.kr/system/photos/2022/9/5/5561139/no_water.jpg', 'lcy_pictures/n1_20220829_1.jpg': 'https://image.news1.kr/system/photos/2022/8/29/5550640/no_water.jpg', 'lcy_pictures/n1_20220829_2.jpg': 'https://image.news1.kr/system/photos/2022/8/29/5550639/no_water.jpg', 'lcy_pictures/n1_20220829_3.jpg': 'https://image.news1.kr/system/photos/2022/8/29/5550634/no_water.jpg', 'lcy_pictures/n1_20220829_4.jpg': 'https://image.news1.kr/system/photos/2022/8/29/5550635/no_water.jpg', 'lcy_pictures/n1_20220829_5.jpg': 'https://image.news1.kr/system/photos/2022/8/29/5550632/no_water.jpg', 'lcy_pictures/n1_20220829_6.jpg': 'https://image.news1.kr/system/photos/2022/8/29/5550630/no_water.jpg', 'lcy_pictures/n1_20220829_7.jpg': 'https://image.news1.kr/system/photos/2022/8/29/5550636/no_water.jpg', 'lcy_pictures/n1_20220825_1.jpg': 'https://image.news1.kr/system/photos/2022/8/25/5544326/no_water.jpg', 'lcy_pictures/n1_20220825_2.jpg': 'https://image.news1.kr/system/photos/2022/8/25/5544323/no_water.jpg', 'lcy_pictures/n1_20220825_3.jpg': 'https://image.news1.kr/system/photos/2022/8/25/5544322/no_water.jpg', 'lcy_pictures/n1_20220825_4.jpg': 'https://image.news1.kr/system/photos/2022/8/25/5544321/no_water.jpg', 'lcy_pictures/n1_20220825_5.jpg': 'https://image.news1.kr/system/photos/2022/8/25/5544320/no_water.jpg', 'lcy_pictures/n1_20220825_6.jpg': 'https://image.news1.kr/system/photos/2022/8/25/5544319/no_water.jpg', 'lcy_pictures/n1_20220825_7.jpg': 'https://image.news1.kr/system/photos/2022/8/25/5544313/no_water.jpg', 'lcy_pictures/n1_20220825_8.jpg': 'https://image.news1.kr/system/photos/2022/8/25/5544311/no_water.jpg', 'lcy_pictures/n1_20220825_9.jpg': 'https://image.news1.kr/system/photos/2022/8/25/5544309/no_water.jpg', 'lcy_pictures/n1_20220825_10.jpg': 'https://image.news1.kr/system/photos/2022/8/25/5544310/no_water.jpg', 'lcy_pictures/n1_20220825_11.jpg': 'https://image.news1.kr/system/photos/2022/8/25/5544307/no_water.jpg', 'lcy_pictures/n1_20220825_12.jpg': 'https://image.news1.kr/system/photos/2022/8/25/5544306/no_water.jpg', 'lcy_pictures/n1_20220825_13.jpg': 'https://image.news1.kr/system/photos/2022/8/25/5544305/no_water.jpg', 'lcy_pictures/n1_20220825_14.jpg': 'https://image.news1.kr/system/photos/2022/8/25/5544304/no_water.jpg', 'lcy_pictures/n1_20220825_15.jpg': 'https://image.news1.kr/system/photos/2022/8/25/5544303/no_water.jpg', 'lcy_pictures/n1_20220825_16.jpg': 'https://image.news1.kr/system/photos/2022/8/25/5544301/no_water.jpg', 'lcy_pictures/n1_20220825_17.jpg': 'https://image.news1.kr/system/photos/2022/8/25/5544300/no_water.jpg', 'lcy_pictures/n1_20220825_18.jpg': 'https://image.news1.kr/system/photos/2022/8/25/5544299/no_water.jpg', 'lcy_pictures/n1_20220825_19.jpg': 'https://image.news1.kr/system/photos/2022/8/25/5544298/no_water.jpg', 'lcy_pictures/n1_20220825_20.jpg': 'https://image.news1.kr/system/photos/2022/8/25/5543700/no_water.jpg', 'lcy_pictures/n1_20220825_21.jpg': 'https://image.news1.kr/system/photos/2022/8/25/5543699/no_water.jpg', 'lcy_pictures/n1_20220825_22.jpg': 'https://image.news1.kr/system/photos/2022/8/25/5543698/no_water.jpg', 'lcy_pictures/n1_20220825_23.jpg': 'https://image.news1.kr/system/photos/2022/8/25/5543697/no_water.jpg', 'lcy_pictures/n1_20220825_24.jpg': 'https://image.news1.kr/system/photos/2022/8/25/5543696/no_water.jpg', 'lcy_pictures/n1_20220825_25.jpg': 'https://image.news1.kr/system/photos/2022/8/25/5543694/no_water.jpg', 'lcy_pictures/n1_20220825_26.jpg': 'https://image.news1.kr/system/photos/2022/8/25/5543673/no_water.jpg', 'lcy_pictures/n1_20220825_27.jpg': 'https://image.news1.kr/system/photos/2022/8/25/5543671/no_water.jpg', 'lcy_pictures/n1_20220825_28.jpg': 'https://image.news1.kr/system/photos/2022/8/25/5543667/no_water.jpg', 'lcy_pictures/n1_20220825_29.jpg': 'https://image.news1.kr/system/photos/2022/8/25/5543665/no_water.jpg', 'lcy_pictures/n1_20220825_30.jpg': 'https://image.news1.kr/system/photos/2022/8/25/5543664/no_water.jpg', 'lcy_pictures/n1_20220809_1.jpg': 'https://image.news1.kr/system/photos/2022/8/9/5518773/no_water.jpg', 'lcy_pictures/n1_20220809_2.jpg': 'https://image.news1.kr/system/photos/2022/8/9/5518774/no_water.jpg', 'lcy_pictures/n1_20220809_3.jpg': 'https://image.news1.kr/system/photos/2022/8/9/5518775/no_water.jpg', 'lcy_pictures/n1_20220809_4.jpg': 'https://image.news1.kr/system/photos/2022/8/9/5518776/no_water.jpg', 'lcy_pictures/n1_20220808_1.jpg': 'https://image.news1.kr/system/photos/2022/8/8/5517116/no_water.jpg', 'lcy_pictures/n1_20220808_2.jpg': 'https://image.news1.kr/system/photos/2022/8/8/5517115/no_water.jpg', 'lcy_pictures/n1_20220808_3.jpg': 'https://image.news1.kr/system/photos/2022/8/8/5517114/no_water.jpg', 'lcy_pictures/n1_20220808_4.jpg': 'https://image.news1.kr/system/photos/2022/8/8/5517113/no_water.jpg', 'lcy_pictures/n1_20220801_1.jpg': 'https://image.news1.kr/system/photos/2022/8/1/5505961/no_water.jpg', 'lcy_pictures/n1_20220801_2.jpg': 'https://image.news1.kr/system/photos/2022/8/1/5505960/no_water.jpg', 'lcy_pictures/n1_20220801_3.jpg': 'https://image.news1.kr/system/photos/2022/8/1/5505956/no_water.jpg', 'lcy_pictures/n1_20220801_4.jpg': 'https://image.news1.kr/system/photos/2022/8/1/5505950/no_water.jpg', 'lcy_pictures/n1_20220728_1.jpg': 'https://image.news1.kr/system/photos/2022/7/28/5500037/no_water.jpg', 'lcy_pictures/n1_20220728_2.jpg': 'https://image.news1.kr/system/photos/2022/7/28/5500035/no_water.jpg', 'lcy_pictures/n1_20220728_3.jpg': 'https://image.news1.kr/system/photos/2022/7/28/5500031/no_water.jpg', 'lcy_pictures/n1_20220724_1.jpg': 'https://image.news1.kr/system/photos/2022/7/24/5493063/no_water.jpg', 'lcy_pictures/n1_20220719_1.jpg': 'https://image.news1.kr/system/photos/2022/7/19/5484662/no_water.jpg', 'lcy_pictures/n1_20220719_2.jpg': 'https://image.news1.kr/system/photos/2022/7/19/5484660/no_water.jpg', 'lcy_pictures/n1_20220719_3.jpg': 'https://image.news1.kr/system/photos/2022/7/19/5484657/no_water.jpg', 'lcy_pictures/n1_20220719_4.jpg': 'https://image.news1.kr/system/photos/2022/7/19/5484642/no_water.jpg', 'lcy_pictures/n1_20220719_5.jpg': 'https://image.news1.kr/system/photos/2022/7/19/5484640/no_water.jpg', 'lcy_pictures/n1_20220719_6.jpg': 'https://image.news1.kr/system/photos/2022/7/19/5484641/no_water.jpg', 'lcy_pictures/n1_20220719_7.jpg': 'https://image.news1.kr/system/photos/2022/7/19/5484639/no_water.jpg', 'lcy_pictures/n1_20220719_8.jpg': 'https://image.news1.kr/system/photos/2022/7/19/5484615/no_water.jpg', 'lcy_pictures/n1_20220719_9.jpg': 'https://image.news1.kr/system/photos/2022/7/19/5484613/no_water.jpg', 'lcy_pictures/n1_20220719_10.jpg': 'https://image.news1.kr/system/photos/2022/7/19/5484609/no_water.jpg', 'lcy_pictures/n1_20220718_1.jpg': 'https://image.news1.kr/system/photos/2022/7/18/5483098/no_water.jpg', 'lcy_pictures/n1_20220718_2.jpg': 'https://image.news1.kr/system/photos/2022/7/18/5483061/no_water.jpg', 'lcy_pictures/n1_20220718_3.jpg': 'https://image.news1.kr/system/photos/2022/7/18/5483060/no_water.jpg', 'lcy_pictures/n1_20220718_4.jpg': 'https://image.news1.kr/system/photos/2022/7/18/5483059/no_water.jpg', 'lcy_pictures/n1_20220714_1.jpg': 'https://image.news1.kr/system/photos/2022/7/14/5477653/no_water.jpg', 'lcy_pictures/n1_20220714_2.jpg': 'https://image.news1.kr/system/photos/2022/7/14/5477606/no_water.jpg', 'lcy_pictures/n1_20220714_3.jpg': 'https://image.news1.kr/system/photos/2022/7/14/5477648/no_water.jpg', 'lcy_pictures/n1_20220714_4.jpg': 'https://image.news1.kr/system/photos/2022/7/14/5477602/no_water.jpg', 'lcy_pictures/n1_20220713_1.jpg': 'https://image.news1.kr/system/photos/2022/7/13/5474065/no_water.jpg', 'lcy_pictures/n1_20220713_2.jpg': 'https://image.news1.kr/system/photos/2022/7/13/5474067/no_water.jpg', 'lcy_pictures/n1_20220713_3.jpg': 'https://image.news1.kr/system/photos/2022/7/13/5474064/no_water.jpg', 'lcy_pictures/n1_20220713_4.jpg': 'https://image.news1.kr/system/photos/2022/7/13/5474059/no_water.jpg', 'lcy_pictures/n1_20220713_5.jpg': 'https://image.news1.kr/system/photos/2022/7/13/5474074/no_water.jpg', 'lcy_pictures/n1_20220713_6.jpg': 'https://image.news1.kr/system/photos/2022/7/13/5474075/no_water.jpg', 'lcy_pictures/n1_20220713_7.jpg': 'https://image.news1.kr/system/photos/2022/7/13/5474076/no_water.jpg', 'lcy_pictures/n1_20220713_8.jpg': 'https://image.news1.kr/system/photos/2022/7/13/5474079/no_water.jpg', 'lcy_pictures/n1_20220713_9.jpg': 'https://image.news1.kr/system/photos/2022/7/13/5473582/no_water.jpg', 'lcy_pictures/n1_20220713_10.jpg': 'https://image.news1.kr/system/photos/2022/7/13/5473578/no_water.jpg', 'lcy_pictures/n1_20220713_11.jpg': 'https://image.news1.kr/system/photos/2022/7/13/5473574/no_water.jpg', 'lcy_pictures/n1_20220713_12.jpg': 'https://image.news1.kr/system/photos/2022/7/13/5473571/no_water.jpg', 'lcy_pictures/n1_20220713_13.jpg': 'https://image.news1.kr/system/photos/2022/7/13/5473462/no_water.jpg', 'lcy_pictures/n1_20220713_14.jpg': 'https://image.news1.kr/system/photos/2022/7/13/5473454/no_water.jpg', 'lcy_pictures/n1_20220713_15.jpg': 'https://image.news1.kr/system/photos/2022/7/13/5473453/no_water.jpg', 'lcy_pictures/n1_20220713_16.jpg': 'https://image.news1.kr/system/photos/2022/7/13/5473455/no_water.jpg', 'lcy_pictures/n1_20220713_17.jpg': 'https://image.news1.kr/system/photos/2022/7/13/5473452/no_water.jpg', 'lcy_pictures/n1_20220713_18.jpg': 'https://image.news1.kr/system/photos/2022/7/13/5473461/no_water.jpg', 'lcy_pictures/n1_20220713_19.jpg': 'https://image.news1.kr/system/photos/2022/7/13/5473451/no_water.jpg', 'lcy_pictures/n1_20220713_20.jpg': 'https://image.news1.kr/system/photos/2022/7/13/5473450/no_water.jpg', 'lcy_pictures/n1_20220713_21.jpg': 'https://image.news1.kr/system/photos/2022/7/13/5473449/no_water.jpg', 'lcy_pictures/n1_20220713_22.jpg': 'https://image.news1.kr/system/photos/2022/7/13/5473448/no_water.jpg', 'lcy_pictures/n1_20220713_23.jpg': 'https://image.news1.kr/system/photos/2022/7/13/5473423/no_water.jpg', 'lcy_pictures/n1_20220713_24.jpg': 'https://image.news1.kr/system/photos/2022/7/13/5473422/no_water.jpg', 'lcy_pictures/n1_20220630_1.jpg': 'https://image.news1.kr/system/photos/2022/6/30/5452453/no_water.jpg', 'lcy_pictures/n1_20220630_2.jpg': 'https://image.news1.kr/system/photos/2022/6/30/5452446/no_water.jpg', 'lcy_pictures/n1_20220630_3.jpg': 'https://image.news1.kr/system/photos/2022/6/30/5452438/no_water.jpg', 'lcy_pictures/n1_20220630_4.jpg': 'https://image.news1.kr/system/photos/2022/6/30/5452397/no_water.jpg', 'lcy_pictures/n1_20220630_5.jpg': 'https://image.news1.kr/system/photos/2022/6/30/5452383/no_water.jpg', 'lcy_pictures/n1_20220628_1.jpg': 'https://image.news1.kr/system/photos/2022/6/28/5448796/no_water.jpg', 'lcy_pictures/n1_20220628_2.jpg': 'https://image.news1.kr/system/photos/2022/6/28/5448793/no_water.jpg', 'lcy_pictures/n1_20220628_3.jpg': 'https://image.news1.kr/system/photos/2022/6/28/5448797/no_water.jpg', 'lcy_pictures/n1_20220628_4.jpg': 'https://image.news1.kr/system/photos/2022/6/28/5448794/no_water.jpg', 'lcy_pictures/n1_20220628_5.jpg': 'https://image.news1.kr/system/photos/2022/6/28/5448792/no_water.jpg', 'lcy_pictures/n1_20220628_6.jpg': 'https://image.news1.kr/system/photos/2022/6/28/5448791/no_water.jpg', 'lcy_pictures/n1_20220628_7.jpg': 'https://image.news1.kr/system/photos/2022/6/28/5448789/no_water.jpg', 'lcy_pictures/n1_20220621_1.jpg': 'https://image.news1.kr/system/photos/2022/6/21/5436955/no_water.jpg', 'lcy_pictures/n1_20220621_2.jpg': 'https://image.news1.kr/system/photos/2022/6/21/5436267/no_water.jpg', 'lcy_pictures/n1_20220621_3.jpg': 'https://image.news1.kr/system/photos/2022/6/21/5436263/no_water.jpg', 'lcy_pictures/n1_20220621_4.jpg': 'https://image.news1.kr/system/photos/2022/6/21/5436261/no_water.jpg', 'lcy_pictures/n1_20220621_5.jpg': 'https://image.news1.kr/system/photos/2022/6/21/5436259/no_water.jpg', 'lcy_pictures/n1_20220621_6.jpg': 'https://image.news1.kr/system/photos/2022/6/21/5436258/no_water.jpg', 'lcy_pictures/n1_20220621_7.jpg': 'https://image.news1.kr/system/photos/2022/6/21/5436208/no_water.jpg', 'lcy_pictures/n1_20220621_8.jpg': 'https://image.news1.kr/system/photos/2022/6/21/5436207/no_water.jpg', 'lcy_pictures/n1_20220616_1.jpg': 'https://image.news1.kr/system/photos/2022/6/16/5429152/no_water.jpg', 'lcy_pictures/n1_20220610_1.jpg': 'https://image.news1.kr/system/photos/2022/6/10/5420027/no_water.jpg', 'lcy_pictures/n1_20220610_2.jpg': 'https://image.news1.kr/system/photos/2022/6/10/5420025/no_water.jpg', 'lcy_pictures/n1_20220610_3.jpg': 'https://image.news1.kr/system/photos/2022/6/10/5420024/no_water.jpg', 'lcy_pictures/n1_20220610_4.jpg': 'https://image.news1.kr/system/photos/2022/6/10/5420022/no_water.jpg', 'lcy_pictures/n1_20220610_5.jpg': 'https://image.news1.kr/system/photos/2022/6/10/5420023/no_water.jpg', 'lcy_pictures/n1_20220610_6.jpg': 'https://image.news1.kr/system/photos/2022/6/10/5420013/no_water.jpg', 'lcy_pictures/n1_20220610_7.jpg': 'https://image.news1.kr/system/photos/2022/6/10/5420003/no_water.jpg', 'lcy_pictures/n1_20220610_8.jpg': 'https://image.news1.kr/system/photos/2022/6/10/5420001/no_water.jpg', 'lcy_pictures/n1_20220610_9.jpg': 'https://image.news1.kr/system/photos/2022/6/10/5420002/no_water.jpg', 'lcy_pictures/n1_20220610_10.jpg': 'https://image.news1.kr/system/photos/2022/6/10/5420006/no_water.jpg', 'lcy_pictures/n1_20220610_11.jpg': 'https://image.news1.kr/system/photos/2022/6/10/5420005/no_water.jpg', 'lcy_pictures/n1_20220610_12.jpg': 'https://image.news1.kr/system/photos/2022/6/10/5420004/no_water.jpg', 'lcy_pictures/n1_20220610_13.jpg': 'https://image.news1.kr/system/photos/2022/6/10/5420015/no_water.jpg', 'lcy_pictures/n1_20220610_14.jpg': 'https://image.news1.kr/system/photos/2022/6/10/5420016/no_water.jpg', 'lcy_pictures/n1_20220610_15.jpg': 'https://image.news1.kr/system/photos/2022/6/10/5420017/no_water.jpg', 'lcy_pictures/n1_20220610_16.jpg': 'https://image.news1.kr/system/photos/2022/6/10/5420021/no_water.jpg', 'lcy_pictures/n1_20220610_17.jpg': 'https://image.news1.kr/system/photos/2022/6/10/5420020/no_water.jpg', 'lcy_pictures/n1_20220610_18.jpg': 'https://image.news1.kr/system/photos/2022/6/10/5420019/no_water.jpg', 'lcy_pictures/n1_20220610_19.jpg': 'https://image.news1.kr/system/photos/2022/6/10/5420018/no_water.jpg', 'lcy_pictures/n1_20220602_1.jpg': 'https://image.news1.kr/system/photos/2022/6/2/5407331/no_water.jpg', 'lcy_pictures/n1_20220602_2.jpg': 'https://image.news1.kr/system/photos/2022/6/2/5407330/no_water.jpg', 'lcy_pictures/n1_20220602_3.jpg': 'https://image.news1.kr/system/photos/2022/6/2/5407328/no_water.jpg', 'lcy_pictures/n1_20220602_4.jpg': 'https://image.news1.kr/system/photos/2022/6/2/5407327/no_water.jpg', 'lcy_pictures/n1_20220602_5.jpg': 'https://image.news1.kr/system/photos/2022/6/2/5407326/no_water.jpg', 'lcy_pictures/n1_20220602_6.jpg': 'https://image.news1.kr/system/photos/2022/6/2/5407323/no_water.jpg', 'lcy_pictures/n1_20220602_7.jpg': 'https://image.news1.kr/system/photos/2022/6/2/5407322/no_water.jpg', 'lcy_pictures/n1_20220602_8.jpg': 'https://image.news1.kr/system/photos/2022/6/2/5407320/no_water.jpg', 'lcy_pictures/n1_20220602_9.jpg': 'https://image.news1.kr/system/photos/2022/6/2/5407319/no_water.jpg', 'lcy_pictures/n1_20220530_1.jpg': 'https://image.news1.kr/system/photos/2022/5/30/5401717/no_water.jpg', 'lcy_pictures/n1_20220530_2.jpg': 'https://image.news1.kr/system/photos/2022/5/30/5401712/no_water.jpg', 'lcy_pictures/n1_20220526_1.jpg': 'https://image.news1.kr/system/photos/2022/5/26/5393706/no_water.jpg', 'lcy_pictures/n1_20220526_2.jpg': 'https://image.news1.kr/system/photos/2022/5/26/5393707/no_water.jpg', 'lcy_pictures/n1_20220526_3.jpg': 'https://image.news1.kr/system/photos/2022/5/26/5393708/no_water.jpg', 'lcy_pictures/n1_20220526_4.jpg': 'https://image.news1.kr/system/photos/2022/5/26/5393709/no_water.jpg', 'lcy_pictures/n1_20220526_5.jpg': 'https://image.news1.kr/system/photos/2022/5/26/5393710/no_water.jpg', 'lcy_pictures/n1_20220526_6.jpg': 'https://image.news1.kr/system/photos/2022/5/26/5393711/no_water.jpg', 'lcy_pictures/n1_20220526_7.jpg': 'https://image.news1.kr/system/photos/2022/5/26/5393670/no_water.jpg', 'lcy_pictures/n1_20220526_8.jpg': 'https://image.news1.kr/system/photos/2022/5/26/5393669/no_water.jpg', 'lcy_pictures/n1_20220526_9.jpg': 'https://image.news1.kr/system/photos/2022/5/26/5393672/no_water.jpg', 'lcy_pictures/n1_20220526_10.jpg': 'https://image.news1.kr/system/photos/2022/5/26/5393667/no_water.jpg', 'lcy_pictures/n1_20220526_11.jpg': 'https://image.news1.kr/system/photos/2022/5/26/5393666/no_water.jpg', 'lcy_pictures/n1_20220526_12.jpg': 'https://image.news1.kr/system/photos/2022/5/26/5393664/no_water.jpg', 'lcy_pictures/n1_20220526_13.jpg': 'https://image.news1.kr/system/photos/2022/5/26/5393662/no_water.jpg', 'lcy_pictures/n1_20220526_14.jpg': 'https://image.news1.kr/system/photos/2022/5/26/5393657/no_water.jpg', 'lcy_pictures/n1_20220526_15.jpg': 'https://image.news1.kr/system/photos/2022/5/26/5393649/no_water.jpg', 'lcy_pictures/n1_20220526_16.jpg': 'https://image.news1.kr/system/photos/2022/5/26/5393594/no_water.jpg', 'lcy_pictures/n1_20220526_17.jpg': 'https://image.news1.kr/system/photos/2022/5/26/5393595/no_water.jpg', 'lcy_pictures/n1_20220526_18.jpg': 'https://image.news1.kr/system/photos/2022/5/26/5393593/no_water.jpg', 'lcy_pictures/n1_20220526_19.jpg': 'https://image.news1.kr/system/photos/2022/5/26/5393591/no_water.jpg', 'lcy_pictures/n1_20220526_20.jpg': 'https://image.news1.kr/system/photos/2022/5/26/5393065/no_water.jpg', 'lcy_pictures/n1_20220526_21.jpg': 'https://image.news1.kr/system/photos/2022/5/26/5393066/no_water.jpg', 'lcy_pictures/n1_20220526_22.jpg': 'https://image.news1.kr/system/photos/2022/5/26/5393061/no_water.jpg', 'lcy_pictures/n1_20220526_23.jpg': 'https://image.news1.kr/system/photos/2022/5/26/5393062/no_water.jpg', 'lcy_pictures/n1_20220526_24.jpg': 'https://image.news1.kr/system/photos/2022/5/26/5393063/no_water.jpg', 'lcy_pictures/n1_20220526_25.jpg': 'https://image.news1.kr/system/photos/2022/5/26/5393059/no_water.jpg', 'lcy_pictures/n1_20220526_26.jpg': 'https://image.news1.kr/system/photos/2022/5/26/5393057/no_water.jpg', 'lcy_pictures/n1_20220526_27.jpg': 'https://image.news1.kr/system/photos/2022/5/26/5393055/no_water.jpg', 'lcy_pictures/n1_20220526_28.jpg': 'https://image.news1.kr/system/photos/2022/5/26/5393053/no_water.jpg', 'lcy_pictures/n1_20220516_1.jpg': 'https://image.news1.kr/system/photos/2022/5/16/5371527/no_water.jpg', 'lcy_pictures/n1_20220516_2.jpg': 'https://image.news1.kr/system/photos/2022/5/16/5371529/no_water.jpg', 'lcy_pictures/n1_20220516_3.jpg': 'https://image.news1.kr/system/photos/2022/5/16/5371518/no_water.jpg', 'lcy_pictures/n1_20220516_4.jpg': 'https://image.news1.kr/system/photos/2022/5/16/5371516/no_water.jpg', 'lcy_pictures/n1_20220425_1.jpg': 'https://image.news1.kr/system/photos/2022/4/25/5336488/no_water.jpg', 'lcy_pictures/n1_20220425_2.jpg': 'https://image.news1.kr/system/photos/2022/4/25/5336489/no_water.jpg', 'lcy_pictures/n1_20220425_3.jpg': 'https://image.news1.kr/system/photos/2022/4/25/5336487/no_water.jpg', 'lcy_pictures/n1_20220425_4.jpg': 'https://image.news1.kr/system/photos/2022/4/25/5336490/no_water.jpg', 'lcy_pictures/n1_20220425_5.jpg': 'https://image.news1.kr/system/photos/2022/4/25/5336491/no_water.jpg', 'lcy_pictures/n1_20220425_6.jpg': 'https://image.news1.kr/system/photos/2022/4/25/5336493/no_water.jpg', 'lcy_pictures/n1_20220425_7.jpg': 'https://image.news1.kr/system/photos/2022/4/25/5336494/no_water.jpg', 'lcy_pictures/n1_20220425_8.jpg': 'https://image.news1.kr/system/photos/2022/4/25/5336486/no_water.jpg', 'lcy_pictures/n1_20220425_9.jpg': 'https://image.news1.kr/system/photos/2022/4/25/5336485/no_water.jpg', 'lcy_pictures/n1_20220425_10.jpg': 'https://image.news1.kr/system/photos/2022/4/25/5336497/no_water.jpg', 'lcy_pictures/n1_20220425_11.jpg': 'https://image.news1.kr/system/photos/2022/4/25/5336495/no_water.jpg', 'lcy_pictures/n1_20220425_12.jpg': 'https://image.news1.kr/system/photos/2022/4/25/5336484/no_water.jpg'}\n"
     ]
    },
    {
     "name": "stderr",
     "output_type": "stream",
     "text": [
      "\n"
     ]
    }
   ],
   "source": [
    "driver = webdriver.Chrome()\n",
    "driver.get(url=\"https://www.news1.kr\")\n",
    "search_bar = driver.find_element(by=By.XPATH, value='//*[@id=\"query\"]')\n",
    "search_bar.send_keys(\"이창용 총재\")\n",
    "driver.find_element(by=By.XPATH, value='//*[@id=\"pront_top_search\"]/button').click()\n",
    "driver.find_element(by=By.XPATH, value='//*[@id=\"lnb\"]/ul/li[3]/a').click()\n",
    "left_day = driver.find_element(by=By.XPATH, value='//*[@id=\"startDate\"]')\n",
    "left_day.send_keys(\"2022.04.22\")\n",
    "right_day = driver.find_element(by=By.XPATH, value='//*[@id=\"endDate\"]')\n",
    "right_day.send_keys(\"2024.04.08\")\n",
    "driver.find_element(by=By.XPATH, value='//*[@id=\"lnb\"]/div/fieldset[2]/div/div/a').click()\n",
    "\n",
    "link_storage = dict()\n",
    "\n",
    "# 2를 74로 바꾸세요.\n",
    "for step in tqdm(range(1, 74)):\n",
    "    page = driver.find_element(by=By.XPATH, value='//*[@id=\"content\"]/div[3]/span/strong').text\n",
    "    print(f\"page {page}\")\n",
    "    news_list = driver.find_elements(by=By.CSS_SELECTOR, value=\"ul.col4 li\")    \n",
    "    for n in news_list:\n",
    "        title = n.find_element(by=By.CSS_SELECTOR, value=\"a strong\").text\n",
    "        if \"이창용\" in title and \"총재\" in title:\n",
    "            pic_link = n.find_element(by=By.CSS_SELECTOR, value=\"a div.thumb img\").get_attribute(\"src\")\n",
    "            pic_date = n.find_elements(by=By.CSS_SELECTOR, value='span.date')[1].text\n",
    "            date = re.findall(r\"([0-9]{4})\\.([0-9]{1,2})\\.([0-9]{1,2})\", pic_date)\n",
    "            if date:\n",
    "                year = date[0][0]\n",
    "                month = date[0][1]\n",
    "                day = date[0][2]\n",
    "                try:\n",
    "                    extension = os.path.splitext(urlparse(pic_link).path)[1]\n",
    "                except:\n",
    "                    extension = \".jpg\"\n",
    "                title = f\"lcy_pictures/n1_{year:0>4}{month:0>2}{day:0>2}_1{extension}\"\n",
    "                i = 1\n",
    "                while title in link_storage.keys():\n",
    "                    i += 1\n",
    "                    title = f\"lcy_pictures/n1_{year:0>4}{month:0>2}{day:0>2}_{i}{extension}\"\n",
    "                link_storage[title] = pic_link\n",
    "            \n",
    "            \n",
    "    if step == 73:\n",
    "        driver.quit()\n",
    "    elif step == 10: \n",
    "        driver.find_element(by=By.XPATH, value='//*[@id=\"content\"]/div[3]/a[1]').click()\n",
    "    elif step % 10 == 0:\n",
    "        driver.find_element(by=By.XPATH, value='//*[@id=\"content\"]/div[3]/a[3]').click()\n",
    "    else:\n",
    "        next = (step % 10)\n",
    "        driver.find_element(by=By.XPATH, value=f'//*[@id=\"content\"]/div[3]/span/a[{next}]').click()\n",
    "\n",
    "with open('links_news1.pkl', 'wb') as f:\n",
    "    pickle.dump(link_storage, f)\n",
    "    \n",
    "print(link_storage)\n",
    "\n",
    "\n"
   ]
  },
  {
   "cell_type": "code",
   "execution_count": 10,
   "metadata": {},
   "outputs": [
    {
     "name": "stdout",
     "output_type": "stream",
     "text": [
      "779\n"
     ]
    }
   ],
   "source": [
    "print(len(link_storage))"
   ]
  },
  {
   "cell_type": "code",
   "execution_count": 11,
   "metadata": {},
   "outputs": [
    {
     "name": "stdout",
     "output_type": "stream",
     "text": [
      "{'lcy_pictures/n1_20240321_1.jpg': 'https://image.news1.kr/system/photos/2024/3/21/6547407/no_water.jpg', 'lcy_pictures/n1_20240321_2.jpg': 'https://image.news1.kr/system/photos/2024/3/21/6547409/no_water.jpg', 'lcy_pictures/n1_20240321_3.jpg': 'https://image.news1.kr/system/photos/2024/3/21/6547271/no_water.jpg', 'lcy_pictures/n1_20240321_4.jpg': 'https://image.news1.kr/system/photos/2024/3/21/6547265/no_water.jpg', 'lcy_pictures/n1_20240305_1.jpg': 'https://image.news1.kr/system/photos/2024/3/5/6515460/no_water.jpg', 'lcy_pictures/n1_20240305_2.jpg': 'https://image.news1.kr/system/photos/2024/3/5/6515451/no_water.jpg', 'lcy_pictures/n1_20240305_3.jpg': 'https://image.news1.kr/system/photos/2024/3/5/6515450/no_water.jpg', 'lcy_pictures/n1_20240305_4.jpg': 'https://image.news1.kr/system/photos/2024/3/5/6515452/no_water.jpg', 'lcy_pictures/n1_20240222_1.jpg': 'https://image.news1.kr/system/photos/2024/2/22/6495405/no_water.jpg', 'lcy_pictures/n1_20240222_2.jpg': 'https://image.news1.kr/system/photos/2024/2/22/6495409/no_water.jpg', 'lcy_pictures/n1_20240222_3.jpg': 'https://image.news1.kr/system/photos/2024/2/22/6495413/no_water.jpg', 'lcy_pictures/n1_20240222_4.jpg': 'https://image.news1.kr/system/photos/2024/2/22/6495415/no_water.jpg', 'lcy_pictures/n1_20240222_5.jpg': 'https://image.news1.kr/system/photos/2024/2/22/6495298/no_water.jpg', 'lcy_pictures/n1_20240222_6.jpg': 'https://image.news1.kr/system/photos/2024/2/22/6495296/no_water.jpg', 'lcy_pictures/n1_20240222_7.jpg': 'https://image.news1.kr/system/photos/2024/2/22/6495294/no_water.jpg', 'lcy_pictures/n1_20240222_8.jpg': 'https://image.news1.kr/system/photos/2024/2/22/6494735/no_water.jpg', 'lcy_pictures/n1_20240222_9.jpg': 'https://image.news1.kr/system/photos/2024/2/22/6494733/no_water.jpg', 'lcy_pictures/n1_20240222_10.jpg': 'https://image.news1.kr/system/photos/2024/2/22/6494728/no_water.jpg', 'lcy_pictures/n1_20240222_11.jpg': 'https://image.news1.kr/system/photos/2024/2/22/6494727/no_water.jpg', 'lcy_pictures/n1_20240222_12.jpg': 'https://image.news1.kr/system/photos/2024/2/22/6494651/no_water.jpg', 'lcy_pictures/n1_20240222_13.jpg': 'https://image.news1.kr/system/photos/2024/2/22/6494648/no_water.jpg', 'lcy_pictures/n1_20240222_14.jpg': 'https://image.news1.kr/system/photos/2024/2/22/6494643/no_water.jpg', 'lcy_pictures/n1_20240222_15.jpg': 'https://image.news1.kr/system/photos/2024/2/22/6494644/no_water.jpg', 'lcy_pictures/n1_20240222_16.jpg': 'https://image.news1.kr/system/photos/2024/2/22/6494645/no_water.jpg', 'lcy_pictures/n1_20240222_17.jpg': 'https://image.news1.kr/system/photos/2024/2/22/6494646/no_water.jpg', 'lcy_pictures/n1_20240222_18.jpg': 'https://image.news1.kr/system/photos/2024/2/22/6494642/no_water.jpg', 'lcy_pictures/n1_20240206_1.jpg': 'https://image.news1.kr/system/photos/2024/2/6/6470452/no_water.jpg', 'lcy_pictures/n1_20240206_2.jpg': 'https://image.news1.kr/system/photos/2024/2/6/6470453/no_water.jpg', 'lcy_pictures/n1_20240206_3.jpg': 'https://image.news1.kr/system/photos/2024/2/6/6470441/no_water.jpg', 'lcy_pictures/n1_20240206_4.jpg': 'https://image.news1.kr/system/photos/2024/2/6/6470442/no_water.jpg', 'lcy_pictures/n1_20240206_5.jpg': 'https://image.news1.kr/system/photos/2024/2/6/6470446/no_water.jpg', 'lcy_pictures/n1_20240206_6.jpg': 'https://image.news1.kr/system/photos/2024/2/6/6470480/no_water.jpg', 'lcy_pictures/n1_20240206_7.jpg': 'https://image.news1.kr/system/photos/2024/2/6/6470479/no_water.jpg', 'lcy_pictures/n1_20240206_8.jpg': 'https://image.news1.kr/system/photos/2024/2/6/6470474/no_water.jpg', 'lcy_pictures/n1_20240206_9.jpg': 'https://image.news1.kr/system/photos/2024/2/6/6470465/no_water.jpg', 'lcy_pictures/n1_20240206_10.jpg': 'https://image.news1.kr/system/photos/2024/2/6/6470464/no_water.jpg', 'lcy_pictures/n1_20240206_11.jpg': 'https://image.news1.kr/system/photos/2024/2/6/6470440/no_water.jpg', 'lcy_pictures/n1_20240201_1.jpg': 'https://image.news1.kr/system/photos/2024/2/1/6461328/no_water.jpg', 'lcy_pictures/n1_20240201_2.jpg': 'https://image.news1.kr/system/photos/2024/2/1/6461325/no_water.jpg', 'lcy_pictures/n1_20240201_3.jpg': 'https://image.news1.kr/system/photos/2024/2/1/6460808/no_water.jpg', 'lcy_pictures/n1_20240131_1.jpg': 'https://image.news1.kr/system/photos/2024/1/31/6459982/no_water.jpg', 'lcy_pictures/n1_20240131_2.jpg': 'https://image.news1.kr/system/photos/2024/1/31/6459975/no_water.jpg', 'lcy_pictures/n1_20240111_1.jpg': 'https://image.news1.kr/system/photos/2024/1/11/6423169/no_water.jpg', 'lcy_pictures/n1_20240111_2.jpg': 'https://image.news1.kr/system/photos/2024/1/11/6423170/no_water.jpg', 'lcy_pictures/n1_20240111_3.jpg': 'https://image.news1.kr/system/photos/2024/1/11/6423171/no_water.jpg', 'lcy_pictures/n1_20240111_4.jpg': 'https://image.news1.kr/system/photos/2024/1/11/6423173/no_water.jpg', 'lcy_pictures/n1_20240111_5.jpg': 'https://image.news1.kr/system/photos/2024/1/11/6423172/no_water.jpg', 'lcy_pictures/n1_20240111_6.jpg': 'https://image.news1.kr/system/photos/2024/1/11/6423175/no_water.jpg', 'lcy_pictures/n1_20240111_7.jpg': 'https://image.news1.kr/system/photos/2024/1/11/6423176/no_water.jpg', 'lcy_pictures/n1_20240111_8.jpg': 'https://image.news1.kr/system/photos/2024/1/11/6423168/no_water.jpg', 'lcy_pictures/n1_20240111_9.jpg': 'https://image.news1.kr/system/photos/2024/1/11/6423167/no_water.jpg', 'lcy_pictures/n1_20240111_10.jpg': 'https://image.news1.kr/system/photos/2024/1/11/6423165/no_water.jpg', 'lcy_pictures/n1_20240111_11.jpg': 'https://image.news1.kr/system/photos/2024/1/11/6423110/no_water.jpg', 'lcy_pictures/n1_20240111_12.jpg': 'https://image.news1.kr/system/photos/2024/1/11/6423101/no_water.jpg', 'lcy_pictures/n1_20240111_13.jpg': 'https://image.news1.kr/system/photos/2024/1/11/6423097/no_water.jpg', 'lcy_pictures/n1_20240111_14.jpg': 'https://image.news1.kr/system/photos/2024/1/11/6423094/no_water.jpg', 'lcy_pictures/n1_20240111_15.jpg': 'https://image.news1.kr/system/photos/2024/1/11/6423095/no_water.jpg', 'lcy_pictures/n1_20240111_16.jpg': 'https://image.news1.kr/system/photos/2024/1/11/6423092/no_water.jpg', 'lcy_pictures/n1_20240111_17.jpg': 'https://image.news1.kr/system/photos/2024/1/11/6423091/no_water.jpg', 'lcy_pictures/n1_20240111_18.jpg': 'https://image.news1.kr/system/photos/2024/1/11/6423090/no_water.jpg', 'lcy_pictures/n1_20240111_19.jpg': 'https://image.news1.kr/system/photos/2024/1/11/6422506/no_water.jpg', 'lcy_pictures/n1_20240111_20.jpg': 'https://image.news1.kr/system/photos/2024/1/11/6422511/no_water.jpg', 'lcy_pictures/n1_20240111_21.jpg': 'https://image.news1.kr/system/photos/2024/1/11/6422509/no_water.jpg', 'lcy_pictures/n1_20240111_22.jpg': 'https://image.news1.kr/system/photos/2024/1/11/6422504/no_water.jpg', 'lcy_pictures/n1_20240111_23.jpg': 'https://image.news1.kr/system/photos/2024/1/11/6422502/no_water.jpg', 'lcy_pictures/n1_20240111_24.jpg': 'https://image.news1.kr/system/photos/2024/1/11/6422501/no_water.jpg', 'lcy_pictures/n1_20240111_25.jpg': 'https://image.news1.kr/system/photos/2024/1/11/6422497/no_water.jpg', 'lcy_pictures/n1_20240111_26.jpg': 'https://image.news1.kr/system/photos/2024/1/11/6422495/no_water.jpg', 'lcy_pictures/n1_20240111_27.jpg': 'https://image.news1.kr/system/photos/2024/1/11/6422494/no_water.jpg', 'lcy_pictures/n1_20240111_28.jpg': 'https://image.news1.kr/system/photos/2024/1/11/6422492/no_water.jpg', 'lcy_pictures/n1_20240111_29.jpg': 'https://image.news1.kr/system/photos/2024/1/11/6422491/no_water.jpg', 'lcy_pictures/n1_20240111_30.jpg': 'https://image.news1.kr/system/photos/2024/1/11/6422474/no_water.jpg', 'lcy_pictures/n1_20240111_31.jpg': 'https://image.news1.kr/system/photos/2024/1/11/6422469/no_water.jpg', 'lcy_pictures/n1_20240111_32.jpg': 'https://image.news1.kr/system/photos/2024/1/11/6422467/no_water.jpg', 'lcy_pictures/n1_20240111_33.jpg': 'https://image.news1.kr/system/photos/2024/1/11/6422465/no_water.jpg', 'lcy_pictures/n1_20240111_34.jpg': 'https://image.news1.kr/system/photos/2024/1/11/6422464/no_water.jpg', 'lcy_pictures/n1_20240111_35.jpg': 'https://image.news1.kr/system/photos/2024/1/11/6422462/no_water.jpg', 'lcy_pictures/n1_20240103_1.jpg': 'https://image.news1.kr/system/photos/2024/1/3/6410102/no_water.jpg', 'lcy_pictures/n1_20240103_2.jpg': 'https://image.news1.kr/system/photos/2024/1/3/6410128/no_water.jpg', 'lcy_pictures/n1_20240103_3.jpg': 'https://image.news1.kr/system/photos/2024/1/3/6410123/no_water.jpg', 'lcy_pictures/n1_20240103_4.jpg': 'https://image.news1.kr/system/photos/2024/1/3/6410069/no_water.jpg', 'lcy_pictures/n1_20240102_1.jpg': 'https://image.news1.kr/system/photos/2024/1/2/6407630/no_water.jpg', 'lcy_pictures/n1_20240102_2.jpg': 'https://image.news1.kr/system/photos/2024/1/2/6407632/no_water.jpg', 'lcy_pictures/n1_20231220_1.jpg': 'https://image.news1.kr/system/photos/2023/12/20/6388975/no_water.jpg', 'lcy_pictures/n1_20231220_2.jpg': 'https://image.news1.kr/system/photos/2023/12/20/6388970/no_water.jpg', 'lcy_pictures/n1_20231220_3.jpg': 'https://image.news1.kr/system/photos/2023/12/20/6388969/no_water.jpg', 'lcy_pictures/n1_20231220_4.jpg': 'https://image.news1.kr/system/photos/2023/12/20/6388964/no_water.jpg', 'lcy_pictures/n1_20231220_5.jpg': 'https://image.news1.kr/system/photos/2023/12/20/6388966/no_water.jpg', 'lcy_pictures/n1_20231215_1.jpg': 'https://image.news1.kr/system/photos/2023/12/15/6380744/no_water.jpg', 'lcy_pictures/n1_20231215_2.jpg': 'https://image.news1.kr/system/photos/2023/12/15/6380733/no_water.jpg', 'lcy_pictures/n1_20231214_1.jpg': 'https://image.news1.kr/system/photos/2023/12/14/6378430/no_water.jpg', 'lcy_pictures/n1_20231214_2.jpg': 'https://image.news1.kr/system/photos/2023/12/14/6378429/no_water.jpg', 'lcy_pictures/n1_20231214_3.jpg': 'https://image.news1.kr/system/photos/2023/12/14/6378422/no_water.jpg', 'lcy_pictures/n1_20231130_1.jpg': 'https://image.news1.kr/system/photos/2023/11/30/6355332/no_water.jpg', 'lcy_pictures/n1_20231130_2.jpg': 'https://image.news1.kr/system/photos/2023/11/30/6355331/no_water.jpg', 'lcy_pictures/n1_20231130_3.jpg': 'https://image.news1.kr/system/photos/2023/11/30/6355330/no_water.jpg', 'lcy_pictures/n1_20231130_4.jpg': 'https://image.news1.kr/system/photos/2023/11/30/6355329/no_water.jpg', 'lcy_pictures/n1_20231130_5.jpg': 'https://image.news1.kr/system/photos/2023/11/30/6355328/no_water.jpg', 'lcy_pictures/n1_20231130_6.jpg': 'https://image.news1.kr/system/photos/2023/11/30/6355327/no_water.jpg', 'lcy_pictures/n1_20231130_7.jpg': 'https://image.news1.kr/system/photos/2023/11/30/6355323/no_water.jpg', 'lcy_pictures/n1_20231130_8.jpg': 'https://image.news1.kr/system/photos/2023/11/30/6355322/no_water.jpg', 'lcy_pictures/n1_20231130_9.jpg': 'https://image.news1.kr/system/photos/2023/11/30/6355321/no_water.jpg', 'lcy_pictures/n1_20231130_10.jpg': 'https://image.news1.kr/system/photos/2023/11/30/6355320/no_water.jpg', 'lcy_pictures/n1_20231130_11.jpg': 'https://image.news1.kr/system/photos/2023/11/30/6355319/no_water.jpg', 'lcy_pictures/n1_20231130_12.jpg': 'https://image.news1.kr/system/photos/2023/11/30/6355318/no_water.jpg', 'lcy_pictures/n1_20231130_13.jpg': 'https://image.news1.kr/system/photos/2023/11/30/6355333/no_water.jpg', 'lcy_pictures/n1_20231130_14.jpg': 'https://image.news1.kr/system/photos/2023/11/30/6355336/no_water.jpg', 'lcy_pictures/n1_20231130_15.jpg': 'https://image.news1.kr/system/photos/2023/11/30/6355339/no_water.jpg', 'lcy_pictures/n1_20231130_16.jpg': 'https://image.news1.kr/system/photos/2023/11/30/6355352/no_water.jpg', 'lcy_pictures/n1_20231130_17.jpg': 'https://image.news1.kr/system/photos/2023/11/30/6355350/no_water.jpg', 'lcy_pictures/n1_20231130_18.jpg': 'https://image.news1.kr/system/photos/2023/11/30/6355349/no_water.jpg', 'lcy_pictures/n1_20231130_19.jpg': 'https://image.news1.kr/system/photos/2023/11/30/6355347/no_water.jpg', 'lcy_pictures/n1_20231130_20.jpg': 'https://image.news1.kr/system/photos/2023/11/30/6355345/no_water.jpg', 'lcy_pictures/n1_20231130_21.jpg': 'https://image.news1.kr/system/photos/2023/11/30/6355343/no_water.jpg', 'lcy_pictures/n1_20231130_22.jpg': 'https://image.news1.kr/system/photos/2023/11/30/6355341/no_water.jpg', 'lcy_pictures/n1_20231130_23.jpg': 'https://image.news1.kr/system/photos/2023/11/30/6354499/no_water.jpg', 'lcy_pictures/n1_20231130_24.jpg': 'https://image.news1.kr/system/photos/2023/11/30/6354498/no_water.jpg', 'lcy_pictures/n1_20231130_25.jpg': 'https://image.news1.kr/system/photos/2023/11/30/6354496/no_water.jpg', 'lcy_pictures/n1_20231130_26.jpg': 'https://image.news1.kr/system/photos/2023/11/30/6354420/no_water.jpg', 'lcy_pictures/n1_20231130_27.jpg': 'https://image.news1.kr/system/photos/2023/11/30/6354417/no_water.jpg', 'lcy_pictures/n1_20231130_28.jpg': 'https://image.news1.kr/system/photos/2023/11/30/6354415/no_water.jpg', 'lcy_pictures/n1_20231130_29.jpg': 'https://image.news1.kr/system/photos/2023/11/30/6354413/no_water.jpg', 'lcy_pictures/n1_20231123_1.jpg': 'https://image.news1.kr/system/photos/2023/11/23/6342745/no_water.jpg', 'lcy_pictures/n1_20231123_2.jpg': 'https://image.news1.kr/system/photos/2023/11/23/6342744/no_water.jpg', 'lcy_pictures/n1_20231123_3.jpg': 'https://image.news1.kr/system/photos/2023/11/23/6342741/no_water.jpg', 'lcy_pictures/n1_20231123_4.jpg': 'https://image.news1.kr/system/photos/2023/11/23/6342737/no_water.jpg', 'lcy_pictures/n1_20231123_5.jpg': 'https://image.news1.kr/system/photos/2023/11/23/6342730/no_water.jpg', 'lcy_pictures/n1_20231123_6.jpg': 'https://image.news1.kr/system/photos/2023/11/23/6342761/no_water.jpg', 'lcy_pictures/n1_20231123_7.jpg': 'https://image.news1.kr/system/photos/2023/11/23/6342760/no_water.jpg', 'lcy_pictures/n1_20231123_8.jpg': 'https://image.news1.kr/system/photos/2023/11/23/6342757/no_water.jpg', 'lcy_pictures/n1_20231123_9.jpg': 'https://image.news1.kr/system/photos/2023/11/23/6342756/no_water.jpg', 'lcy_pictures/n1_20231123_10.jpg': 'https://image.news1.kr/system/photos/2023/11/23/6342751/no_water.jpg', 'lcy_pictures/n1_20231123_11.jpg': 'https://image.news1.kr/system/photos/2023/11/23/6342750/no_water.jpg', 'lcy_pictures/n1_20231123_12.jpg': 'https://image.news1.kr/system/photos/2023/11/23/6342704/no_water.jpg', 'lcy_pictures/n1_20231123_13.jpg': 'https://image.news1.kr/system/photos/2023/11/23/6342707/no_water.jpg', 'lcy_pictures/n1_20231123_14.jpg': 'https://image.news1.kr/system/photos/2023/11/23/6342708/no_water.jpg', 'lcy_pictures/n1_20231123_15.jpg': 'https://image.news1.kr/system/photos/2023/11/23/6342721/no_water.jpg', 'lcy_pictures/n1_20231123_16.jpg': 'https://image.news1.kr/system/photos/2023/11/23/6342719/no_water.jpg', 'lcy_pictures/n1_20231123_17.jpg': 'https://image.news1.kr/system/photos/2023/11/23/6342724/no_water.jpg', 'lcy_pictures/n1_20231106_1.jpg': 'https://image.news1.kr/system/photos/2023/11/6/6308734/no_water.jpg', 'lcy_pictures/n1_20231106_2.jpg': 'https://image.news1.kr/system/photos/2023/11/6/6308742/no_water.jpg', 'lcy_pictures/n1_20231106_3.jpg': 'https://image.news1.kr/system/photos/2023/11/6/6308741/no_water.jpg', 'lcy_pictures/n1_20231106_4.jpg': 'https://image.news1.kr/system/photos/2023/11/6/6308740/no_water.jpg', 'lcy_pictures/n1_20231102_1.jpg': 'https://image.news1.kr/system/photos/2023/11/2/6303249/no_water.jpg', 'lcy_pictures/n1_20231102_2.jpg': 'https://image.news1.kr/system/photos/2023/11/2/6303252/no_water.jpg', 'lcy_pictures/n1_20231102_3.jpg': 'https://image.news1.kr/system/photos/2023/11/2/6303245/no_water.jpg', 'lcy_pictures/n1_20231101_1.jpg': 'https://image.news1.kr/system/photos/2023/11/1/6300767/no_water.jpg', 'lcy_pictures/n1_20231101_2.jpg': 'https://image.news1.kr/system/photos/2023/11/1/6300765/no_water.jpg', 'lcy_pictures/n1_20231101_3.jpg': 'https://image.news1.kr/system/photos/2023/11/1/6300764/no_water.jpg', 'lcy_pictures/n1_20231101_4.jpg': 'https://image.news1.kr/system/photos/2023/11/1/6300763/no_water.jpg', 'lcy_pictures/n1_20231101_5.jpg': 'https://image.news1.kr/system/photos/2023/11/1/6300762/no_water.jpg', 'lcy_pictures/n1_20231101_6.jpg': 'https://image.news1.kr/system/photos/2023/11/1/6300761/no_water.jpg', 'lcy_pictures/n1_20231101_7.jpg': 'https://image.news1.kr/system/photos/2023/11/1/6300704/no_water.jpg', 'lcy_pictures/n1_20231101_8.jpg': 'https://image.news1.kr/system/photos/2023/11/1/6300676/no_water.jpg', 'lcy_pictures/n1_20231101_9.jpg': 'https://image.news1.kr/system/photos/2023/11/1/6300673/no_water.jpg', 'lcy_pictures/n1_20231027_1.jpg': 'https://image.news1.kr/system/photos/2023/10/27/6292056/no_water.jpg', 'lcy_pictures/n1_20231027_2.jpg': 'https://image.news1.kr/system/photos/2023/10/27/6292048/no_water.jpg', 'lcy_pictures/n1_20231027_3.jpg': 'https://image.news1.kr/system/photos/2023/10/27/6292039/no_water.jpg', 'lcy_pictures/n1_20231027_4.jpg': 'https://image.news1.kr/system/photos/2023/10/27/6292037/no_water.jpg', 'lcy_pictures/n1_20231027_5.jpg': 'https://image.news1.kr/system/photos/2023/10/27/6292035/no_water.jpg', 'lcy_pictures/n1_20231027_6.jpg': 'https://image.news1.kr/system/photos/2023/10/27/6292034/no_water.jpg', 'lcy_pictures/n1_20231027_7.jpg': 'https://image.news1.kr/system/photos/2023/10/27/6292033/no_water.jpg', 'lcy_pictures/n1_20231027_8.jpg': 'https://image.news1.kr/system/photos/2023/10/27/6292032/no_water.jpg', 'lcy_pictures/n1_20231023_1.jpg': 'https://image.news1.kr/system/photos/2023/10/23/6282166/no_water.jpg', 'lcy_pictures/n1_20231023_2.jpg': 'https://image.news1.kr/system/photos/2023/10/23/6282167/no_water.jpg', 'lcy_pictures/n1_20231023_3.jpg': 'https://image.news1.kr/system/photos/2023/10/23/6282168/no_water.jpg', 'lcy_pictures/n1_20231023_4.jpg': 'https://image.news1.kr/system/photos/2023/10/23/6282169/no_water.jpg', 'lcy_pictures/n1_20231023_5.jpg': 'https://image.news1.kr/system/photos/2023/10/23/6282174/no_water.jpg', 'lcy_pictures/n1_20231023_6.jpg': 'https://image.news1.kr/system/photos/2023/10/23/6282172/no_water.jpg', 'lcy_pictures/n1_20231023_7.jpg': 'https://image.news1.kr/system/photos/2023/10/23/6282171/no_water.jpg', 'lcy_pictures/n1_20231023_8.jpg': 'https://image.news1.kr/system/photos/2023/10/23/6282176/no_water.jpg', 'lcy_pictures/n1_20231023_9.jpg': 'https://image.news1.kr/system/photos/2023/10/23/6282179/no_water.jpg', 'lcy_pictures/n1_20231023_10.jpg': 'https://image.news1.kr/system/photos/2023/10/23/6282180/no_water.jpg', 'lcy_pictures/n1_20231019_1.jpg': 'https://image.news1.kr/system/photos/2023/10/19/6275712/no_water.jpg', 'lcy_pictures/n1_20231019_2.jpg': 'https://image.news1.kr/system/photos/2023/10/19/6275711/no_water.jpg', 'lcy_pictures/n1_20231019_3.jpg': 'https://image.news1.kr/system/photos/2023/10/19/6275713/no_water.jpg', 'lcy_pictures/n1_20231019_4.jpg': 'https://image.news1.kr/system/photos/2023/10/19/6275714/no_water.jpg', 'lcy_pictures/n1_20231019_5.jpg': 'https://image.news1.kr/system/photos/2023/10/19/6275715/no_water.jpg', 'lcy_pictures/n1_20231019_6.jpg': 'https://image.news1.kr/system/photos/2023/10/19/6275710/no_water.jpg', 'lcy_pictures/n1_20231019_7.jpg': 'https://image.news1.kr/system/photos/2023/10/19/6275709/no_water.jpg', 'lcy_pictures/n1_20231019_8.jpg': 'https://image.news1.kr/system/photos/2023/10/19/6275707/no_water.jpg', 'lcy_pictures/n1_20231019_9.jpg': 'https://image.news1.kr/system/photos/2023/10/19/6275706/no_water.jpg', 'lcy_pictures/n1_20231019_10.jpg': 'https://image.news1.kr/system/photos/2023/10/19/6275705/no_water.jpg', 'lcy_pictures/n1_20231019_11.jpg': 'https://image.news1.kr/system/photos/2023/10/19/6275703/no_water.jpg', 'lcy_pictures/n1_20231019_12.jpg': 'https://image.news1.kr/system/photos/2023/10/19/6275679/no_water.jpg', 'lcy_pictures/n1_20231019_13.jpg': 'https://image.news1.kr/system/photos/2023/10/19/6275681/no_water.jpg', 'lcy_pictures/n1_20231019_14.jpg': 'https://image.news1.kr/system/photos/2023/10/19/6275682/no_water.jpg', 'lcy_pictures/n1_20231019_15.jpg': 'https://image.news1.kr/system/photos/2023/10/19/6275683/no_water.jpg', 'lcy_pictures/n1_20231019_16.jpg': 'https://image.news1.kr/system/photos/2023/10/19/6275688/no_water.jpg', 'lcy_pictures/n1_20231019_17.jpg': 'https://image.news1.kr/system/photos/2023/10/19/6275687/no_water.jpg', 'lcy_pictures/n1_20231019_18.jpg': 'https://image.news1.kr/system/photos/2023/10/19/6275686/no_water.jpg', 'lcy_pictures/n1_20231019_19.jpg': 'https://image.news1.kr/system/photos/2023/10/19/6275684/no_water.jpg', 'lcy_pictures/n1_20231019_20.jpg': 'https://image.news1.kr/system/photos/2023/10/19/6275227/no_water.jpg', 'lcy_pictures/n1_20231019_21.jpg': 'https://image.news1.kr/system/photos/2023/10/19/6275225/no_water.jpg', 'lcy_pictures/n1_20231019_22.jpg': 'https://image.news1.kr/system/photos/2023/10/19/6275223/no_water.jpg', 'lcy_pictures/n1_20231019_23.jpg': 'https://image.news1.kr/system/photos/2023/10/19/6275222/no_water.jpg', 'lcy_pictures/n1_20231019_24.jpg': 'https://image.news1.kr/system/photos/2023/10/19/6275147/no_water.jpg', 'lcy_pictures/n1_20231019_25.jpg': 'https://image.news1.kr/system/photos/2023/10/19/6275132/no_water.jpg', 'lcy_pictures/n1_20231019_26.jpg': 'https://image.news1.kr/system/photos/2023/10/19/6275133/no_water.jpg', 'lcy_pictures/n1_20231019_27.jpg': 'https://image.news1.kr/system/photos/2023/10/19/6275134/no_water.jpg', 'lcy_pictures/n1_20231019_28.jpg': 'https://image.news1.kr/system/photos/2023/10/19/6275135/no_water.jpg', 'lcy_pictures/n1_20231019_29.jpg': 'https://image.news1.kr/system/photos/2023/10/19/6275136/no_water.jpg', 'lcy_pictures/n1_20231019_30.jpg': 'https://image.news1.kr/system/photos/2023/10/19/6275137/no_water.jpg', 'lcy_pictures/n1_20231019_31.jpg': 'https://image.news1.kr/system/photos/2023/10/19/6275144/no_water.jpg', 'lcy_pictures/n1_20231019_32.jpg': 'https://image.news1.kr/system/photos/2023/10/19/6275141/no_water.jpg', 'lcy_pictures/n1_20231019_33.jpg': 'https://image.news1.kr/system/photos/2023/10/19/6275138/no_water.jpg', 'lcy_pictures/n1_20231005_1.jpg': 'https://image.news1.kr/system/photos/2023/10/5/6250349/no_water.jpg', 'lcy_pictures/n1_20231005_2.jpg': 'https://image.news1.kr/system/photos/2023/10/5/6250348/no_water.jpg', 'lcy_pictures/n1_20230925_1.jpg': 'https://image.news1.kr/system/photos/2023/9/25/6235449/no_water.jpg', 'lcy_pictures/n1_20230921_1.jpg': 'https://image.news1.kr/system/photos/2023/9/21/6225649/no_water.jpg', 'lcy_pictures/n1_20230921_2.jpg': 'https://image.news1.kr/system/photos/2023/9/21/6225647/no_water.jpg', 'lcy_pictures/n1_20230824_1.jpg': 'https://image.news1.kr/system/photos/2023/8/24/6174665/no_water.jpg', 'lcy_pictures/n1_20230824_2.jpg': 'https://image.news1.kr/system/photos/2023/8/24/6174664/no_water.jpg', 'lcy_pictures/n1_20230824_3.jpg': 'https://image.news1.kr/system/photos/2023/8/24/6174663/no_water.jpg', 'lcy_pictures/n1_20230824_4.jpg': 'https://image.news1.kr/system/photos/2023/8/24/6174662/no_water.jpg', 'lcy_pictures/n1_20230824_5.jpg': 'https://image.news1.kr/system/photos/2023/8/24/6174675/no_water.jpg', 'lcy_pictures/n1_20230824_6.jpg': 'https://image.news1.kr/system/photos/2023/8/24/6174671/no_water.jpg', 'lcy_pictures/n1_20230824_7.jpg': 'https://image.news1.kr/system/photos/2023/8/24/6174666/no_water.jpg', 'lcy_pictures/n1_20230824_8.jpg': 'https://image.news1.kr/system/photos/2023/8/24/6174667/no_water.jpg', 'lcy_pictures/n1_20230824_9.jpg': 'https://image.news1.kr/system/photos/2023/8/24/6174668/no_water.jpg', 'lcy_pictures/n1_20230824_10.jpg': 'https://image.news1.kr/system/photos/2023/8/24/6174669/no_water.jpg', 'lcy_pictures/n1_20230824_11.jpg': 'https://image.news1.kr/system/photos/2023/8/24/6174670/no_water.jpg', 'lcy_pictures/n1_20230824_12.jpg': 'https://image.news1.kr/system/photos/2023/8/24/6174687/no_water.jpg', 'lcy_pictures/n1_20230824_13.jpg': 'https://image.news1.kr/system/photos/2023/8/24/6174682/no_water.jpg', 'lcy_pictures/n1_20230824_14.jpg': 'https://image.news1.kr/system/photos/2023/8/24/6174661/no_water.jpg', 'lcy_pictures/n1_20230824_15.jpg': 'https://image.news1.kr/system/photos/2023/8/24/6174688/no_water.jpg', 'lcy_pictures/n1_20230824_16.jpg': 'https://image.news1.kr/system/photos/2023/8/24/6174680/no_water.jpg', 'lcy_pictures/n1_20230824_17.jpg': 'https://image.news1.kr/system/photos/2023/8/24/6174681/no_water.jpg', 'lcy_pictures/n1_20230824_18.jpg': 'https://image.news1.kr/system/photos/2023/8/24/6173954/no_water.jpg', 'lcy_pictures/n1_20230824_19.jpg': 'https://image.news1.kr/system/photos/2023/8/24/6173950/no_water.jpg', 'lcy_pictures/n1_20230824_20.jpg': 'https://image.news1.kr/system/photos/2023/8/24/6173949/no_water.jpg', 'lcy_pictures/n1_20230824_21.jpg': 'https://image.news1.kr/system/photos/2023/8/24/6173970/no_water.jpg', 'lcy_pictures/n1_20230824_22.jpg': 'https://image.news1.kr/system/photos/2023/8/24/6173968/no_water.jpg', 'lcy_pictures/n1_20230824_23.jpg': 'https://image.news1.kr/system/photos/2023/8/24/6173967/no_water.jpg', 'lcy_pictures/n1_20230824_24.jpg': 'https://image.news1.kr/system/photos/2023/8/24/6173966/no_water.jpg', 'lcy_pictures/n1_20230824_25.jpg': 'https://image.news1.kr/system/photos/2023/8/24/6173964/no_water.jpg', 'lcy_pictures/n1_20230824_26.jpg': 'https://image.news1.kr/system/photos/2023/8/24/6173961/no_water.jpg', 'lcy_pictures/n1_20230824_27.jpg': 'https://image.news1.kr/system/photos/2023/8/24/6173960/no_water.jpg', 'lcy_pictures/n1_20230824_28.jpg': 'https://image.news1.kr/system/photos/2023/8/24/6173972/no_water.jpg', 'lcy_pictures/n1_20230822_1.jpg': 'https://image.news1.kr/system/photos/2023/8/22/6169848/no_water.jpg', 'lcy_pictures/n1_20230822_2.jpg': 'https://image.news1.kr/system/photos/2023/8/22/6169778/no_water.jpg', 'lcy_pictures/n1_20230822_3.jpg': 'https://image.news1.kr/system/photos/2023/8/22/6169777/no_water.jpg', 'lcy_pictures/n1_20230822_4.jpg': 'https://image.news1.kr/system/photos/2023/8/22/6169776/no_water.jpg', 'lcy_pictures/n1_20230822_5.jpg': 'https://image.news1.kr/system/photos/2023/8/22/6169773/no_water.jpg', 'lcy_pictures/n1_20230822_6.jpg': 'https://image.news1.kr/system/photos/2023/8/22/6169772/no_water.jpg', 'lcy_pictures/n1_20230822_7.jpg': 'https://image.news1.kr/system/photos/2023/8/22/6169771/no_water.jpg', 'lcy_pictures/n1_20230822_8.jpg': 'https://image.news1.kr/system/photos/2023/8/22/6169770/no_water.jpg', 'lcy_pictures/n1_20230822_9.jpg': 'https://image.news1.kr/system/photos/2023/8/22/6169748/no_water.jpg', 'lcy_pictures/n1_20230816_1.jpg': 'https://image.news1.kr/system/photos/2023/8/16/6161935/no_water.jpg', 'lcy_pictures/n1_20230816_2.jpg': 'https://image.news1.kr/system/photos/2023/8/16/6161932/no_water.jpg', 'lcy_pictures/n1_20230727_1.jpg': 'https://image.news1.kr/system/photos/2023/7/27/6127370/no_water.jpg', 'lcy_pictures/n1_20230723_1.jpg': 'https://image.news1.kr/system/photos/2023/7/23/6118652/no_water.jpg', 'lcy_pictures/n1_20230713_1.jpg': 'https://image.news1.kr/system/photos/2023/7/13/6100327/no_water.jpg', 'lcy_pictures/n1_20230713_2.jpg': 'https://image.news1.kr/system/photos/2023/7/13/6100326/no_water.jpg', 'lcy_pictures/n1_20230713_3.jpg': 'https://image.news1.kr/system/photos/2023/7/13/6100324/no_water.jpg', 'lcy_pictures/n1_20230713_4.jpg': 'https://image.news1.kr/system/photos/2023/7/13/6100329/no_water.jpg', 'lcy_pictures/n1_20230713_5.jpg': 'https://image.news1.kr/system/photos/2023/7/13/6100322/no_water.jpg', 'lcy_pictures/n1_20230713_6.jpg': 'https://image.news1.kr/system/photos/2023/7/13/6100333/no_water.jpg', 'lcy_pictures/n1_20230713_7.jpg': 'https://image.news1.kr/system/photos/2023/7/13/6100321/no_water.jpg', 'lcy_pictures/n1_20230713_8.jpg': 'https://image.news1.kr/system/photos/2023/7/13/6100320/no_water.jpg', 'lcy_pictures/n1_20230713_9.jpg': 'https://image.news1.kr/system/photos/2023/7/13/6099763/no_water.jpg', 'lcy_pictures/n1_20230713_10.jpg': 'https://image.news1.kr/system/photos/2023/7/13/6099761/no_water.jpg', 'lcy_pictures/n1_20230713_11.jpg': 'https://image.news1.kr/system/photos/2023/7/13/6099755/no_water.jpg', 'lcy_pictures/n1_20230713_12.jpg': 'https://image.news1.kr/system/photos/2023/7/13/6099753/no_water.jpg', 'lcy_pictures/n1_20230713_13.jpg': 'https://image.news1.kr/system/photos/2023/7/13/6099752/no_water.jpg', 'lcy_pictures/n1_20230713_14.jpg': 'https://image.news1.kr/system/photos/2023/7/13/6099754/no_water.jpg', 'lcy_pictures/n1_20230713_15.jpg': 'https://image.news1.kr/system/photos/2023/7/13/6099751/no_water.jpg', 'lcy_pictures/n1_20230713_16.jpg': 'https://image.news1.kr/system/photos/2023/7/13/6099750/no_water.jpg', 'lcy_pictures/n1_20230713_17.jpg': 'https://image.news1.kr/system/photos/2023/7/13/6099749/no_water.jpg', 'lcy_pictures/n1_20230620_1.jpg': 'https://image.news1.kr/system/photos/2023/6/20/6056171/no_water.jpg', 'lcy_pictures/n1_20230620_2.jpg': 'https://image.news1.kr/system/photos/2023/6/20/6056108/no_water.jpg', 'lcy_pictures/n1_20230620_3.jpg': 'https://image.news1.kr/system/photos/2023/6/20/6056105/no_water.jpg', 'lcy_pictures/n1_20230619_1.jpg': 'https://image.news1.kr/system/photos/2023/6/19/6055140/no_water.jpg', 'lcy_pictures/n1_20230619_2.jpg': 'https://image.news1.kr/system/photos/2023/6/19/6055141/no_water.jpg', 'lcy_pictures/n1_20230619_3.jpg': 'https://image.news1.kr/system/photos/2023/6/19/6055143/no_water.jpg', 'lcy_pictures/n1_20230619_4.jpg': 'https://image.news1.kr/system/photos/2023/6/19/6055145/no_water.jpg', 'lcy_pictures/n1_20230619_5.jpg': 'https://image.news1.kr/system/photos/2023/6/19/6055148/no_water.jpg', 'lcy_pictures/n1_20230619_6.jpg': 'https://image.news1.kr/system/photos/2023/6/19/6055150/no_water.jpg', 'lcy_pictures/n1_20230619_7.jpg': 'https://image.news1.kr/system/photos/2023/6/19/6055153/no_water.jpg', 'lcy_pictures/n1_20230619_8.jpg': 'https://image.news1.kr/system/photos/2023/6/19/6055152/no_water.jpg', 'lcy_pictures/n1_20230615_1.jpg': 'https://image.news1.kr/system/photos/2023/6/15/6047886/no_water.jpg', 'lcy_pictures/n1_20230612_1.jpg': 'https://image.news1.kr/system/photos/2023/6/12/6041461/no_water.jpg', 'lcy_pictures/n1_20230612_2.jpg': 'https://image.news1.kr/system/photos/2023/6/12/6041460/no_water.jpg', 'lcy_pictures/n1_20230601_1.jpg': 'https://image.news1.kr/system/photos/2023/6/1/6024898/no_water.jpg', 'lcy_pictures/n1_20230601_2.jpg': 'https://image.news1.kr/system/photos/2023/6/1/6024896/no_water.jpg', 'lcy_pictures/n1_20230601_3.jpg': 'https://image.news1.kr/system/photos/2023/6/1/6024894/no_water.jpg', 'lcy_pictures/n1_20230601_4.jpg': 'https://image.news1.kr/system/photos/2023/6/1/6024893/no_water.jpg', 'lcy_pictures/n1_20230601_5.jpg': 'https://image.news1.kr/system/photos/2023/6/1/6024892/no_water.jpg', 'lcy_pictures/n1_20230601_6.jpg': 'https://image.news1.kr/system/photos/2023/6/1/6024889/no_water.jpg', 'lcy_pictures/n1_20230601_7.jpg': 'https://image.news1.kr/system/photos/2023/6/1/6024882/no_water.jpg', 'lcy_pictures/n1_20230525_1.jpg': 'https://image.news1.kr/system/photos/2023/5/25/6013788/no_water.jpg', 'lcy_pictures/n1_20230525_2.jpg': 'https://image.news1.kr/system/photos/2023/5/25/6013789/no_water.jpg', 'lcy_pictures/n1_20230525_3.jpg': 'https://image.news1.kr/system/photos/2023/5/25/6013790/no_water.jpg', 'lcy_pictures/n1_20230525_4.jpg': 'https://image.news1.kr/system/photos/2023/5/25/6013793/no_water.jpg', 'lcy_pictures/n1_20230525_5.jpg': 'https://image.news1.kr/system/photos/2023/5/25/6013786/no_water.jpg', 'lcy_pictures/n1_20230525_6.jpg': 'https://image.news1.kr/system/photos/2023/5/25/6013785/no_water.jpg', 'lcy_pictures/n1_20230525_7.jpg': 'https://image.news1.kr/system/photos/2023/5/25/6013794/no_water.jpg', 'lcy_pictures/n1_20230525_8.jpg': 'https://image.news1.kr/system/photos/2023/5/25/6013783/no_water.jpg', 'lcy_pictures/n1_20230525_9.jpg': 'https://image.news1.kr/system/photos/2023/5/25/6013778/no_water.jpg', 'lcy_pictures/n1_20230525_10.jpg': 'https://image.news1.kr/system/photos/2023/5/25/6013172/no_water.jpg', 'lcy_pictures/n1_20230525_11.jpg': 'https://image.news1.kr/system/photos/2023/5/25/6013169/no_water.jpg', 'lcy_pictures/n1_20230525_12.jpg': 'https://image.news1.kr/system/photos/2023/5/25/6013168/no_water.jpg', 'lcy_pictures/n1_20230525_13.jpg': 'https://image.news1.kr/system/photos/2023/5/25/6013163/no_water.jpg', 'lcy_pictures/n1_20230525_14.jpg': 'https://image.news1.kr/system/photos/2023/5/25/6013158/no_water.jpg', 'lcy_pictures/n1_20230525_15.jpg': 'https://image.news1.kr/system/photos/2023/5/25/6013153/no_water.jpg', 'lcy_pictures/n1_20230525_16.jpg': 'https://image.news1.kr/system/photos/2023/5/25/6013166/no_water.jpg', 'lcy_pictures/n1_20230525_17.jpg': 'https://image.news1.kr/system/photos/2023/5/25/6013157/no_water.jpg', 'lcy_pictures/n1_20230525_18.jpg': 'https://image.news1.kr/system/photos/2023/5/25/6013148/no_water.jpg', 'lcy_pictures/n1_20230525_19.jpg': 'https://image.news1.kr/system/photos/2023/5/25/6013096/no_water.jpg', 'lcy_pictures/n1_20230525_20.jpg': 'https://image.news1.kr/system/photos/2023/5/25/6013092/no_water.jpg', 'lcy_pictures/n1_20230525_21.jpg': 'https://image.news1.kr/system/photos/2023/5/25/6013093/no_water.jpg', 'lcy_pictures/n1_20230525_22.jpg': 'https://image.news1.kr/system/photos/2023/5/25/6013085/no_water.jpg', 'lcy_pictures/n1_20230522_1.jpg': 'https://image.news1.kr/system/photos/2023/5/22/6006932/no_water.jpg', 'lcy_pictures/n1_20230522_2.jpg': 'https://image.news1.kr/system/photos/2023/5/22/6006933/no_water.jpg', 'lcy_pictures/n1_20230522_3.jpg': 'https://image.news1.kr/system/photos/2023/5/22/6006934/no_water.jpg', 'lcy_pictures/n1_20230522_4.jpg': 'https://image.news1.kr/system/photos/2023/5/22/6006935/no_water.jpg', 'lcy_pictures/n1_20230522_5.jpg': 'https://image.news1.kr/system/photos/2023/5/22/6006936/no_water.jpg', 'lcy_pictures/n1_20230522_6.jpg': 'https://image.news1.kr/system/photos/2023/5/22/6006938/no_water.jpg', 'lcy_pictures/n1_20230522_7.jpg': 'https://image.news1.kr/system/photos/2023/5/22/6006952/no_water.jpg', 'lcy_pictures/n1_20230522_8.jpg': 'https://image.news1.kr/system/photos/2023/5/22/6006953/no_water.jpg', 'lcy_pictures/n1_20230522_9.jpg': 'https://image.news1.kr/system/photos/2023/5/22/6006954/no_water.jpg', 'lcy_pictures/n1_20230522_10.jpg': 'https://image.news1.kr/system/photos/2023/5/22/6006955/no_water.jpg', 'lcy_pictures/n1_20230522_11.jpg': 'https://image.news1.kr/system/photos/2023/5/22/6006962/no_water.jpg', 'lcy_pictures/n1_20230522_12.jpg': 'https://image.news1.kr/system/photos/2023/5/22/6006964/no_water.jpg', 'lcy_pictures/n1_20230522_13.jpg': 'https://image.news1.kr/system/photos/2023/5/22/6006968/no_water.jpg', 'lcy_pictures/n1_20230522_14.jpg': 'https://image.news1.kr/system/photos/2023/5/22/6006973/no_water.jpg', 'lcy_pictures/n1_20230522_15.jpg': 'https://image.news1.kr/system/photos/2023/5/22/6006975/no_water.jpg', 'lcy_pictures/n1_20230522_16.jpg': 'https://image.news1.kr/system/photos/2023/5/22/6006976/no_water.jpg', 'lcy_pictures/n1_20230522_17.jpg': 'https://image.news1.kr/system/photos/2023/5/22/6006978/no_water.jpg', 'lcy_pictures/n1_20230504_1.jpg': 'https://image.news1.kr/system/photos/2023/5/4/5975752/no_water.jpg', 'lcy_pictures/n1_20230504_2.jpg': 'https://image.news1.kr/system/photos/2023/5/4/5975754/no_water.jpg', 'lcy_pictures/n1_20230504_3.jpg': 'https://image.news1.kr/system/photos/2023/5/4/5975750/no_water.jpg', 'lcy_pictures/n1_20230503_1.jpg': 'https://image.news1.kr/system/photos/2023/5/3/5973957/no_water.jpg', 'lcy_pictures/n1_20230424_1.jpg': 'https://image.news1.kr/system/photos/2023/4/24/5957220/no_water.jpg', 'lcy_pictures/n1_20230424_2.jpg': 'https://image.news1.kr/system/photos/2023/4/24/5957219/no_water.jpg', 'lcy_pictures/n1_20230424_3.jpg': 'https://image.news1.kr/system/photos/2023/4/24/5956943/no_water.jpg', 'lcy_pictures/n1_20230424_4.jpg': 'https://image.news1.kr/system/photos/2023/4/24/5956942/no_water.jpg', 'lcy_pictures/n1_20230414_1.jpg': 'https://image.news1.kr/system/photos/2023/4/14/5939238/no_water.jpg', 'lcy_pictures/n1_20230411_1.jpg': 'https://image.news1.kr/system/photos/2023/4/11/5932794/no_water.jpg', 'lcy_pictures/n1_20230411_2.jpg': 'https://image.news1.kr/system/photos/2023/4/11/5932792/no_water.jpg', 'lcy_pictures/n1_20230411_3.jpg': 'https://image.news1.kr/system/photos/2023/4/11/5932791/no_water.jpg', 'lcy_pictures/n1_20230411_4.jpg': 'https://image.news1.kr/system/photos/2023/4/11/5932795/no_water.jpg', 'lcy_pictures/n1_20230411_5.jpg': 'https://image.news1.kr/system/photos/2023/4/11/5932796/no_water.jpg', 'lcy_pictures/n1_20230411_6.jpg': 'https://image.news1.kr/system/photos/2023/4/11/5932800/no_water.jpg', 'lcy_pictures/n1_20230411_7.jpg': 'https://image.news1.kr/system/photos/2023/4/11/5932801/no_water.jpg', 'lcy_pictures/n1_20230411_8.jpg': 'https://image.news1.kr/system/photos/2023/4/11/5933088/no_water.jpg', 'lcy_pictures/n1_20230411_9.jpg': 'https://image.news1.kr/system/photos/2023/4/11/5933093/no_water.jpg', 'lcy_pictures/n1_20230411_10.jpg': 'https://image.news1.kr/system/photos/2023/4/11/5933092/no_water.jpg', 'lcy_pictures/n1_20230411_11.jpg': 'https://image.news1.kr/system/photos/2023/4/11/5933091/no_water.jpg', 'lcy_pictures/n1_20230411_12.jpg': 'https://image.news1.kr/system/photos/2023/4/11/5933089/no_water.jpg', 'lcy_pictures/n1_20230411_13.jpg': 'https://image.news1.kr/system/photos/2023/4/11/5933094/no_water.jpg', 'lcy_pictures/n1_20230411_14.jpg': 'https://image.news1.kr/system/photos/2023/4/11/5933096/no_water.jpg', 'lcy_pictures/n1_20230411_15.jpg': 'https://image.news1.kr/system/photos/2023/4/11/5933098/no_water.jpg', 'lcy_pictures/n1_20230411_16.jpg': 'https://image.news1.kr/system/photos/2023/4/11/5932286/no_water.jpg', 'lcy_pictures/n1_20230411_17.jpg': 'https://image.news1.kr/system/photos/2023/4/11/5932284/no_water.jpg', 'lcy_pictures/n1_20230411_18.jpg': 'https://image.news1.kr/system/photos/2023/4/11/5932282/no_water.jpg', 'lcy_pictures/n1_20230411_19.jpg': 'https://image.news1.kr/system/photos/2023/4/11/5932281/no_water.jpg', 'lcy_pictures/n1_20230411_20.jpg': 'https://image.news1.kr/system/photos/2023/4/11/5932280/no_water.jpg', 'lcy_pictures/n1_20230411_21.jpg': 'https://image.news1.kr/system/photos/2023/4/11/5932278/no_water.jpg', 'lcy_pictures/n1_20230411_22.jpg': 'https://image.news1.kr/system/photos/2023/4/11/5932277/no_water.jpg', 'lcy_pictures/n1_20230411_23.jpg': 'https://image.news1.kr/system/photos/2023/4/11/5932255/no_water.jpg', 'lcy_pictures/n1_20230411_24.jpg': 'https://image.news1.kr/system/photos/2023/4/11/5932261/no_water.jpg', 'lcy_pictures/n1_20230411_25.jpg': 'https://image.news1.kr/system/photos/2023/4/11/5932264/no_water.jpg', 'lcy_pictures/n1_20230411_26.jpg': 'https://image.news1.kr/system/photos/2023/4/11/5932260/no_water.jpg', 'lcy_pictures/n1_20230411_27.jpg': 'https://image.news1.kr/system/photos/2023/4/11/5932258/no_water.jpg', 'lcy_pictures/n1_20230411_28.jpg': 'https://image.news1.kr/system/photos/2023/4/11/5932256/no_water.jpg', 'lcy_pictures/n1_20230411_29.jpg': 'https://image.news1.kr/system/photos/2023/4/11/5932257/no_water.jpg', 'lcy_pictures/n1_20230411_30.jpg': 'https://image.news1.kr/system/photos/2023/4/11/5932266/no_water.jpg', 'lcy_pictures/n1_20230224_1.jpg': 'https://image.news1.kr/system/photos/2023/2/24/5852617/no_water.jpg', 'lcy_pictures/n1_20230223_1.jpg': 'https://image.news1.kr/system/photos/2023/2/23/5850480/no_water.jpg', 'lcy_pictures/n1_20230223_2.jpg': 'https://image.news1.kr/system/photos/2023/2/23/5850482/no_water.jpg', 'lcy_pictures/n1_20230223_3.jpg': 'https://image.news1.kr/system/photos/2023/2/23/5850484/no_water.jpg', 'lcy_pictures/n1_20230223_4.jpg': 'https://image.news1.kr/system/photos/2023/2/23/5850485/no_water.jpg', 'lcy_pictures/n1_20230223_5.jpg': 'https://image.news1.kr/system/photos/2023/2/23/5850487/no_water.jpg', 'lcy_pictures/n1_20230223_6.jpg': 'https://image.news1.kr/system/photos/2023/2/23/5850488/no_water.jpg', 'lcy_pictures/n1_20230223_7.jpg': 'https://image.news1.kr/system/photos/2023/2/23/5850489/no_water.jpg', 'lcy_pictures/n1_20230223_8.jpg': 'https://image.news1.kr/system/photos/2023/2/23/5850486/no_water.jpg', 'lcy_pictures/n1_20230223_9.jpg': 'https://image.news1.kr/system/photos/2023/2/23/5850414/no_water.jpg', 'lcy_pictures/n1_20230223_10.jpg': 'https://image.news1.kr/system/photos/2023/2/23/5850413/no_water.jpg', 'lcy_pictures/n1_20230223_11.jpg': 'https://image.news1.kr/system/photos/2023/2/23/5850411/no_water.jpg', 'lcy_pictures/n1_20230223_12.jpg': 'https://image.news1.kr/system/photos/2023/2/23/5850416/no_water.jpg', 'lcy_pictures/n1_20230223_13.jpg': 'https://image.news1.kr/system/photos/2023/2/23/5850417/no_water.jpg', 'lcy_pictures/n1_20230223_14.jpg': 'https://image.news1.kr/system/photos/2023/2/23/5850418/no_water.jpg', 'lcy_pictures/n1_20230223_15.jpg': 'https://image.news1.kr/system/photos/2023/2/23/5850419/no_water.jpg', 'lcy_pictures/n1_20230223_16.jpg': 'https://image.news1.kr/system/photos/2023/2/23/5850420/no_water.jpg', 'lcy_pictures/n1_20230223_17.jpg': 'https://image.news1.kr/system/photos/2023/2/23/5850421/no_water.jpg', 'lcy_pictures/n1_20230223_18.jpg': 'https://image.news1.kr/system/photos/2023/2/23/5850422/no_water.jpg', 'lcy_pictures/n1_20230223_19.jpg': 'https://image.news1.kr/system/photos/2023/2/23/5850423/no_water.jpg', 'lcy_pictures/n1_20230223_20.jpg': 'https://image.news1.kr/system/photos/2023/2/23/5849989/no_water.jpg', 'lcy_pictures/n1_20230223_21.jpg': 'https://image.news1.kr/system/photos/2023/2/23/5849987/no_water.jpg', 'lcy_pictures/n1_20230223_22.jpg': 'https://image.news1.kr/system/photos/2023/2/23/5849986/no_water.jpg', 'lcy_pictures/n1_20230223_23.jpg': 'https://image.news1.kr/system/photos/2023/2/23/5849992/no_water.jpg', 'lcy_pictures/n1_20230223_24.jpg': 'https://image.news1.kr/system/photos/2023/2/23/5849959/no_water.jpg', 'lcy_pictures/n1_20230223_25.jpg': 'https://image.news1.kr/system/photos/2023/2/23/5849955/no_water.jpg', 'lcy_pictures/n1_20230223_26.jpg': 'https://image.news1.kr/system/photos/2023/2/23/5849952/no_water.jpg', 'lcy_pictures/n1_20230223_27.jpg': 'https://image.news1.kr/system/photos/2023/2/23/5849951/no_water.jpg', 'lcy_pictures/n1_20230223_28.jpg': 'https://image.news1.kr/system/photos/2023/2/23/5849949/no_water.jpg', 'lcy_pictures/n1_20230223_29.jpg': 'https://image.news1.kr/system/photos/2023/2/23/5849948/no_water.jpg', 'lcy_pictures/n1_20230223_30.jpg': 'https://image.news1.kr/system/photos/2023/2/23/5849946/no_water.jpg', 'lcy_pictures/n1_20230221_1.jpg': 'https://image.news1.kr/system/photos/2023/2/21/5846604/no_water.jpg', 'lcy_pictures/n1_20230221_2.jpg': 'https://image.news1.kr/system/photos/2023/2/21/5846605/no_water.jpg', 'lcy_pictures/n1_20230221_3.jpg': 'https://image.news1.kr/system/photos/2023/2/21/5846606/no_water.jpg', 'lcy_pictures/n1_20230221_4.jpg': 'https://image.news1.kr/system/photos/2023/2/21/5846607/no_water.jpg', 'lcy_pictures/n1_20230221_5.jpg': 'https://image.news1.kr/system/photos/2023/2/21/5846608/no_water.jpg', 'lcy_pictures/n1_20230221_6.jpg': 'https://image.news1.kr/system/photos/2023/2/21/5846610/no_water.jpg', 'lcy_pictures/n1_20230221_7.jpg': 'https://image.news1.kr/system/photos/2023/2/21/5846620/no_water.jpg', 'lcy_pictures/n1_20230221_8.jpg': 'https://image.news1.kr/system/photos/2023/2/21/5846618/no_water.jpg', 'lcy_pictures/n1_20230221_9.jpg': 'https://image.news1.kr/system/photos/2023/2/21/5846619/no_water.jpg', 'lcy_pictures/n1_20230221_10.jpg': 'https://image.news1.kr/system/photos/2023/2/21/5846622/no_water.jpg', 'lcy_pictures/n1_20230221_11.jpg': 'https://image.news1.kr/system/photos/2023/2/21/5846621/no_water.jpg', 'lcy_pictures/n1_20230207_1.jpg': 'https://image.news1.kr/system/photos/2023/2/7/5822870/no_water.jpg', 'lcy_pictures/n1_20230207_2.jpg': 'https://image.news1.kr/system/photos/2023/2/7/5822851/no_water.jpg', 'lcy_pictures/n1_20230201_1.jpg': 'https://image.news1.kr/system/photos/2023/2/1/5813485/no_water.jpg', 'lcy_pictures/n1_20230201_2.jpg': 'https://image.news1.kr/system/photos/2023/2/1/5813478/no_water.jpg', 'lcy_pictures/n1_20230201_3.jpg': 'https://image.news1.kr/system/photos/2023/2/1/5813454/no_water.jpg', 'lcy_pictures/n1_20230201_4.jpg': 'https://image.news1.kr/system/photos/2023/2/1/5813449/no_water.jpg', 'lcy_pictures/n1_20230201_5.jpg': 'https://image.news1.kr/system/photos/2023/2/1/5813448/no_water.jpg', 'lcy_pictures/n1_20230201_6.jpg': 'https://image.news1.kr/system/photos/2023/2/1/5813443/no_water.jpg', 'lcy_pictures/n1_20230201_7.jpg': 'https://image.news1.kr/system/photos/2023/2/1/5813442/no_water.jpg', 'lcy_pictures/n1_20230201_8.jpg': 'https://image.news1.kr/system/photos/2023/2/1/5813367/no_water.jpg', 'lcy_pictures/n1_20230201_9.jpg': 'https://image.news1.kr/system/photos/2023/2/1/5813356/no_water.jpg', 'lcy_pictures/n1_20230201_10.jpg': 'https://image.news1.kr/system/photos/2023/2/1/5813345/no_water.jpg', 'lcy_pictures/n1_20230118_1.jpg': 'https://image.news1.kr/system/photos/2023/1/18/5795678/no_water.jpg', 'lcy_pictures/n1_20230118_2.jpg': 'https://image.news1.kr/system/photos/2023/1/18/5795677/no_water.jpg', 'lcy_pictures/n1_20230118_3.jpg': 'https://image.news1.kr/system/photos/2023/1/18/5795674/no_water.jpg', 'lcy_pictures/n1_20230118_4.jpg': 'https://image.news1.kr/system/photos/2023/1/18/5795673/no_water.jpg', 'lcy_pictures/n1_20230118_5.jpg': 'https://image.news1.kr/system/photos/2023/1/18/5795671/no_water.jpg', 'lcy_pictures/n1_20230118_6.jpg': 'https://image.news1.kr/system/photos/2023/1/18/5795670/no_water.jpg', 'lcy_pictures/n1_20230118_7.jpg': 'https://image.news1.kr/system/photos/2023/1/18/5795669/no_water.jpg', 'lcy_pictures/n1_20230113_1.jpg': 'https://image.news1.kr/system/photos/2023/1/13/5787458/no_water.jpg', 'lcy_pictures/n1_20230113_2.jpg': 'https://image.news1.kr/system/photos/2023/1/13/5787457/no_water.jpg', 'lcy_pictures/n1_20230113_3.jpg': 'https://image.news1.kr/system/photos/2023/1/13/5787455/no_water.jpg', 'lcy_pictures/n1_20230113_4.jpg': 'https://image.news1.kr/system/photos/2023/1/13/5787454/no_water.jpg', 'lcy_pictures/n1_20230113_5.jpg': 'https://image.news1.kr/system/photos/2023/1/13/5787453/no_water.jpg', 'lcy_pictures/n1_20230113_6.jpg': 'https://image.news1.kr/system/photos/2023/1/13/5787452/no_water.jpg', 'lcy_pictures/n1_20230113_7.jpg': 'https://image.news1.kr/system/photos/2023/1/13/5787450/no_water.jpg', 'lcy_pictures/n1_20230113_8.jpg': 'https://image.news1.kr/system/photos/2023/1/13/5787413/no_water.jpg', 'lcy_pictures/n1_20230113_9.jpg': 'https://image.news1.kr/system/photos/2023/1/13/5787351/no_water.jpg', 'lcy_pictures/n1_20230113_10.jpg': 'https://image.news1.kr/system/photos/2023/1/13/5787350/no_water.jpg', 'lcy_pictures/n1_20230113_11.jpg': 'https://image.news1.kr/system/photos/2023/1/13/5787349/no_water.jpg', 'lcy_pictures/n1_20230113_12.jpg': 'https://image.news1.kr/system/photos/2023/1/13/5786945/no_water.jpg', 'lcy_pictures/n1_20230113_13.jpg': 'https://image.news1.kr/system/photos/2023/1/13/5786944/no_water.jpg', 'lcy_pictures/n1_20230113_14.jpg': 'https://image.news1.kr/system/photos/2023/1/13/5786947/no_water.jpg', 'lcy_pictures/n1_20230113_15.jpg': 'https://image.news1.kr/system/photos/2023/1/13/5786943/no_water.jpg', 'lcy_pictures/n1_20230113_16.jpg': 'https://image.news1.kr/system/photos/2023/1/13/5786942/no_water.jpg', 'lcy_pictures/n1_20230113_17.jpg': 'https://image.news1.kr/system/photos/2023/1/13/5786938/no_water.jpg', 'lcy_pictures/n1_20230113_18.jpg': 'https://image.news1.kr/system/photos/2023/1/13/5786937/no_water.jpg', 'lcy_pictures/n1_20230113_19.jpg': 'https://image.news1.kr/system/photos/2023/1/13/5786936/no_water.jpg', 'lcy_pictures/n1_20230103_1.jpg': 'https://image.news1.kr/system/photos/2023/1/3/5770706/no_water.jpg', 'lcy_pictures/n1_20230103_2.jpg': 'https://image.news1.kr/system/photos/2023/1/3/5770725/no_water.jpg', 'lcy_pictures/n1_20221220_1.jpg': 'https://image.news1.kr/system/photos/2022/12/20/5746581/no_water.jpg', 'lcy_pictures/n1_20221220_2.jpg': 'https://image.news1.kr/system/photos/2022/12/20/5746580/no_water.jpg', 'lcy_pictures/n1_20221220_3.jpg': 'https://image.news1.kr/system/photos/2022/12/20/5746578/no_water.jpg', 'lcy_pictures/n1_20221220_4.jpg': 'https://image.news1.kr/system/photos/2022/12/20/5746577/no_water.jpg', 'lcy_pictures/n1_20221220_5.jpg': 'https://image.news1.kr/system/photos/2022/12/20/5746576/no_water.jpg', 'lcy_pictures/n1_20221220_6.jpg': 'https://image.news1.kr/system/photos/2022/12/20/5746575/no_water.jpg', 'lcy_pictures/n1_20221220_7.jpg': 'https://image.news1.kr/system/photos/2022/12/20/5746574/no_water.jpg', 'lcy_pictures/n1_20221220_8.jpg': 'https://image.news1.kr/system/photos/2022/12/20/5746573/no_water.jpg', 'lcy_pictures/n1_20221220_9.jpg': 'https://image.news1.kr/system/photos/2022/12/20/5746570/no_water.jpg', 'lcy_pictures/n1_20221220_10.jpg': 'https://image.news1.kr/system/photos/2022/12/20/5746567/no_water.jpg', 'lcy_pictures/n1_20221215_1.jpg': 'https://image.news1.kr/system/photos/2022/12/15/5738919/no_water.jpg', 'lcy_pictures/n1_20221215_2.jpg': 'https://image.news1.kr/system/photos/2022/12/15/5738906/no_water.jpg', 'lcy_pictures/n1_20221128_1.jpg': 'https://image.news1.kr/system/photos/2022/11/28/5709555/no_water.jpg', 'lcy_pictures/n1_20221128_2.jpg': 'https://image.news1.kr/system/photos/2022/11/28/5709554/no_water.jpg', 'lcy_pictures/n1_20221128_3.jpg': 'https://image.news1.kr/system/photos/2022/11/28/5708772/no_water.jpg', 'lcy_pictures/n1_20221128_4.jpg': 'https://image.news1.kr/system/photos/2022/11/28/5708770/no_water.jpg', 'lcy_pictures/n1_20221124_1.jpg': 'https://image.news1.kr/system/photos/2022/11/24/5703329/no_water.jpg', 'lcy_pictures/n1_20221124_2.jpg': 'https://image.news1.kr/system/photos/2022/11/24/5703331/no_water.jpg', 'lcy_pictures/n1_20221124_3.jpg': 'https://image.news1.kr/system/photos/2022/11/24/5703327/no_water.jpg', 'lcy_pictures/n1_20221124_4.jpg': 'https://image.news1.kr/system/photos/2022/11/24/5703326/no_water.jpg', 'lcy_pictures/n1_20221124_5.jpg': 'https://image.news1.kr/system/photos/2022/11/24/5703325/no_water.jpg', 'lcy_pictures/n1_20221124_6.jpg': 'https://image.news1.kr/system/photos/2022/11/24/5703324/no_water.jpg', 'lcy_pictures/n1_20221124_7.jpg': 'https://image.news1.kr/system/photos/2022/11/24/5703323/no_water.jpg', 'lcy_pictures/n1_20221124_8.jpg': 'https://image.news1.kr/system/photos/2022/11/24/5703322/no_water.jpg', 'lcy_pictures/n1_20221124_9.jpg': 'https://image.news1.kr/system/photos/2022/11/24/5703321/no_water.jpg', 'lcy_pictures/n1_20221124_10.jpg': 'https://image.news1.kr/system/photos/2022/11/24/5703320/no_water.jpg', 'lcy_pictures/n1_20221124_11.jpg': 'https://image.news1.kr/system/photos/2022/11/24/5703319/no_water.jpg', 'lcy_pictures/n1_20221124_12.jpg': 'https://image.news1.kr/system/photos/2022/11/24/5703318/no_water.jpg', 'lcy_pictures/n1_20221124_13.jpg': 'https://image.news1.kr/system/photos/2022/11/24/5703317/no_water.jpg', 'lcy_pictures/n1_20221124_14.jpg': 'https://image.news1.kr/system/photos/2022/11/24/5703266/no_water.jpg', 'lcy_pictures/n1_20221124_15.jpg': 'https://image.news1.kr/system/photos/2022/11/24/5703265/no_water.jpg', 'lcy_pictures/n1_20221124_16.jpg': 'https://image.news1.kr/system/photos/2022/11/24/5703263/no_water.jpg', 'lcy_pictures/n1_20221124_17.jpg': 'https://image.news1.kr/system/photos/2022/11/24/5703259/no_water.jpg', 'lcy_pictures/n1_20221124_18.jpg': 'https://image.news1.kr/system/photos/2022/11/24/5703258/no_water.jpg', 'lcy_pictures/n1_20221124_19.jpg': 'https://image.news1.kr/system/photos/2022/11/24/5703257/no_water.jpg', 'lcy_pictures/n1_20221124_20.jpg': 'https://image.news1.kr/system/photos/2022/11/24/5703256/no_water.jpg', 'lcy_pictures/n1_20221124_21.jpg': 'https://image.news1.kr/system/photos/2022/11/24/5703255/no_water.jpg', 'lcy_pictures/n1_20221124_22.jpg': 'https://image.news1.kr/system/photos/2022/11/24/5703254/no_water.jpg', 'lcy_pictures/n1_20221124_23.jpg': 'https://image.news1.kr/system/photos/2022/11/24/5702562/no_water.jpg', 'lcy_pictures/n1_20221124_24.jpg': 'https://image.news1.kr/system/photos/2022/11/24/5702563/no_water.jpg', 'lcy_pictures/n1_20221124_25.jpg': 'https://image.news1.kr/system/photos/2022/11/24/5702581/no_water.jpg', 'lcy_pictures/n1_20221124_26.jpg': 'https://image.news1.kr/system/photos/2022/11/24/5702586/no_water.jpg', 'lcy_pictures/n1_20221124_27.jpg': 'https://image.news1.kr/system/photos/2022/11/24/5702573/no_water.jpg', 'lcy_pictures/n1_20221124_28.jpg': 'https://image.news1.kr/system/photos/2022/11/24/5702575/no_water.jpg', 'lcy_pictures/n1_20221124_29.jpg': 'https://image.news1.kr/system/photos/2022/11/24/5702588/no_water.jpg', 'lcy_pictures/n1_20221124_30.jpg': 'https://image.news1.kr/system/photos/2022/11/24/5702590/no_water.jpg', 'lcy_pictures/n1_20221124_31.jpg': 'https://image.news1.kr/system/photos/2022/11/24/5702589/no_water.jpg', 'lcy_pictures/n1_20221124_32.jpg': 'https://image.news1.kr/system/photos/2022/11/24/5702576/no_water.jpg', 'lcy_pictures/n1_20221124_33.jpg': 'https://image.news1.kr/system/photos/2022/11/24/5702567/no_water.jpg', 'lcy_pictures/n1_20221124_34.jpg': 'https://image.news1.kr/system/photos/2022/11/24/5702558/no_water.jpg', 'lcy_pictures/n1_20221124_35.jpg': 'https://image.news1.kr/system/photos/2022/11/24/5702555/no_water.jpg', 'lcy_pictures/n1_20221124_36.jpg': 'https://image.news1.kr/system/photos/2022/11/24/5702554/no_water.jpg', 'lcy_pictures/n1_20221111_1.jpg': 'https://image.news1.kr/system/photos/2022/11/11/5678496/no_water.jpg', 'lcy_pictures/n1_20221111_2.jpg': 'https://image.news1.kr/system/photos/2022/11/11/5678494/no_water.jpg', 'lcy_pictures/n1_20221111_3.jpg': 'https://image.news1.kr/system/photos/2022/11/11/5678424/no_water.jpg', 'lcy_pictures/n1_20221111_4.jpg': 'https://image.news1.kr/system/photos/2022/11/11/5678422/no_water.jpg', 'lcy_pictures/n1_20221111_5.jpg': 'https://image.news1.kr/system/photos/2022/11/11/5678423/no_water.jpg', 'lcy_pictures/n1_20221111_6.jpg': 'https://image.news1.kr/system/photos/2022/11/11/5678419/no_water.jpg', 'lcy_pictures/n1_20221103_1.jpg': 'https://image.news1.kr/system/photos/2022/11/3/5663793/no_water.jpg', 'lcy_pictures/n1_20221101_1.jpg': 'https://image.news1.kr/system/photos/2022/11/1/5660838/no_water.jpg', 'lcy_pictures/n1_20221101_2.jpg': 'https://image.news1.kr/system/photos/2022/11/1/5660832/no_water.jpg', 'lcy_pictures/n1_20221026_1.jpg': 'https://image.news1.kr/system/photos/2022/10/26/5650712/no_water.jpg', 'lcy_pictures/n1_20221026_2.jpg': 'https://image.news1.kr/system/photos/2022/10/26/5650711/no_water.jpg', 'lcy_pictures/n1_20221026_3.jpg': 'https://image.news1.kr/system/photos/2022/10/26/5650710/no_water.jpg', 'lcy_pictures/n1_20221026_4.jpg': 'https://image.news1.kr/system/photos/2022/10/26/5650709/no_water.jpg', 'lcy_pictures/n1_20221026_5.jpg': 'https://image.news1.kr/system/photos/2022/10/26/5650706/no_water.jpg', 'lcy_pictures/n1_20221026_6.jpg': 'https://image.news1.kr/system/photos/2022/10/26/5650703/no_water.jpg', 'lcy_pictures/n1_20221026_7.jpg': 'https://image.news1.kr/system/photos/2022/10/26/5650701/no_water.jpg', 'lcy_pictures/n1_20221023_1.jpg': 'https://image.news1.kr/system/photos/2022/10/23/5643499/no_water.jpg', 'lcy_pictures/n1_20221023_2.jpg': 'https://image.news1.kr/system/photos/2022/10/23/5643334/no_water.jpg', 'lcy_pictures/n1_20221023_3.jpg': 'https://image.news1.kr/system/photos/2022/10/23/5643333/no_water.jpg', 'lcy_pictures/n1_20221023_4.jpg': 'https://image.news1.kr/system/photos/2022/10/23/5643315/no_water.jpg', 'lcy_pictures/n1_20221017_1.jpg': 'https://image.news1.kr/system/photos/2022/10/17/5633157/no_water.jpg', 'lcy_pictures/n1_20221017_2.jpg': 'https://image.news1.kr/system/photos/2022/10/17/5633158/no_water.jpg', 'lcy_pictures/n1_20221017_3.jpg': 'https://image.news1.kr/system/photos/2022/10/17/5633145/no_water.jpg', 'lcy_pictures/n1_20221017_4.jpg': 'https://image.news1.kr/system/photos/2022/10/17/5633149/no_water.jpg', 'lcy_pictures/n1_20221017_5.jpg': 'https://image.news1.kr/system/photos/2022/10/17/5633143/no_water.jpg', 'lcy_pictures/n1_20221017_6.jpg': 'https://image.news1.kr/system/photos/2022/10/17/5633142/no_water.jpg', 'lcy_pictures/n1_20221016_1.jpg': 'https://image.news1.kr/system/photos/2022/10/16/5630667/no_water.jpg', 'lcy_pictures/n1_20221016_2.jpg': 'https://image.news1.kr/system/photos/2022/10/16/5630662/no_water.jpg', 'lcy_pictures/n1_20221016_3.jpg': 'https://image.news1.kr/system/photos/2022/10/16/5630661/no_water.jpg', 'lcy_pictures/n1_20221016_4.jpg': 'https://image.news1.kr/system/photos/2022/10/16/5630659/no_water.jpg', 'lcy_pictures/n1_20221016_5.jpg': 'https://image.news1.kr/system/photos/2022/10/16/5630648/no_water.jpg', 'lcy_pictures/n1_20221016_6.jpg': 'https://image.news1.kr/system/photos/2022/10/16/5630647/no_water.jpg', 'lcy_pictures/n1_20221016_7.jpg': 'https://image.news1.kr/system/photos/2022/10/16/5630644/no_water.jpg', 'lcy_pictures/n1_20221016_8.jpg': 'https://image.news1.kr/system/photos/2022/10/16/5630643/no_water.jpg', 'lcy_pictures/n1_20221016_9.jpg': 'https://image.news1.kr/system/photos/2022/10/16/5630642/no_water.jpg', 'lcy_pictures/n1_20221016_10.jpg': 'https://image.news1.kr/system/photos/2022/10/16/5630641/no_water.jpg', 'lcy_pictures/n1_20221012_1.jpg': 'https://image.news1.kr/system/photos/2022/10/12/5624448/no_water.jpg', 'lcy_pictures/n1_20221012_2.jpg': 'https://image.news1.kr/system/photos/2022/10/12/5624446/no_water.jpg', 'lcy_pictures/n1_20221012_3.jpg': 'https://image.news1.kr/system/photos/2022/10/12/5624437/no_water.jpg', 'lcy_pictures/n1_20221012_4.jpg': 'https://image.news1.kr/system/photos/2022/10/12/5624048/no_water.jpg', 'lcy_pictures/n1_20221012_5.jpg': 'https://image.news1.kr/system/photos/2022/10/12/5624047/no_water.jpg', 'lcy_pictures/n1_20221012_6.jpg': 'https://image.news1.kr/system/photos/2022/10/12/5624044/no_water.jpg', 'lcy_pictures/n1_20221012_7.jpg': 'https://image.news1.kr/system/photos/2022/10/12/5624043/no_water.jpg', 'lcy_pictures/n1_20221012_8.jpg': 'https://image.news1.kr/system/photos/2022/10/12/5624042/no_water.jpg', 'lcy_pictures/n1_20221012_9.jpg': 'https://image.news1.kr/system/photos/2022/10/12/5624036/no_water.jpg', 'lcy_pictures/n1_20221012_10.jpg': 'https://image.news1.kr/system/photos/2022/10/12/5624040/no_water.jpg', 'lcy_pictures/n1_20221012_11.jpg': 'https://image.news1.kr/system/photos/2022/10/12/5624039/no_water.jpg', 'lcy_pictures/n1_20221012_12.jpg': 'https://image.news1.kr/system/photos/2022/10/12/5624038/no_water.jpg', 'lcy_pictures/n1_20221012_13.jpg': 'https://image.news1.kr/system/photos/2022/10/12/5624028/no_water.jpg', 'lcy_pictures/n1_20221012_14.jpg': 'https://image.news1.kr/system/photos/2022/10/12/5624037/no_water.jpg', 'lcy_pictures/n1_20221012_15.jpg': 'https://image.news1.kr/system/photos/2022/10/12/5624035/no_water.jpg', 'lcy_pictures/n1_20221012_16.jpg': 'https://image.news1.kr/system/photos/2022/10/12/5624034/no_water.jpg', 'lcy_pictures/n1_20221012_17.jpg': 'https://image.news1.kr/system/photos/2022/10/12/5624030/no_water.jpg', 'lcy_pictures/n1_20221012_18.jpg': 'https://image.news1.kr/system/photos/2022/10/12/5624027/no_water.jpg', 'lcy_pictures/n1_20221012_19.jpg': 'https://image.news1.kr/system/photos/2022/10/12/5623341/no_water.jpg', 'lcy_pictures/n1_20221012_20.jpg': 'https://image.news1.kr/system/photos/2022/10/12/5623330/no_water.jpg', 'lcy_pictures/n1_20221012_21.jpg': 'https://image.news1.kr/system/photos/2022/10/12/5623340/no_water.jpg', 'lcy_pictures/n1_20221012_22.jpg': 'https://image.news1.kr/system/photos/2022/10/12/5623338/no_water.jpg', 'lcy_pictures/n1_20221012_23.jpg': 'https://image.news1.kr/system/photos/2022/10/12/5623337/no_water.jpg', 'lcy_pictures/n1_20221012_24.jpg': 'https://image.news1.kr/system/photos/2022/10/12/5623336/no_water.jpg', 'lcy_pictures/n1_20221012_25.jpg': 'https://image.news1.kr/system/photos/2022/10/12/5623325/no_water.jpg', 'lcy_pictures/n1_20221012_26.jpg': 'https://image.news1.kr/system/photos/2022/10/12/5623323/no_water.jpg', 'lcy_pictures/n1_20221007_1.jpg': 'https://image.news1.kr/system/photos/2022/10/7/5616662/no_water.jpg', 'lcy_pictures/n1_20221007_2.jpg': 'https://image.news1.kr/system/photos/2022/10/7/5616660/no_water.jpg', 'lcy_pictures/n1_20221007_3.jpg': 'https://image.news1.kr/system/photos/2022/10/7/5616658/no_water.jpg', 'lcy_pictures/n1_20221007_4.jpg': 'https://image.news1.kr/system/photos/2022/10/7/5616653/no_water.jpg', 'lcy_pictures/n1_20221007_5.jpg': 'https://image.news1.kr/system/photos/2022/10/7/5616647/no_water.jpg', 'lcy_pictures/n1_20221007_6.jpg': 'https://image.news1.kr/system/photos/2022/10/7/5616644/no_water.jpg', 'lcy_pictures/n1_20221007_7.jpg': 'https://image.news1.kr/system/photos/2022/10/7/5616637/no_water.jpg', 'lcy_pictures/n1_20221007_8.jpg': 'https://image.news1.kr/system/photos/2022/10/7/5616633/no_water.jpg', 'lcy_pictures/n1_20221007_9.jpg': 'https://image.news1.kr/system/photos/2022/10/7/5616632/no_water.jpg', 'lcy_pictures/n1_20221007_10.jpg': 'https://image.news1.kr/system/photos/2022/10/7/5616629/no_water.jpg', 'lcy_pictures/n1_20221007_11.jpg': 'https://image.news1.kr/system/photos/2022/10/7/5616622/no_water.jpg', 'lcy_pictures/n1_20221007_12.jpg': 'https://image.news1.kr/system/photos/2022/10/7/5616558/no_water.jpg', 'lcy_pictures/n1_20221007_13.jpg': 'https://image.news1.kr/system/photos/2022/10/7/5616557/no_water.jpg', 'lcy_pictures/n1_20220926_1.jpg': 'https://image.news1.kr/system/photos/2022/9/26/5595931/no_water.jpg', 'lcy_pictures/n1_20220926_2.jpg': 'https://image.news1.kr/system/photos/2022/9/26/5595915/no_water.jpg', 'lcy_pictures/n1_20220926_3.jpg': 'https://image.news1.kr/system/photos/2022/9/26/5595916/no_water.jpg', 'lcy_pictures/n1_20220926_4.jpg': 'https://image.news1.kr/system/photos/2022/9/26/5595922/no_water.jpg', 'lcy_pictures/n1_20220926_5.jpg': 'https://image.news1.kr/system/photos/2022/9/26/5595921/no_water.jpg', 'lcy_pictures/n1_20220926_6.jpg': 'https://image.news1.kr/system/photos/2022/9/26/5595920/no_water.jpg', 'lcy_pictures/n1_20220926_7.jpg': 'https://image.news1.kr/system/photos/2022/9/26/5595925/no_water.jpg', 'lcy_pictures/n1_20220922_1.jpg': 'https://image.news1.kr/system/photos/2022/9/22/5589610/no_water.jpg', 'lcy_pictures/n1_20220922_2.jpg': 'https://image.news1.kr/system/photos/2022/9/22/5589607/no_water.jpg', 'lcy_pictures/n1_20220905_1.jpg': 'https://image.news1.kr/system/photos/2022/9/5/5561141/no_water.jpg', 'lcy_pictures/n1_20220905_2.jpg': 'https://image.news1.kr/system/photos/2022/9/5/5561140/no_water.jpg', 'lcy_pictures/n1_20220905_3.jpg': 'https://image.news1.kr/system/photos/2022/9/5/5561139/no_water.jpg', 'lcy_pictures/n1_20220829_1.jpg': 'https://image.news1.kr/system/photos/2022/8/29/5550640/no_water.jpg', 'lcy_pictures/n1_20220829_2.jpg': 'https://image.news1.kr/system/photos/2022/8/29/5550639/no_water.jpg', 'lcy_pictures/n1_20220829_3.jpg': 'https://image.news1.kr/system/photos/2022/8/29/5550634/no_water.jpg', 'lcy_pictures/n1_20220829_4.jpg': 'https://image.news1.kr/system/photos/2022/8/29/5550635/no_water.jpg', 'lcy_pictures/n1_20220829_5.jpg': 'https://image.news1.kr/system/photos/2022/8/29/5550632/no_water.jpg', 'lcy_pictures/n1_20220829_6.jpg': 'https://image.news1.kr/system/photos/2022/8/29/5550630/no_water.jpg', 'lcy_pictures/n1_20220829_7.jpg': 'https://image.news1.kr/system/photos/2022/8/29/5550636/no_water.jpg', 'lcy_pictures/n1_20220825_1.jpg': 'https://image.news1.kr/system/photos/2022/8/25/5544326/no_water.jpg', 'lcy_pictures/n1_20220825_2.jpg': 'https://image.news1.kr/system/photos/2022/8/25/5544323/no_water.jpg', 'lcy_pictures/n1_20220825_3.jpg': 'https://image.news1.kr/system/photos/2022/8/25/5544322/no_water.jpg', 'lcy_pictures/n1_20220825_4.jpg': 'https://image.news1.kr/system/photos/2022/8/25/5544321/no_water.jpg', 'lcy_pictures/n1_20220825_5.jpg': 'https://image.news1.kr/system/photos/2022/8/25/5544320/no_water.jpg', 'lcy_pictures/n1_20220825_6.jpg': 'https://image.news1.kr/system/photos/2022/8/25/5544319/no_water.jpg', 'lcy_pictures/n1_20220825_7.jpg': 'https://image.news1.kr/system/photos/2022/8/25/5544313/no_water.jpg', 'lcy_pictures/n1_20220825_8.jpg': 'https://image.news1.kr/system/photos/2022/8/25/5544311/no_water.jpg', 'lcy_pictures/n1_20220825_9.jpg': 'https://image.news1.kr/system/photos/2022/8/25/5544309/no_water.jpg', 'lcy_pictures/n1_20220825_10.jpg': 'https://image.news1.kr/system/photos/2022/8/25/5544310/no_water.jpg', 'lcy_pictures/n1_20220825_11.jpg': 'https://image.news1.kr/system/photos/2022/8/25/5544307/no_water.jpg', 'lcy_pictures/n1_20220825_12.jpg': 'https://image.news1.kr/system/photos/2022/8/25/5544306/no_water.jpg', 'lcy_pictures/n1_20220825_13.jpg': 'https://image.news1.kr/system/photos/2022/8/25/5544305/no_water.jpg', 'lcy_pictures/n1_20220825_14.jpg': 'https://image.news1.kr/system/photos/2022/8/25/5544304/no_water.jpg', 'lcy_pictures/n1_20220825_15.jpg': 'https://image.news1.kr/system/photos/2022/8/25/5544303/no_water.jpg', 'lcy_pictures/n1_20220825_16.jpg': 'https://image.news1.kr/system/photos/2022/8/25/5544301/no_water.jpg', 'lcy_pictures/n1_20220825_17.jpg': 'https://image.news1.kr/system/photos/2022/8/25/5544300/no_water.jpg', 'lcy_pictures/n1_20220825_18.jpg': 'https://image.news1.kr/system/photos/2022/8/25/5544299/no_water.jpg', 'lcy_pictures/n1_20220825_19.jpg': 'https://image.news1.kr/system/photos/2022/8/25/5544298/no_water.jpg', 'lcy_pictures/n1_20220825_20.jpg': 'https://image.news1.kr/system/photos/2022/8/25/5543700/no_water.jpg', 'lcy_pictures/n1_20220825_21.jpg': 'https://image.news1.kr/system/photos/2022/8/25/5543699/no_water.jpg', 'lcy_pictures/n1_20220825_22.jpg': 'https://image.news1.kr/system/photos/2022/8/25/5543698/no_water.jpg', 'lcy_pictures/n1_20220825_23.jpg': 'https://image.news1.kr/system/photos/2022/8/25/5543697/no_water.jpg', 'lcy_pictures/n1_20220825_24.jpg': 'https://image.news1.kr/system/photos/2022/8/25/5543696/no_water.jpg', 'lcy_pictures/n1_20220825_25.jpg': 'https://image.news1.kr/system/photos/2022/8/25/5543694/no_water.jpg', 'lcy_pictures/n1_20220825_26.jpg': 'https://image.news1.kr/system/photos/2022/8/25/5543673/no_water.jpg', 'lcy_pictures/n1_20220825_27.jpg': 'https://image.news1.kr/system/photos/2022/8/25/5543671/no_water.jpg', 'lcy_pictures/n1_20220825_28.jpg': 'https://image.news1.kr/system/photos/2022/8/25/5543667/no_water.jpg', 'lcy_pictures/n1_20220825_29.jpg': 'https://image.news1.kr/system/photos/2022/8/25/5543665/no_water.jpg', 'lcy_pictures/n1_20220825_30.jpg': 'https://image.news1.kr/system/photos/2022/8/25/5543664/no_water.jpg', 'lcy_pictures/n1_20220809_1.jpg': 'https://image.news1.kr/system/photos/2022/8/9/5518773/no_water.jpg', 'lcy_pictures/n1_20220809_2.jpg': 'https://image.news1.kr/system/photos/2022/8/9/5518774/no_water.jpg', 'lcy_pictures/n1_20220809_3.jpg': 'https://image.news1.kr/system/photos/2022/8/9/5518775/no_water.jpg', 'lcy_pictures/n1_20220809_4.jpg': 'https://image.news1.kr/system/photos/2022/8/9/5518776/no_water.jpg', 'lcy_pictures/n1_20220808_1.jpg': 'https://image.news1.kr/system/photos/2022/8/8/5517116/no_water.jpg', 'lcy_pictures/n1_20220808_2.jpg': 'https://image.news1.kr/system/photos/2022/8/8/5517115/no_water.jpg', 'lcy_pictures/n1_20220808_3.jpg': 'https://image.news1.kr/system/photos/2022/8/8/5517114/no_water.jpg', 'lcy_pictures/n1_20220808_4.jpg': 'https://image.news1.kr/system/photos/2022/8/8/5517113/no_water.jpg', 'lcy_pictures/n1_20220801_1.jpg': 'https://image.news1.kr/system/photos/2022/8/1/5505961/no_water.jpg', 'lcy_pictures/n1_20220801_2.jpg': 'https://image.news1.kr/system/photos/2022/8/1/5505960/no_water.jpg', 'lcy_pictures/n1_20220801_3.jpg': 'https://image.news1.kr/system/photos/2022/8/1/5505956/no_water.jpg', 'lcy_pictures/n1_20220801_4.jpg': 'https://image.news1.kr/system/photos/2022/8/1/5505950/no_water.jpg', 'lcy_pictures/n1_20220728_1.jpg': 'https://image.news1.kr/system/photos/2022/7/28/5500037/no_water.jpg', 'lcy_pictures/n1_20220728_2.jpg': 'https://image.news1.kr/system/photos/2022/7/28/5500035/no_water.jpg', 'lcy_pictures/n1_20220728_3.jpg': 'https://image.news1.kr/system/photos/2022/7/28/5500031/no_water.jpg', 'lcy_pictures/n1_20220724_1.jpg': 'https://image.news1.kr/system/photos/2022/7/24/5493063/no_water.jpg', 'lcy_pictures/n1_20220719_1.jpg': 'https://image.news1.kr/system/photos/2022/7/19/5484662/no_water.jpg', 'lcy_pictures/n1_20220719_2.jpg': 'https://image.news1.kr/system/photos/2022/7/19/5484660/no_water.jpg', 'lcy_pictures/n1_20220719_3.jpg': 'https://image.news1.kr/system/photos/2022/7/19/5484657/no_water.jpg', 'lcy_pictures/n1_20220719_4.jpg': 'https://image.news1.kr/system/photos/2022/7/19/5484642/no_water.jpg', 'lcy_pictures/n1_20220719_5.jpg': 'https://image.news1.kr/system/photos/2022/7/19/5484640/no_water.jpg', 'lcy_pictures/n1_20220719_6.jpg': 'https://image.news1.kr/system/photos/2022/7/19/5484641/no_water.jpg', 'lcy_pictures/n1_20220719_7.jpg': 'https://image.news1.kr/system/photos/2022/7/19/5484639/no_water.jpg', 'lcy_pictures/n1_20220719_8.jpg': 'https://image.news1.kr/system/photos/2022/7/19/5484615/no_water.jpg', 'lcy_pictures/n1_20220719_9.jpg': 'https://image.news1.kr/system/photos/2022/7/19/5484613/no_water.jpg', 'lcy_pictures/n1_20220719_10.jpg': 'https://image.news1.kr/system/photos/2022/7/19/5484609/no_water.jpg', 'lcy_pictures/n1_20220718_1.jpg': 'https://image.news1.kr/system/photos/2022/7/18/5483098/no_water.jpg', 'lcy_pictures/n1_20220718_2.jpg': 'https://image.news1.kr/system/photos/2022/7/18/5483061/no_water.jpg', 'lcy_pictures/n1_20220718_3.jpg': 'https://image.news1.kr/system/photos/2022/7/18/5483060/no_water.jpg', 'lcy_pictures/n1_20220718_4.jpg': 'https://image.news1.kr/system/photos/2022/7/18/5483059/no_water.jpg', 'lcy_pictures/n1_20220714_1.jpg': 'https://image.news1.kr/system/photos/2022/7/14/5477653/no_water.jpg', 'lcy_pictures/n1_20220714_2.jpg': 'https://image.news1.kr/system/photos/2022/7/14/5477606/no_water.jpg', 'lcy_pictures/n1_20220714_3.jpg': 'https://image.news1.kr/system/photos/2022/7/14/5477648/no_water.jpg', 'lcy_pictures/n1_20220714_4.jpg': 'https://image.news1.kr/system/photos/2022/7/14/5477602/no_water.jpg', 'lcy_pictures/n1_20220713_1.jpg': 'https://image.news1.kr/system/photos/2022/7/13/5474065/no_water.jpg', 'lcy_pictures/n1_20220713_2.jpg': 'https://image.news1.kr/system/photos/2022/7/13/5474067/no_water.jpg', 'lcy_pictures/n1_20220713_3.jpg': 'https://image.news1.kr/system/photos/2022/7/13/5474064/no_water.jpg', 'lcy_pictures/n1_20220713_4.jpg': 'https://image.news1.kr/system/photos/2022/7/13/5474059/no_water.jpg', 'lcy_pictures/n1_20220713_5.jpg': 'https://image.news1.kr/system/photos/2022/7/13/5474074/no_water.jpg', 'lcy_pictures/n1_20220713_6.jpg': 'https://image.news1.kr/system/photos/2022/7/13/5474075/no_water.jpg', 'lcy_pictures/n1_20220713_7.jpg': 'https://image.news1.kr/system/photos/2022/7/13/5474076/no_water.jpg', 'lcy_pictures/n1_20220713_8.jpg': 'https://image.news1.kr/system/photos/2022/7/13/5474079/no_water.jpg', 'lcy_pictures/n1_20220713_9.jpg': 'https://image.news1.kr/system/photos/2022/7/13/5473582/no_water.jpg', 'lcy_pictures/n1_20220713_10.jpg': 'https://image.news1.kr/system/photos/2022/7/13/5473578/no_water.jpg', 'lcy_pictures/n1_20220713_11.jpg': 'https://image.news1.kr/system/photos/2022/7/13/5473574/no_water.jpg', 'lcy_pictures/n1_20220713_12.jpg': 'https://image.news1.kr/system/photos/2022/7/13/5473571/no_water.jpg', 'lcy_pictures/n1_20220713_13.jpg': 'https://image.news1.kr/system/photos/2022/7/13/5473462/no_water.jpg', 'lcy_pictures/n1_20220713_14.jpg': 'https://image.news1.kr/system/photos/2022/7/13/5473454/no_water.jpg', 'lcy_pictures/n1_20220713_15.jpg': 'https://image.news1.kr/system/photos/2022/7/13/5473453/no_water.jpg', 'lcy_pictures/n1_20220713_16.jpg': 'https://image.news1.kr/system/photos/2022/7/13/5473455/no_water.jpg', 'lcy_pictures/n1_20220713_17.jpg': 'https://image.news1.kr/system/photos/2022/7/13/5473452/no_water.jpg', 'lcy_pictures/n1_20220713_18.jpg': 'https://image.news1.kr/system/photos/2022/7/13/5473461/no_water.jpg', 'lcy_pictures/n1_20220713_19.jpg': 'https://image.news1.kr/system/photos/2022/7/13/5473451/no_water.jpg', 'lcy_pictures/n1_20220713_20.jpg': 'https://image.news1.kr/system/photos/2022/7/13/5473450/no_water.jpg', 'lcy_pictures/n1_20220713_21.jpg': 'https://image.news1.kr/system/photos/2022/7/13/5473449/no_water.jpg', 'lcy_pictures/n1_20220713_22.jpg': 'https://image.news1.kr/system/photos/2022/7/13/5473448/no_water.jpg', 'lcy_pictures/n1_20220713_23.jpg': 'https://image.news1.kr/system/photos/2022/7/13/5473423/no_water.jpg', 'lcy_pictures/n1_20220713_24.jpg': 'https://image.news1.kr/system/photos/2022/7/13/5473422/no_water.jpg', 'lcy_pictures/n1_20220630_1.jpg': 'https://image.news1.kr/system/photos/2022/6/30/5452453/no_water.jpg', 'lcy_pictures/n1_20220630_2.jpg': 'https://image.news1.kr/system/photos/2022/6/30/5452446/no_water.jpg', 'lcy_pictures/n1_20220630_3.jpg': 'https://image.news1.kr/system/photos/2022/6/30/5452438/no_water.jpg', 'lcy_pictures/n1_20220630_4.jpg': 'https://image.news1.kr/system/photos/2022/6/30/5452397/no_water.jpg', 'lcy_pictures/n1_20220630_5.jpg': 'https://image.news1.kr/system/photos/2022/6/30/5452383/no_water.jpg', 'lcy_pictures/n1_20220628_1.jpg': 'https://image.news1.kr/system/photos/2022/6/28/5448796/no_water.jpg', 'lcy_pictures/n1_20220628_2.jpg': 'https://image.news1.kr/system/photos/2022/6/28/5448793/no_water.jpg', 'lcy_pictures/n1_20220628_3.jpg': 'https://image.news1.kr/system/photos/2022/6/28/5448797/no_water.jpg', 'lcy_pictures/n1_20220628_4.jpg': 'https://image.news1.kr/system/photos/2022/6/28/5448794/no_water.jpg', 'lcy_pictures/n1_20220628_5.jpg': 'https://image.news1.kr/system/photos/2022/6/28/5448792/no_water.jpg', 'lcy_pictures/n1_20220628_6.jpg': 'https://image.news1.kr/system/photos/2022/6/28/5448791/no_water.jpg', 'lcy_pictures/n1_20220628_7.jpg': 'https://image.news1.kr/system/photos/2022/6/28/5448789/no_water.jpg', 'lcy_pictures/n1_20220621_1.jpg': 'https://image.news1.kr/system/photos/2022/6/21/5436955/no_water.jpg', 'lcy_pictures/n1_20220621_2.jpg': 'https://image.news1.kr/system/photos/2022/6/21/5436267/no_water.jpg', 'lcy_pictures/n1_20220621_3.jpg': 'https://image.news1.kr/system/photos/2022/6/21/5436263/no_water.jpg', 'lcy_pictures/n1_20220621_4.jpg': 'https://image.news1.kr/system/photos/2022/6/21/5436261/no_water.jpg', 'lcy_pictures/n1_20220621_5.jpg': 'https://image.news1.kr/system/photos/2022/6/21/5436259/no_water.jpg', 'lcy_pictures/n1_20220621_6.jpg': 'https://image.news1.kr/system/photos/2022/6/21/5436258/no_water.jpg', 'lcy_pictures/n1_20220621_7.jpg': 'https://image.news1.kr/system/photos/2022/6/21/5436208/no_water.jpg', 'lcy_pictures/n1_20220621_8.jpg': 'https://image.news1.kr/system/photos/2022/6/21/5436207/no_water.jpg', 'lcy_pictures/n1_20220616_1.jpg': 'https://image.news1.kr/system/photos/2022/6/16/5429152/no_water.jpg', 'lcy_pictures/n1_20220610_1.jpg': 'https://image.news1.kr/system/photos/2022/6/10/5420027/no_water.jpg', 'lcy_pictures/n1_20220610_2.jpg': 'https://image.news1.kr/system/photos/2022/6/10/5420025/no_water.jpg', 'lcy_pictures/n1_20220610_3.jpg': 'https://image.news1.kr/system/photos/2022/6/10/5420024/no_water.jpg', 'lcy_pictures/n1_20220610_4.jpg': 'https://image.news1.kr/system/photos/2022/6/10/5420022/no_water.jpg', 'lcy_pictures/n1_20220610_5.jpg': 'https://image.news1.kr/system/photos/2022/6/10/5420023/no_water.jpg', 'lcy_pictures/n1_20220610_6.jpg': 'https://image.news1.kr/system/photos/2022/6/10/5420013/no_water.jpg', 'lcy_pictures/n1_20220610_7.jpg': 'https://image.news1.kr/system/photos/2022/6/10/5420003/no_water.jpg', 'lcy_pictures/n1_20220610_8.jpg': 'https://image.news1.kr/system/photos/2022/6/10/5420001/no_water.jpg', 'lcy_pictures/n1_20220610_9.jpg': 'https://image.news1.kr/system/photos/2022/6/10/5420002/no_water.jpg', 'lcy_pictures/n1_20220610_10.jpg': 'https://image.news1.kr/system/photos/2022/6/10/5420006/no_water.jpg', 'lcy_pictures/n1_20220610_11.jpg': 'https://image.news1.kr/system/photos/2022/6/10/5420005/no_water.jpg', 'lcy_pictures/n1_20220610_12.jpg': 'https://image.news1.kr/system/photos/2022/6/10/5420004/no_water.jpg', 'lcy_pictures/n1_20220610_13.jpg': 'https://image.news1.kr/system/photos/2022/6/10/5420015/no_water.jpg', 'lcy_pictures/n1_20220610_14.jpg': 'https://image.news1.kr/system/photos/2022/6/10/5420016/no_water.jpg', 'lcy_pictures/n1_20220610_15.jpg': 'https://image.news1.kr/system/photos/2022/6/10/5420017/no_water.jpg', 'lcy_pictures/n1_20220610_16.jpg': 'https://image.news1.kr/system/photos/2022/6/10/5420021/no_water.jpg', 'lcy_pictures/n1_20220610_17.jpg': 'https://image.news1.kr/system/photos/2022/6/10/5420020/no_water.jpg', 'lcy_pictures/n1_20220610_18.jpg': 'https://image.news1.kr/system/photos/2022/6/10/5420019/no_water.jpg', 'lcy_pictures/n1_20220610_19.jpg': 'https://image.news1.kr/system/photos/2022/6/10/5420018/no_water.jpg', 'lcy_pictures/n1_20220602_1.jpg': 'https://image.news1.kr/system/photos/2022/6/2/5407331/no_water.jpg', 'lcy_pictures/n1_20220602_2.jpg': 'https://image.news1.kr/system/photos/2022/6/2/5407330/no_water.jpg', 'lcy_pictures/n1_20220602_3.jpg': 'https://image.news1.kr/system/photos/2022/6/2/5407328/no_water.jpg', 'lcy_pictures/n1_20220602_4.jpg': 'https://image.news1.kr/system/photos/2022/6/2/5407327/no_water.jpg', 'lcy_pictures/n1_20220602_5.jpg': 'https://image.news1.kr/system/photos/2022/6/2/5407326/no_water.jpg', 'lcy_pictures/n1_20220602_6.jpg': 'https://image.news1.kr/system/photos/2022/6/2/5407323/no_water.jpg', 'lcy_pictures/n1_20220602_7.jpg': 'https://image.news1.kr/system/photos/2022/6/2/5407322/no_water.jpg', 'lcy_pictures/n1_20220602_8.jpg': 'https://image.news1.kr/system/photos/2022/6/2/5407320/no_water.jpg', 'lcy_pictures/n1_20220602_9.jpg': 'https://image.news1.kr/system/photos/2022/6/2/5407319/no_water.jpg', 'lcy_pictures/n1_20220530_1.jpg': 'https://image.news1.kr/system/photos/2022/5/30/5401717/no_water.jpg', 'lcy_pictures/n1_20220530_2.jpg': 'https://image.news1.kr/system/photos/2022/5/30/5401712/no_water.jpg', 'lcy_pictures/n1_20220526_1.jpg': 'https://image.news1.kr/system/photos/2022/5/26/5393706/no_water.jpg', 'lcy_pictures/n1_20220526_2.jpg': 'https://image.news1.kr/system/photos/2022/5/26/5393707/no_water.jpg', 'lcy_pictures/n1_20220526_3.jpg': 'https://image.news1.kr/system/photos/2022/5/26/5393708/no_water.jpg', 'lcy_pictures/n1_20220526_4.jpg': 'https://image.news1.kr/system/photos/2022/5/26/5393709/no_water.jpg', 'lcy_pictures/n1_20220526_5.jpg': 'https://image.news1.kr/system/photos/2022/5/26/5393710/no_water.jpg', 'lcy_pictures/n1_20220526_6.jpg': 'https://image.news1.kr/system/photos/2022/5/26/5393711/no_water.jpg', 'lcy_pictures/n1_20220526_7.jpg': 'https://image.news1.kr/system/photos/2022/5/26/5393670/no_water.jpg', 'lcy_pictures/n1_20220526_8.jpg': 'https://image.news1.kr/system/photos/2022/5/26/5393669/no_water.jpg', 'lcy_pictures/n1_20220526_9.jpg': 'https://image.news1.kr/system/photos/2022/5/26/5393672/no_water.jpg', 'lcy_pictures/n1_20220526_10.jpg': 'https://image.news1.kr/system/photos/2022/5/26/5393667/no_water.jpg', 'lcy_pictures/n1_20220526_11.jpg': 'https://image.news1.kr/system/photos/2022/5/26/5393666/no_water.jpg', 'lcy_pictures/n1_20220526_12.jpg': 'https://image.news1.kr/system/photos/2022/5/26/5393664/no_water.jpg', 'lcy_pictures/n1_20220526_13.jpg': 'https://image.news1.kr/system/photos/2022/5/26/5393662/no_water.jpg', 'lcy_pictures/n1_20220526_14.jpg': 'https://image.news1.kr/system/photos/2022/5/26/5393657/no_water.jpg', 'lcy_pictures/n1_20220526_15.jpg': 'https://image.news1.kr/system/photos/2022/5/26/5393649/no_water.jpg', 'lcy_pictures/n1_20220526_16.jpg': 'https://image.news1.kr/system/photos/2022/5/26/5393594/no_water.jpg', 'lcy_pictures/n1_20220526_17.jpg': 'https://image.news1.kr/system/photos/2022/5/26/5393595/no_water.jpg', 'lcy_pictures/n1_20220526_18.jpg': 'https://image.news1.kr/system/photos/2022/5/26/5393593/no_water.jpg', 'lcy_pictures/n1_20220526_19.jpg': 'https://image.news1.kr/system/photos/2022/5/26/5393591/no_water.jpg', 'lcy_pictures/n1_20220526_20.jpg': 'https://image.news1.kr/system/photos/2022/5/26/5393065/no_water.jpg', 'lcy_pictures/n1_20220526_21.jpg': 'https://image.news1.kr/system/photos/2022/5/26/5393066/no_water.jpg', 'lcy_pictures/n1_20220526_22.jpg': 'https://image.news1.kr/system/photos/2022/5/26/5393061/no_water.jpg', 'lcy_pictures/n1_20220526_23.jpg': 'https://image.news1.kr/system/photos/2022/5/26/5393062/no_water.jpg', 'lcy_pictures/n1_20220526_24.jpg': 'https://image.news1.kr/system/photos/2022/5/26/5393063/no_water.jpg', 'lcy_pictures/n1_20220526_25.jpg': 'https://image.news1.kr/system/photos/2022/5/26/5393059/no_water.jpg', 'lcy_pictures/n1_20220526_26.jpg': 'https://image.news1.kr/system/photos/2022/5/26/5393057/no_water.jpg', 'lcy_pictures/n1_20220526_27.jpg': 'https://image.news1.kr/system/photos/2022/5/26/5393055/no_water.jpg', 'lcy_pictures/n1_20220526_28.jpg': 'https://image.news1.kr/system/photos/2022/5/26/5393053/no_water.jpg', 'lcy_pictures/n1_20220516_1.jpg': 'https://image.news1.kr/system/photos/2022/5/16/5371527/no_water.jpg', 'lcy_pictures/n1_20220516_2.jpg': 'https://image.news1.kr/system/photos/2022/5/16/5371529/no_water.jpg', 'lcy_pictures/n1_20220516_3.jpg': 'https://image.news1.kr/system/photos/2022/5/16/5371518/no_water.jpg', 'lcy_pictures/n1_20220516_4.jpg': 'https://image.news1.kr/system/photos/2022/5/16/5371516/no_water.jpg', 'lcy_pictures/n1_20220425_1.jpg': 'https://image.news1.kr/system/photos/2022/4/25/5336488/no_water.jpg', 'lcy_pictures/n1_20220425_2.jpg': 'https://image.news1.kr/system/photos/2022/4/25/5336489/no_water.jpg', 'lcy_pictures/n1_20220425_3.jpg': 'https://image.news1.kr/system/photos/2022/4/25/5336487/no_water.jpg', 'lcy_pictures/n1_20220425_4.jpg': 'https://image.news1.kr/system/photos/2022/4/25/5336490/no_water.jpg', 'lcy_pictures/n1_20220425_5.jpg': 'https://image.news1.kr/system/photos/2022/4/25/5336491/no_water.jpg', 'lcy_pictures/n1_20220425_6.jpg': 'https://image.news1.kr/system/photos/2022/4/25/5336493/no_water.jpg', 'lcy_pictures/n1_20220425_7.jpg': 'https://image.news1.kr/system/photos/2022/4/25/5336494/no_water.jpg', 'lcy_pictures/n1_20220425_8.jpg': 'https://image.news1.kr/system/photos/2022/4/25/5336486/no_water.jpg', 'lcy_pictures/n1_20220425_9.jpg': 'https://image.news1.kr/system/photos/2022/4/25/5336485/no_water.jpg', 'lcy_pictures/n1_20220425_10.jpg': 'https://image.news1.kr/system/photos/2022/4/25/5336497/no_water.jpg', 'lcy_pictures/n1_20220425_11.jpg': 'https://image.news1.kr/system/photos/2022/4/25/5336495/no_water.jpg', 'lcy_pictures/n1_20220425_12.jpg': 'https://image.news1.kr/system/photos/2022/4/25/5336484/no_water.jpg'}\n"
     ]
    }
   ],
   "source": [
    "with open('links_news1.pkl', 'rb') as f:\n",
    "    link_storage = pickle.load(f)\n",
    "\n",
    "print(link_storage)"
   ]
  },
  {
   "cell_type": "code",
   "execution_count": 12,
   "metadata": {},
   "outputs": [
    {
     "name": "stderr",
     "output_type": "stream",
     "text": [
      "100%|██████████| 779/779 [02:19<00:00,  5.58it/s]\n"
     ]
    }
   ],
   "source": [
    "for title, link in tqdm(link_storage.items()):\n",
    "    urllib.request.urlretrieve(link, title)"
   ]
  },
  {
   "cell_type": "markdown",
   "metadata": {},
   "source": [
    "아래는 다 백업용"
   ]
  },
  {
   "cell_type": "code",
   "execution_count": 27,
   "metadata": {},
   "outputs": [
    {
     "name": "stderr",
     "output_type": "stream",
     "text": [
      "100%|██████████| 777/777 [00:59<00:00, 12.97it/s] \n"
     ]
    }
   ],
   "source": [
    "\n",
    "\n",
    "driver = webdriver.Chrome()\n",
    "for link in tqdm(link_storage):\n",
    "    driver.implicitly_wait(2)\n",
    "    try:\n",
    "        driver.get(url=link)\n",
    "        description = driver.find_element(by=By.XPATH, value='//*[@id=\"content\"]/div[1]/div[1]/div[3]/article').text\n",
    "        image = driver.find_element(by=By.XPATH, value='//*[@id=\"content\"]/div[1]/div[1]/div[3]/article/div[2]/div/img').get_attribute(\"src\")\n",
    "                \n",
    "        date = re.findall(r\"([0-9]{4})\\.([0-9]{1,2})\\.([0-9]{1,2})\", description)\n",
    "        if date:\n",
    "            year = date[0][0]\n",
    "            month = date[0][1]\n",
    "            day = date[0][2]\n",
    "            title = f\"newsis_{year:0>4}{month:0>2}{day:0>2}.png\"\n",
    "            i = 0\n",
    "            while title in os.listdir(\"lcy_pictures\"):\n",
    "                i += 1\n",
    "                title = f\"newsis_{year:0>4}{month:0>2}{day:0>2}_{i}.png\"\n",
    "            full_title = f\"lcy_pictures/{title}\"\n",
    "            driver.get(url=image)\n",
    "            driver.save_screenshot(f\"lcy_pictures/{title}\")\n",
    "                    \n",
    "    except:\n",
    "        pass"
   ]
  },
  {
   "cell_type": "code",
   "execution_count": 39,
   "metadata": {},
   "outputs": [
    {
     "name": "stderr",
     "output_type": "stream",
     "text": [
      " 13%|█▎        | 100/777 [06:53<51:15,  4.54s/it] "
     ]
    }
   ],
   "source": [
    "import urllib\n",
    "from urllib.parse import urlparse\n",
    "with open(\"links_news1.pkl\", 'rb') as f:\n",
    "    link_storage = pickle.load(f)\n",
    "\n",
    "driver = webdriver.Chrome()\n",
    "for link in tqdm(link_storage):\n",
    "    driver.implicitly_wait(2)\n",
    "    try:\n",
    "        driver.get(url=link)\n",
    "        description = driver.find_element(by=By.XPATH, value='//*[@id=\"articles_detail\"]').text\n",
    "        image = driver.find_element(by=By.XPATH, value='//*[@id=\"article_body_content\"]/div[2]/div[1]/img').get_attribute(\"src\")\n",
    "                \n",
    "        date = re.findall(r\"([0-9]{4})\\.([0-9]{1,2})\\.([0-9]{1,2})\", description)\n",
    "        if date:\n",
    "            year = date[0][0]\n",
    "            month = date[0][1]\n",
    "            day = date[0][2]\n",
    "            try:\n",
    "                extension = os.path.splitext(urlparse(image).path)[1]\n",
    "            except:\n",
    "                extension = \".jpg\"\n",
    "            title = f\"n1_{year:0>4}{month:0>2}{day:0>2}_1{extension}\"\n",
    "            i = 1\n",
    "            while title in os.listdir(\"lcy_pictures\"):\n",
    "                i += 1\n",
    "                title = f\"n1_{year:0>4}{month:0>2}{day:0>2}_{i}{extension}\"\n",
    "            full_title = f\"lcy_pictures/{title}\"\n",
    "            urllib.request.urlretrieve(image, full_title)              \n",
    "    except:\n",
    "        pass"
   ]
  },
  {
   "cell_type": "code",
   "execution_count": 12,
   "metadata": {},
   "outputs": [
    {
     "data": {
      "text/plain": [
       "('test.jpg', <http.client.HTTPMessage at 0x23e1775c490>)"
      ]
     },
     "execution_count": 12,
     "metadata": {},
     "output_type": "execute_result"
    }
   ],
   "source": [
    "import urllib\n",
    "urllib.request.urlretrieve(\"https://image.news1.kr/system/photos/2022/7/19/5484658/article.jpg\", \"test.jpg\")"
   ]
  }
 ],
 "metadata": {
  "kernelspec": {
   "display_name": "base",
   "language": "python",
   "name": "python3"
  },
  "language_info": {
   "codemirror_mode": {
    "name": "ipython",
    "version": 3
   },
   "file_extension": ".py",
   "mimetype": "text/x-python",
   "name": "python",
   "nbconvert_exporter": "python",
   "pygments_lexer": "ipython3",
   "version": "3.9.13"
  }
 },
 "nbformat": 4,
 "nbformat_minor": 2
}
