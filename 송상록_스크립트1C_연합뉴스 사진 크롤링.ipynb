{
 "cells": [
  {
   "cell_type": "code",
   "execution_count": 5,
   "metadata": {},
   "outputs": [],
   "source": [
    "from selenium import webdriver\n",
    "from selenium.webdriver.common.keys import Keys\n",
    "from selenium.webdriver.common.by import By\n",
    "import re\n",
    "import os\n",
    "from urllib.request import urlretrieve\n",
    "import pickle\n",
    "from tqdm import tqdm\n",
    "\n"
   ]
  },
  {
   "cell_type": "code",
   "execution_count": 5,
   "metadata": {},
   "outputs": [
    {
     "name": "stderr",
     "output_type": "stream",
     "text": [
      "  7%|▋         | 1/15 [00:02<00:35,  2.56s/it]"
     ]
    },
    {
     "name": "stdout",
     "output_type": "stream",
     "text": [
      "Page 1\n"
     ]
    },
    {
     "name": "stderr",
     "output_type": "stream",
     "text": [
      " 13%|█▎        | 2/15 [00:04<00:25,  1.97s/it]"
     ]
    },
    {
     "name": "stdout",
     "output_type": "stream",
     "text": [
      "Page 2\n"
     ]
    },
    {
     "name": "stderr",
     "output_type": "stream",
     "text": [
      " 20%|██        | 3/15 [00:05<00:23,  1.92s/it]"
     ]
    },
    {
     "name": "stdout",
     "output_type": "stream",
     "text": [
      "Page 3\n"
     ]
    },
    {
     "name": "stderr",
     "output_type": "stream",
     "text": [
      " 27%|██▋       | 4/15 [00:07<00:20,  1.90s/it]"
     ]
    },
    {
     "name": "stdout",
     "output_type": "stream",
     "text": [
      "Page 4\n"
     ]
    },
    {
     "name": "stderr",
     "output_type": "stream",
     "text": [
      " 33%|███▎      | 5/15 [00:09<00:18,  1.82s/it]"
     ]
    },
    {
     "name": "stdout",
     "output_type": "stream",
     "text": [
      "Page 5\n"
     ]
    },
    {
     "name": "stderr",
     "output_type": "stream",
     "text": [
      " 40%|████      | 6/15 [00:11<00:15,  1.72s/it]"
     ]
    },
    {
     "name": "stdout",
     "output_type": "stream",
     "text": [
      "Page 6\n"
     ]
    },
    {
     "name": "stderr",
     "output_type": "stream",
     "text": [
      " 47%|████▋     | 7/15 [00:12<00:14,  1.75s/it]"
     ]
    },
    {
     "name": "stdout",
     "output_type": "stream",
     "text": [
      "Page 7\n"
     ]
    },
    {
     "name": "stderr",
     "output_type": "stream",
     "text": [
      " 53%|█████▎    | 8/15 [00:14<00:12,  1.79s/it]"
     ]
    },
    {
     "name": "stdout",
     "output_type": "stream",
     "text": [
      "Page 8\n"
     ]
    },
    {
     "name": "stderr",
     "output_type": "stream",
     "text": [
      " 60%|██████    | 9/15 [00:16<00:09,  1.67s/it]"
     ]
    },
    {
     "name": "stdout",
     "output_type": "stream",
     "text": [
      "Page 9\n"
     ]
    },
    {
     "name": "stderr",
     "output_type": "stream",
     "text": [
      " 67%|██████▋   | 10/15 [00:17<00:07,  1.60s/it]"
     ]
    },
    {
     "name": "stdout",
     "output_type": "stream",
     "text": [
      "Page 10\n"
     ]
    },
    {
     "name": "stderr",
     "output_type": "stream",
     "text": [
      " 73%|███████▎  | 11/15 [00:20<00:07,  1.87s/it]"
     ]
    },
    {
     "name": "stdout",
     "output_type": "stream",
     "text": [
      "Page 11\n"
     ]
    },
    {
     "name": "stderr",
     "output_type": "stream",
     "text": [
      " 80%|████████  | 12/15 [00:22<00:05,  1.89s/it]"
     ]
    },
    {
     "name": "stdout",
     "output_type": "stream",
     "text": [
      "Page 12\n"
     ]
    },
    {
     "name": "stderr",
     "output_type": "stream",
     "text": [
      " 87%|████████▋ | 13/15 [00:23<00:03,  1.86s/it]"
     ]
    },
    {
     "name": "stdout",
     "output_type": "stream",
     "text": [
      "Page 13\n"
     ]
    },
    {
     "name": "stderr",
     "output_type": "stream",
     "text": [
      " 93%|█████████▎| 14/15 [00:25<00:01,  1.74s/it]"
     ]
    },
    {
     "name": "stdout",
     "output_type": "stream",
     "text": [
      "Page 14\n"
     ]
    },
    {
     "name": "stderr",
     "output_type": "stream",
     "text": [
      "100%|██████████| 15/15 [00:27<00:00,  1.83s/it]"
     ]
    },
    {
     "name": "stdout",
     "output_type": "stream",
     "text": [
      "Page 15\n",
      "['https://www.yna.co.kr/view/AKR20240321016500002?section=search', 'https://www.yna.co.kr/view/AKR20240306130100002?section=search', 'https://www.yna.co.kr/view/AKR20240222098400002?section=search', 'https://www.yna.co.kr/view/AKR20240213071700002?section=search', 'https://www.yna.co.kr/view/AKR20240206123200002?section=search', 'https://www.yna.co.kr/view/AKR20240201076000002?section=search', 'https://www.yna.co.kr/view/AKR20240201063351003?section=search', 'https://www.yna.co.kr/view/AKR20240201063300003?section=search', 'https://www.yna.co.kr/view/AKR20240131143500002?section=search', 'https://www.yna.co.kr/view/AKR20240111096200002?section=search', 'https://www.yna.co.kr/view/AKR20240103097400002?section=search', 'https://www.yna.co.kr/view/AKR20231215033500002?section=search', 'https://www.yna.co.kr/view/AKR20231130108100002?section=search', 'https://www.yna.co.kr/view/AKR20231115046500002?section=search', 'https://www.yna.co.kr/view/AKR20231109045300002?section=search', 'https://www.yna.co.kr/view/AKR20231031168800054?section=search', 'https://www.yna.co.kr/view/AKR20231023100800002?section=search', 'https://www.yna.co.kr/view/AKR20231023099200002?section=search', 'https://www.yna.co.kr/view/AKR20231023066500002?section=search', 'https://www.yna.co.kr/view/AKR20231019098200002?section=search', 'https://www.yna.co.kr/view/AKR20231019091800002?section=search', 'https://www.yna.co.kr/view/AKR20231019089000002?section=search', 'https://www.yna.co.kr/view/AKR20231019083500002?section=search', 'https://www.yna.co.kr/view/AKR20231019079500002?section=search', 'https://www.yna.co.kr/view/AKR20231013002700002?section=search', 'https://www.yna.co.kr/view/AKR20231012152700002?section=search', 'https://www.yna.co.kr/view/AKR20231011162700002?section=search', 'https://www.yna.co.kr/view/AKR20230925093700002?section=search', 'https://www.yna.co.kr/view/AKR20230907043700002?section=search', 'https://www.yna.co.kr/view/AKR20230824098800002?section=search', 'https://www.yna.co.kr/view/AKR20230824089351002?section=search', 'https://www.yna.co.kr/view/AKR20230824089300002?section=search', 'https://www.yna.co.kr/view/AKR20230824088400002?section=search', 'https://www.yna.co.kr/view/AKR20230824084100002?section=search', 'https://www.yna.co.kr/view/AKR20230824080100002?section=search', 'https://www.yna.co.kr/view/AKR20230822064600002?section=search', 'https://www.yna.co.kr/view/AKR20230821150200001?section=search', 'https://www.yna.co.kr/view/AKR20230723044400002?section=search', 'https://www.yna.co.kr/view/AKR20230721048800002?section=search', 'https://www.yna.co.kr/view/AKR20230713108600002?section=search', 'https://www.yna.co.kr/view/AKR20230713082851002?section=search', 'https://www.yna.co.kr/view/AKR20230713090100002?section=search', 'https://www.yna.co.kr/view/AKR20230713089200002?section=search', 'https://www.yna.co.kr/view/AKR20230713086400002?section=search', 'https://www.yna.co.kr/view/AKR20230713082800002?section=search', 'https://www.yna.co.kr/view/AKR20230621048500002?section=search', 'https://www.yna.co.kr/view/AKR20230620036500002?section=search', 'https://www.yna.co.kr/view/AKR20230612024600002?section=search', 'https://www.yna.co.kr/view/AKR20230526054100002?section=search', 'https://www.yna.co.kr/view/AKR20230525106900002?section=search', 'https://www.yna.co.kr/view/AKR20230525083151002?section=search', 'https://www.yna.co.kr/view/AKR20230525087900002?section=search', 'https://www.yna.co.kr/view/AKR20230525083100002?section=search', 'https://www.yna.co.kr/view/AKR20230522141200002?section=search', 'https://www.yna.co.kr/view/AKR20230522127000002?section=search', 'https://www.yna.co.kr/view/AKR20230522123000002?section=search', 'https://www.yna.co.kr/view/AKR20230503142000002?section=search', 'https://www.yna.co.kr/view/AKR20230503044700009?section=search', 'https://www.yna.co.kr/view/AKR20230430031600002?section=search', 'https://www.yna.co.kr/view/AKR20230418064000002?section=search', 'https://www.yna.co.kr/view/AKR20230416022500002?section=search', 'https://www.yna.co.kr/view/AKR20230415023251071?section=search', 'https://www.yna.co.kr/view/AKR20230415023200071?section=search', 'https://www.yna.co.kr/view/AKR20230414035300002?section=search', 'https://www.yna.co.kr/view/AKR20230414006100002?section=search', 'https://www.yna.co.kr/view/AKR20230411095700002?section=search', 'https://www.yna.co.kr/view/AKR20230411087351002?section=search', 'https://www.yna.co.kr/view/AKR20230411087300002?section=search', 'https://www.yna.co.kr/view/AKR20230411083700002?section=search', 'https://www.yna.co.kr/view/AKR20230411077700002?section=search', 'https://www.yna.co.kr/view/AKR20230408037300002?section=search', 'https://www.yna.co.kr/view/AKR20230329144900002?section=search', 'https://www.yna.co.kr/view/AKR20230309050900002?section=search', 'https://www.yna.co.kr/view/AKR20230224146800002?section=search', 'https://www.yna.co.kr/view/AKR20230223097000002?section=search', 'https://www.yna.co.kr/view/AKR20230223082251002?section=search', 'https://www.yna.co.kr/view/AKR20230223090900002?section=search', 'https://www.yna.co.kr/view/AKR20230223087300002?section=search', 'https://www.yna.co.kr/view/AKR20230223082200002?section=search', 'https://www.yna.co.kr/view/AKR20230222046000002?section=search', 'https://www.yna.co.kr/view/AKR20230206140400054?section=search', 'https://www.yna.co.kr/view/AKR20230119148751002?section=search', 'https://www.yna.co.kr/view/AKR20230118123851002?section=search', 'https://www.yna.co.kr/view/AKR20230118123800002?section=search', 'https://www.yna.co.kr/view/AKR20230113084900002?section=search', 'https://www.yna.co.kr/view/AKR20230113073151002?section=search', 'https://www.yna.co.kr/view/AKR20230113077600002?section=search', 'https://www.yna.co.kr/view/AKR20230113073100002?section=search', 'https://www.yna.co.kr/view/AKR20230113069400002?section=search', 'https://www.yna.co.kr/view/AKR20230105047500002?section=search', 'https://www.yna.co.kr/view/AKR20221220081200002?section=search', 'https://www.yna.co.kr/view/AKR20221220049853002?section=search', 'https://www.yna.co.kr/view/AKR20221220049852002?section=search', 'https://www.yna.co.kr/view/AKR20221220049851002?section=search', 'https://www.yna.co.kr/view/AKR20221220049800002?section=search', 'https://www.yna.co.kr/view/AKR20221130169600009?section=search', 'https://www.yna.co.kr/view/AKR20221130061700002?section=search', 'https://www.yna.co.kr/view/AKR20221128051000003?section=search', 'https://www.yna.co.kr/view/AKR20221124107300002?section=search', 'https://www.yna.co.kr/view/AKR20221124093300002?section=search', 'https://www.yna.co.kr/view/AKR20221124091100002?section=search', 'https://www.yna.co.kr/view/AKR20221111057100002?section=search', 'https://www.yna.co.kr/view/AKR20221111026800002?section=search', 'https://www.yna.co.kr/view/AKR20221014120900002?section=search', 'https://www.yna.co.kr/view/AKR20221012100200002?section=search', 'https://www.yna.co.kr/view/AKR20221012089700002?section=search', 'https://www.yna.co.kr/view/AKR20220907074400002?section=search', 'https://www.yna.co.kr/view/AKR20220830049100002?section=search', 'https://www.yna.co.kr/view/AKR20220829045900009?section=search', 'https://www.yna.co.kr/view/AKR20220826148551002?section=search', 'https://www.yna.co.kr/view/AKR20220826148500002?section=search', 'https://www.yna.co.kr/view/AKR20220825122000002?section=search', 'https://www.yna.co.kr/view/AKR20220825092200002?section=search', 'https://www.yna.co.kr/view/AKR20220825089100002?section=search', 'https://www.yna.co.kr/view/AKR20220825086100002?section=search', 'https://www.yna.co.kr/view/AKR20220805066100002?section=search', 'https://www.yna.co.kr/view/AKR20220728161900001?section=search', 'https://www.yna.co.kr/view/AKR20220719131300002?section=search', 'https://www.yna.co.kr/view/AKR20220719107400002?section=search', 'https://www.yna.co.kr/view/AKR20220718118800002?section=search', 'https://www.yna.co.kr/view/AKR20220713153451002?section=search', 'https://www.yna.co.kr/view/AKR20220713153400002?section=search', 'https://www.yna.co.kr/view/AKR20220713097351002?section=search', 'https://www.yna.co.kr/view/AKR20220713097300002?section=search', 'https://www.yna.co.kr/view/AKR20220713024200002?section=search', 'https://www.yna.co.kr/view/AKR20220630184800002?section=search', 'https://www.yna.co.kr/view/AKR20220623070100002?section=search', 'https://www.yna.co.kr/view/AKR20220622058600002?section=search', 'https://www.yna.co.kr/view/AKR20220621084400002?section=search', 'https://www.yna.co.kr/view/AKR20220616039500002?section=search', 'https://www.yna.co.kr/view/AKR20220609143100002?section=search', 'https://www.yna.co.kr/view/AKR20220602056351002?section=search', 'https://www.yna.co.kr/view/AKR20220602056300002?section=search', 'https://www.yna.co.kr/view/AKR20220530091852002?section=search', 'https://www.yna.co.kr/view/AKR20220530091851002?section=search', 'https://www.yna.co.kr/view/AKR20220530091800002?section=search', 'https://www.yna.co.kr/view/AKR20220526101700002?section=search', 'https://www.yna.co.kr/view/AKR20220526092951002?section=search', 'https://www.yna.co.kr/view/AKR20220526092900002?section=search', 'https://www.yna.co.kr/view/AKR20220525148100002?section=search', 'https://www.yna.co.kr/view/AKR20220516031051002?section=search', 'https://www.yna.co.kr/view/AKR20220516016851002?section=search', 'https://www.yna.co.kr/view/AKR20220516031000002?section=search', 'https://www.yna.co.kr/view/AKR20220516016800002?section=search', 'https://www.yna.co.kr/view/AKR20220513143300002?section=search', 'https://www.yna.co.kr/view/AKR20220510059600002?section=search', 'https://www.yna.co.kr/view/AKR20220425121851002?section=search', 'https://www.yna.co.kr/view/AKR20220425121800002?section=search']\n"
     ]
    },
    {
     "name": "stderr",
     "output_type": "stream",
     "text": [
      "\n"
     ]
    }
   ],
   "source": [
    "driver = webdriver.Chrome()\n",
    "link_storage = []\n",
    "\n",
    "for step in tqdm(range(1, 16)):\n",
    "    driver.get(url=f\"https://www.yna.co.kr/search/index?query=%EC%9D%B4%EC%B0%BD%EC%9A%A9&ctype=A&scope=title&from=20220422&to=20240408&period=diy&page_no={step}\")\n",
    "    pagenum = driver.find_element(by=By.CSS_SELECTOR, value=\"div.paging_search.dis_none a.bbb\").text\n",
    "    print(f\"Page {pagenum}\")\n",
    "    news_links = driver.find_elements(by=By.CSS_SELECTOR, value=\"div.cts_atclst ul li a\")\n",
    "    for l in news_links:\n",
    "        link_storage.append(l.get_attribute(\"href\"))\n",
    "\n",
    "with open('links_yh.pkl', 'wb') as f:\n",
    "    pickle.dump(link_storage, f)\n",
    "    \n",
    "print(link_storage)"
   ]
  },
  {
   "cell_type": "code",
   "execution_count": 6,
   "metadata": {},
   "outputs": [
    {
     "name": "stderr",
     "output_type": "stream",
     "text": [
      "100%|██████████| 148/148 [06:55<00:00,  2.81s/it]\n"
     ]
    }
   ],
   "source": [
    "with open(\"links_yh.pkl\", 'rb') as f:\n",
    "    news_links = pickle.load(f)\n",
    "    \n",
    "driver = webdriver.Chrome()\n",
    "\n",
    "for link in tqdm(news_links):\n",
    "    driver.implicitly_wait(2)\n",
    "    try:\n",
    "        driver.get(url=link)\n",
    "        description = driver.find_element(by=By.CSS_SELECTOR, value=\"figure > figcaption > p.txt-desc\").text\n",
    "        image = driver.find_element(by=By.CSS_SELECTOR, value=\"figure > div > span > img\").get_attribute(\"src\")\n",
    "            \n",
    "        date = re.findall(r\"([0-9]{4})\\.([0-9]{1,2})\\.([0-9]{1,2})\", description)\n",
    "        if date:\n",
    "            year = date[0][0]\n",
    "            month = date[0][1]\n",
    "            day = date[0][2]\n",
    "            title = f\"yh_{year:0>4}{month:0>2}{day:0>2}_1.png\"\n",
    "            i = 1\n",
    "            while title in os.listdir(\"lcy_pictures\"):\n",
    "                i += 1\n",
    "                title = f\"yh_{year:0>4}{month:0>2}{day:0>2}_{i}.png\"\n",
    "            driver.get(url=image)\n",
    "            full_title = f\"lcy_pictures/{title}\"\n",
    "            driver.save_screenshot(f\"lcy_pictures/{title}\")             \n",
    "    except:\n",
    "        pass"
   ]
  }
 ],
 "metadata": {
  "kernelspec": {
   "display_name": "Python 3",
   "language": "python",
   "name": "python3"
  },
  "language_info": {
   "codemirror_mode": {
    "name": "ipython",
    "version": 3
   },
   "file_extension": ".py",
   "mimetype": "text/x-python",
   "name": "python",
   "nbconvert_exporter": "python",
   "pygments_lexer": "ipython3",
   "version": "3.9.13"
  }
 },
 "nbformat": 4,
 "nbformat_minor": 2
}
